{
 "cells": [
  {
   "cell_type": "markdown",
   "id": "8ea6d5e6",
   "metadata": {
    "id": "8ea6d5e6"
   },
   "source": [
    "## Set-up"
   ]
  },
  {
   "cell_type": "code",
   "execution_count": null,
   "id": "uxOA715PZ8pG",
   "metadata": {
    "id": "uxOA715PZ8pG"
   },
   "outputs": [],
   "source": [
    "# import packages needed for computation\n",
    "\n",
    "import numpy as np\n",
    "import matplotlib.pyplot as plt\n",
    "from scipy.sparse import coo_matrix, identity\n",
    "from scipy.sparse.linalg import spsolve\n",
    "import time\n",
    "from numba import cuda"
   ]
  },
  {
   "cell_type": "code",
   "execution_count": null,
   "id": "8szxt_n4MPD1",
   "metadata": {
    "id": "8szxt_n4MPD1"
   },
   "outputs": [],
   "source": [
    "# define a timer for monitoring execution times\n",
    "\n",
    "class Timer:    \n",
    "    def __enter__(self):\n",
    "        self.start = time.time()\n",
    "        return self\n",
    "\n",
    "    def __exit__(self, *args):\n",
    "        self.end = time.time()\n",
    "        self.interval = self.end - self.start"
   ]
  },
  {
   "cell_type": "markdown",
   "id": "dc72617b",
   "metadata": {
    "id": "dc72617b"
   },
   "source": [
    "## Explicit method: Forward Euler"
   ]
  },
  {
   "cell_type": "markdown",
   "id": "Y6tSxEKn2Tuq",
   "metadata": {
    "id": "Y6tSxEKn2Tuq"
   },
   "source": [
    "### Implement a finite difference scheme with the explicit time-stepping supported by the Forward Euler method."
   ]
  },
  {
   "cell_type": "markdown",
   "id": "77999243",
   "metadata": {
    "id": "77999243"
   },
   "source": [
    "For the explicit time stepping I will use the Forward Euler method which gives\n",
    "\n",
    "$u_{n+1} = u_n + \\Delta tf(u_n, t_n)$. In this assignment $f = u_t = \\Delta u,$ then  $u_{n+1} = u_n + \\Delta t \\Delta u_n$\n",
    "\n",
    "To solve this problem we consider a discretisation based on the finite difference method. Let $x_i=ih$ with $h = \\frac{2}{N-1}$ where $i = 0,...,N-1$, then we can find the approximation of $\\Delta u_n(i,j)$ by \n",
    "\n",
    "$\\Delta u_n(i,j)=-[4u_n(i,j)-u_n(i-1,j)-u_n(i+1,j)-u_n(i,j-1)-u_n(i,j+1)]/h^2$\n",
    "\n",
    "Finally, the time-stepping problem becomes \n",
    "\n",
    "$u_{n+1}(i,j) = u_n(i,j) - C[4u_n(i,j)-u_n(i-1,j)-u_n(i+1,j)-u_n(i,j-1)-u_n(i,j+1)]$ where $C=\\frac{\\Delta t}{h^2}.$\n",
    "\n",
    "From the lecture, for the stability of the Forward Euler method for 1-D problem where $u_t=u_{xx},$ then $C=\\frac{\\Delta t}{h^2} \\lesssim \\frac{1}{2}$. \n",
    "\n",
    "In this case which is a 2-D problem, $u_t=u_{xx}+u_{yy},$ the condition becomes $C=\\frac{\\Delta t}{h^2} \\lesssim \\frac{1}{4}.$ \n",
    "\n",
    "For simplification, set the time steps as M, then $\\Delta t=\\frac{1}{M-1}$. With $h = \\frac{2}{N-1},$ $C=\\frac{\\Delta t}{h^2}=\\frac{(N-1)^2}{4(M-1)}.$\n"
   ]
  },
  {
   "cell_type": "code",
   "execution_count": null,
   "id": "fAKxKAmjklxA",
   "metadata": {
    "id": "fAKxKAmjklxA"
   },
   "outputs": [],
   "source": [
    "# Define a function to execute the Forward Euler method by GPU\n",
    "\n",
    "@cuda.jit\n",
    "def forward_euler_gpu(u, u_n1):\n",
    "  i, j = cuda.grid(2)\n",
    "  if 0 < i < u.shape[0]-1 and 0 < j < u.shape[1]-1:\n",
    "    u_n1[i,j] = u[i,j] - C*(4*u[i, j] - u[i-1,j] - u[i+1,j] - u[i,j-1] - u[i,j+1])"
   ]
  },
  {
   "cell_type": "code",
   "execution_count": null,
   "id": "yoAevbjBW5iX",
   "metadata": {
    "colab": {
     "base_uri": "https://localhost:8080/",
     "height": 517
    },
    "id": "yoAevbjBW5iX",
    "outputId": "91c107df-e467-4264-c117-adff1e91400f"
   },
   "outputs": [
    {
     "name": "stdout",
     "output_type": "stream",
     "text": [
      "N: 51, M: 10001, C: 0.0625\n",
      "t_star: 0.105900000000002\n",
      "t_actual: 0.424011387033\n",
      "Relative error: 0.7502425565949247\n",
      "Time cost: 0.6774048805236816 s\n",
      "\n",
      "\n"
     ]
    },
    {
     "data": {
      "text/plain": [
       "<matplotlib.colorbar.Colorbar at 0x7f0d9c0fbf50>"
      ]
     },
     "execution_count": 5,
     "metadata": {},
     "output_type": "execute_result"
    },
    {
     "data": {
      "image/png": "[encoded data removed]",
      "text/plain": [
       "<Figure size 576x432 with 2 Axes>"
      ]
     },
     "metadata": {},
     "output_type": "display_data"
    }
   ],
   "source": [
    "# Execute the Forward Euler method for certain values of N and M to check the accuracy\n",
    "\n",
    "N = 51\n",
    "M = 10001\n",
    "t_actual = 0.424011387033\n",
    "\n",
    "u = np.zeros((N,N), dtype = np.float64)\n",
    "u[-1,:] = np.float32(5)\n",
    "u_n1 = np.copy(u)\n",
    "dt = 1/(M-1)\n",
    "dx = 2/(N-1)\n",
    "\n",
    "C = (N-1)**2/(4*(M-1))\n",
    "u_global_mem = cuda.to_device(u)\n",
    "u_n1_global_mem = cuda.to_device(u_n1)\n",
    "\n",
    "SX = 16\n",
    "SY = 16\n",
    "nblocks = int(np.ceil(N/SX))\n",
    "        \n",
    "t_star = 0\n",
    "with Timer() as t:\n",
    "  while u_global_mem[(N-1)//2,(N-1)//2] < 1.0:\n",
    "    t_star += dt\n",
    "    u_n1_global_mem = cuda.to_device(u_n1)\n",
    "    forward_euler_gpu[(nblocks,nblocks), (SX,SY)](u_global_mem,u_n1_global_mem)\n",
    "    u_global_mem = u_n1_global_mem\n",
    "\n",
    "u = u_n1_global_mem.copy_to_host()\n",
    "\n",
    "rel_err = abs(t_star-t_actual)/abs(t_actual)     \n",
    "print(f\"N: {N}, M: {M}, C: {C}\")\n",
    "print(f\"t_star: {t_star}\")\n",
    "print(f\"t_actual: {t_actual}\")      \n",
    "print(f\"Relative error: {rel_err}\")\n",
    "print(\"Time cost: {0} s\".format(t.interval))\n",
    "print(\"\\n\")\n",
    "plt.figure(figsize=(8,6))\n",
    "plt.imshow(u, extent=(-1, 1, -1, 1), cmap='hot')\n",
    "plt.colorbar()"
   ]
  },
  {
   "cell_type": "markdown",
   "id": "WWEB84iL5yFf",
   "metadata": {
    "id": "WWEB84iL5yFf"
   },
   "source": [
    "### By increasing the number of discretisation points demonstrate how many correct digits you can achieve."
   ]
  },
  {
   "cell_type": "markdown",
   "id": "0A1lbHYa57Up",
   "metadata": {
    "id": "0A1lbHYa57Up"
   },
   "source": [
    "In order to research how the number of discretisation points $N$ and the number of time-steps $M$ influence the number of correct digits, I set a list of $C$ for every certain $N$ provided that when $C$ and $N$ is specified $M$ is a certain number with $C=\\frac{\\Delta t}{h^2}=\\frac{(N-1)^2}{4(M-1)}.$ \n",
    "\n",
    "For the stability of the Forward Euler method, I set $C$ to be less than or equal to 0.25 as mentioned above."
   ]
  },
  {
   "cell_type": "code",
   "execution_count": null,
   "id": "569a2324",
   "metadata": {
    "colab": {
     "base_uri": "https://localhost:8080/"
    },
    "id": "569a2324",
    "outputId": "5cb6bb22-fd21-45d5-b5f4-77182ac6e638"
   },
   "outputs": [
    {
     "name": "stdout",
     "output_type": "stream",
     "text": [
      "N = 11\n",
      "t_actual = 0.424011387033\n",
      "+---------+-----+---------------------+\n",
      "| C       | M   | t_star              |\n",
      "+---------+-----+---------------------+\n",
      "| 0.25    | 101 | 0.4200000000000003  |\n",
      "| 0.125   | 201 | 0.4200000000000003  |\n",
      "| 0.0625  | 401 | 0.4225000000000003  |\n",
      "| 0.03125 | 801 | 0.42374999999999646 |\n",
      "+---------+-----+---------------------+\n",
      "Time cost: 1.2161285877227783 s\n",
      "\n",
      "\n",
      "N = 101\n",
      "t_actual = 0.424011387033\n",
      "+---------+-------+---------------------+\n",
      "| C       | M     | t_star              |\n",
      "+---------+-------+---------------------+\n",
      "| 0.25    | 10001 | 0.4239999999999696  |\n",
      "| 0.125   | 20001 | 0.42399999999996146 |\n",
      "| 0.0625  | 40001 | 0.4239999999999574  |\n",
      "| 0.03125 | 80001 | 0.4240000000003417  |\n",
      "+---------+-------+---------------------+\n",
      "Time cost: 43.42120933532715 s\n",
      "\n",
      "\n",
      "N = 201\n",
      "t_actual = 0.424011387033\n",
      "+---------+--------+---------------------+\n",
      "| C       | M      | t_star              |\n",
      "+---------+--------+---------------------+\n",
      "| 0.25    | 40001  | 0.4239999999999574  |\n",
      "| 0.125   | 80001  | 0.4240000000003417  |\n",
      "| 0.0625  | 160001 | 0.4240062499998455  |\n",
      "| 0.03125 | 320001 | 0.42400937499942865 |\n",
      "+---------+--------+---------------------+\n",
      "Time cost: 192.81513571739197 s\n",
      "\n",
      "\n",
      "N = 301\n",
      "t_actual = 0.424011387033\n",
      "+---------+--------+---------------------+\n",
      "| C       | M      | t_star              |\n",
      "+---------+--------+---------------------+\n",
      "| 0.25    | 90001  | 0.42400000000018123 |\n",
      "| 0.125   | 180001 | 0.4240111111106621  |\n",
      "| 0.0625  | 360001 | 0.4240111111118958  |\n",
      "| 0.03125 | 720001 | 0.42401111111289236 |\n",
      "+---------+--------+---------------------+\n",
      "Time cost: 533.7136478424072 s\n",
      "\n",
      "\n"
     ]
    }
   ],
   "source": [
    "# set a list of N and C to research how the number of discretisation points N and time-steps M influence correct digits\n",
    "\n",
    "t_actual = 0.424011387033\n",
    "N_list = [11,101,201,301]\n",
    "C_list = [0.25,0.125,0.0625,0.03125]\n",
    "\n",
    "for N in N_list:\n",
    "\n",
    "  print(f\"N = {N}\", end=\"\\n\")\n",
    "  print(f\"t_actual = {t_actual}\")\n",
    "\n",
    "  t_exe = 0\n",
    "  table = PrettyTable([\"C\",\"M\",\"t_star\"],align = 'l')\n",
    "\n",
    "  for C in C_list:\n",
    "\n",
    "    @cuda.jit\n",
    "    def forward_euler_gpu(u, u_n1):\n",
    "      i, j = cuda.grid(2)\n",
    "      if 0 < i < u.shape[0]-1 and 0 < j < u.shape[1]-1:\n",
    "        u_n1[i,j] = u[i,j] - C*(4*u[i, j] - u[i-1,j] - u[i+1,j] - u[i,j-1] - u[i,j+1])\n",
    "\n",
    "    table_data = []\n",
    "    u = np.zeros((N,N), dtype = np.float64)\n",
    "    u[0,:] = np.float32(5)\n",
    "    u_n1 = np.copy(u)\n",
    "    dx = 2/(N-1)\n",
    "    dt = C*dx**2\n",
    "    M = round(1/dt + 1)\n",
    "    table_data.append(C)\n",
    "    table_data.append(M)\n",
    "\n",
    "    u_global_mem = cuda.to_device(u)\n",
    "    u_n1_global_mem = cuda.to_device(u_n1)\n",
    "\n",
    "    SX = 16\n",
    "    SY = 16\n",
    "    nblocks = int(np.ceil(N/SX))\n",
    "        \n",
    "    t_star = 0\n",
    "    with Timer() as t:\n",
    "        while u_global_mem[(N-1)//2,(N-1)//2] < 1.0:\n",
    "          t_star += dt\n",
    "          u_n1_global_mem = cuda.to_device(u_n1)\n",
    "          forward_euler_gpu[(nblocks,nblocks), (SX,SY)](u_global_mem,u_n1_global_mem)\n",
    "          u_global_mem = u_n1_global_mem\n",
    "    t_exe += t.interval\n",
    "      \n",
    "    rel_err = abs(t_star-t_actual)/abs(t_actual)\n",
    "    table_data.append(t_star)\n",
    "    table.add_row(table_data)\n",
    "    \n",
    "  print(table)\n",
    "  print(f\"Time cost: {t_exe} s\")\n",
    "  print(\"\\n\")\n",
    "\n"
   ]
  },
  {
   "cell_type": "markdown",
   "id": "jdbTBEGcEP3s",
   "metadata": {
    "id": "jdbTBEGcEP3s"
   },
   "source": [
    "From the output, we can find when $C$ is certain, as the number of discretisation points $N$ increases, we get more correct digits. Here the most number of correct digits we get is $6$. Furthermore, when N is certain, the number of correct digits will grow as $C$ diceases namely the number of time steps increases. In conclusion, the number of correct digits is relevant to the discretisation points and time steps. When $C$ is certain, the smaller $\\Delta t$ and $h$ is, the more correct digits we can get."
   ]
  },
  {
   "cell_type": "markdown",
   "id": "mhSFdIsMLnof",
   "metadata": {
    "id": "mhSFdIsMLnof"
   },
   "source": [
    "### Plot the convergence of the computed time  𝑡∗  against the actual time."
   ]
  },
  {
   "cell_type": "markdown",
   "id": "dc0_LrEALutE",
   "metadata": {
    "id": "dc0_LrEALutE"
   },
   "source": [
    "In order to observe a better convergence trend, I plot two graphs respectively against $N$ and $M$. With the same aim, for either of the two graphs, I set the other factor than the x-axis to be a certain value. "
   ]
  },
  {
   "cell_type": "markdown",
   "id": "215t2WJCM-T0",
   "metadata": {
    "id": "215t2WJCM-T0"
   },
   "source": [
    "For the convergence plot against $N$, when $M$ is specified as $100001$ the maximum value of $N$ is about $317$ according to the stability condition  $C=\\frac{\\Delta t}{h^2} \\lesssim \\frac{1}{4}.$ "
   ]
  },
  {
   "cell_type": "code",
   "execution_count": null,
   "id": "M-4hGcswAqLM",
   "metadata": {
    "colab": {
     "base_uri": "https://localhost:8080/",
     "height": 577
    },
    "id": "M-4hGcswAqLM",
    "outputId": "d7980bda-9afd-469d-f14b-20ab8d4fb0f9"
   },
   "outputs": [
    {
     "data": {
      "image/png": "[encoded data removed]",
      "text/plain": [
       "<Figure size 432x288 with 1 Axes>"
      ]
     },
     "metadata": {},
     "output_type": "display_data"
    },
    {
     "data": {
      "image/png": "[encoded data removed]",
      "text/plain": [
       "<Figure size 432x288 with 1 Axes>"
      ]
     },
     "metadata": {},
     "output_type": "display_data"
    }
   ],
   "source": [
    "# Plot the convergence graph against the number of discretisation points for a certain number of time steps\n",
    "\n",
    "M = 100001\n",
    "N_list = [11,31,51,71,91,101,201,301]\n",
    "err_list = []\n",
    "\n",
    "for N in N_list: \n",
    "\n",
    "  @cuda.jit\n",
    "  def forward_euler_gpu(u, u_n1):\n",
    "    i, j = cuda.grid(2)\n",
    "    if 0 < i < u.shape[0]-1 and 0 < j < u.shape[1]-1:\n",
    "          u_n1[i,j] = u[i,j] - C*(4*u[i, j] - u[i-1,j] - u[i+1,j] - u[i,j-1] - u[i,j+1])\n",
    "\n",
    "  u = np.zeros((N,N), dtype = np.float64)\n",
    "  u[0,:] = np.float32(5)\n",
    "  u_n1 = np.copy(u)\n",
    "  dx = 2/(N-1)\n",
    "  dt = 1/(M-1)\n",
    "  C = dt/dx**2\n",
    "\n",
    "  u_global_mem = cuda.to_device(u)\n",
    "  u_n1_global_mem = cuda.to_device(u_n1)\n",
    "\n",
    "  SX = 16\n",
    "  SY = 16\n",
    "  nblocks = int(np.ceil(N/SX))\n",
    "        \n",
    "  t_star = 0\n",
    "\n",
    "  while u_global_mem[(N-1)//2,(N-1)//2] < 1.0:\n",
    "    t_star += dt\n",
    "    u_n1_global_mem = cuda.to_device(u_n1)\n",
    "    forward_euler_gpu[(nblocks,nblocks), (SX,SY)](u_global_mem,u_n1_global_mem)\n",
    "    u_global_mem = u_n1_global_mem\n",
    "  \n",
    "  t_exe += t.interval\n",
    "\n",
    "  rel_err = abs(t_star-t_actual)/abs(t_actual)\n",
    "  err_list.append(rel_err)\n",
    "\n",
    "\n",
    "plt.plot(N_list, err_list)\n",
    "plt.xlabel(\"N: Number of discretisation points\")\n",
    "plt.ylabel(\"Relative Error\")\n",
    "plt.title(\"Fig.1 Explicit method: Convergence of t* to the actual time against N\")\n",
    "plt.show()\n",
    "\n",
    "plt.loglog(N_list, err_list)\n",
    "plt.xlabel(\"N: Number of discretisation points\")\n",
    "plt.ylabel(\"Relative Error\")\n",
    "plt.title(\"Fig.2 Explicit method: Convergence of t* to the actual time against N (loglog)\")\n",
    "plt.show()"
   ]
  },
  {
   "cell_type": "markdown",
   "id": "G55Q-XzflM-9",
   "metadata": {
    "id": "G55Q-XzflM-9"
   },
   "source": [
    "From the plot, we can see that the convergence of $t*$ is quadratic. When time steps are certain, more discretisation points will lead to a smaller relative error and a $t*$ closer to the actual $t$."
   ]
  },
  {
   "cell_type": "markdown",
   "id": "d_JIRB9kXWIG",
   "metadata": {
    "id": "d_JIRB9kXWIG"
   },
   "source": [
    "For the convergence plot against $M$, when $N$ is specified as $51$ the minimum value of $M$ is about $2501$ according to $C=\\frac{\\Delta t}{h^2} \\lesssim \\frac{1}{4}.$ "
   ]
  },
  {
   "cell_type": "code",
   "execution_count": null,
   "id": "wRarDOBO6_8V",
   "metadata": {
    "colab": {
     "base_uri": "https://localhost:8080/",
     "height": 576
    },
    "id": "wRarDOBO6_8V",
    "outputId": "09c73d21-a1fc-4336-a8d3-48905da93ec8"
   },
   "outputs": [
    {
     "data": {
      "image/png": "[encoded data removed]",
      "text/plain": [
       "<Figure size 432x288 with 1 Axes>"
      ]
     },
     "metadata": {},
     "output_type": "display_data"
    },
    {
     "data": {
      "image/png": "[encoded data removed]",
      "text/plain": [
       "<Figure size 432x288 with 1 Axes>"
      ]
     },
     "metadata": {},
     "output_type": "display_data"
    }
   ],
   "source": [
    "# Plot the convergence graph against the number of time steps for a certain number of discretisation points\n",
    "\n",
    "N = 51\n",
    "M_list = [2501,2801,3001,3501,5001]\n",
    "err_list = []\n",
    "\n",
    "for M in M_list: \n",
    "\n",
    "  @cuda.jit\n",
    "  def forward_euler_gpu(u, u_n1):\n",
    "    i, j = cuda.grid(2)\n",
    "    if 0 < i < u.shape[0]-1 and 0 < j < u.shape[1]-1:\n",
    "          u_n1[i,j] = u[i,j] - C*(4*u[i, j] - u[i-1,j] - u[i+1,j] - u[i,j-1] - u[i,j+1])\n",
    "\n",
    "  u = np.zeros((N,N), dtype = np.float64)\n",
    "  u[0,:] = np.float32(5)\n",
    "  u_n1 = np.copy(u)\n",
    "  dx = 2/(N-1)\n",
    "  dt = 1/(M-1)\n",
    "  C = dt/dx**2\n",
    "\n",
    "  u_global_mem = cuda.to_device(u)\n",
    "  u_n1_global_mem = cuda.to_device(u_n1)\n",
    "\n",
    "  SX = 16\n",
    "  SY = 16\n",
    "  nblocks = int(np.ceil(N/SX))\n",
    "        \n",
    "  t_star = 0\n",
    "  while u_global_mem[(N-1)//2,(N-1)//2] < 1.0:\n",
    "    t_star += dt\n",
    "    u_n1_global_mem = cuda.to_device(u_n1)\n",
    "    forward_euler_gpu[(nblocks,nblocks), (SX,SY)](u_global_mem,u_n1_global_mem)\n",
    "    u_global_mem = u_n1_global_mem\n",
    "  \n",
    "  rel_err = abs(t_star-t_actual)/abs(t_actual)\n",
    "  err_list.append(rel_err)\n",
    "\n",
    "plt.plot(M_list, err_list)\n",
    "plt.xlabel(\"M: Number of time steps\")\n",
    "plt.ylabel(\"Relative Error\")\n",
    "plt.title(\"Fig.3 Explicit method: Convergence of t* to the actual time against M\")\n",
    "plt.show()\n",
    "\n",
    "plt.loglog(M_list, err_list)\n",
    "plt.xlabel(\"M: Number of time steps\")\n",
    "plt.ylabel(\"Relative Error\")\n",
    "plt.title(\"Fig.3 Explicit method: Convergence of t* to the actual time against M (loglog)\")\n",
    "plt.show()\n"
   ]
  },
  {
   "cell_type": "markdown",
   "id": "wPBZTzR3tNj5",
   "metadata": {
    "id": "wPBZTzR3tNj5"
   },
   "source": [
    "From the graph of convergence of $t*$ against the number of time steps, we find when discretisation points is certain, we will get a more precise $t*$ with more time steps."
   ]
  },
  {
   "cell_type": "markdown",
   "id": "706b05ee",
   "metadata": {
    "id": "706b05ee"
   },
   "source": [
    "## Implicit method: Backward Euler"
   ]
  },
  {
   "cell_type": "markdown",
   "id": "8Oa1Jc_M1DJT",
   "metadata": {
    "id": "8Oa1Jc_M1DJT"
   },
   "source": [
    "### Implement a finite difference scheme with the explicit time-stepping supported by the Backward Euler method."
   ]
  },
  {
   "cell_type": "markdown",
   "id": "5ab95de6",
   "metadata": {
    "id": "5ab95de6"
   },
   "source": [
    "For the implicit time stepping I will use the Backward Euler method which gives\n",
    "$u_{n+1} = u_n + \\Delta t \\Delta u_{n+1}$.\n",
    "\n",
    "To solve this problem, we have to solve a linear equation. For simplifying the algorithm, treat $\\Delta u_{n+1} = Au_{n+1}$ where the matrix $A$ is the Laplace operator derived from 5 stencil. Then we get $u_{n+1} = (I-\\Delta tA)^{-1} u_{n}.$\n",
    "\n",
    "\n",
    "Here, I will use the discretise_poisson function on the lecture notes to generate $A$. To fit the case, I've modified the function by setting $h = \\frac {2}{N-1}$ and handling the sign of minus.\n"
   ]
  },
  {
   "cell_type": "code",
   "execution_count": null,
   "id": "Oj34_J5ciWb6",
   "metadata": {
    "id": "Oj34_J5ciWb6"
   },
   "outputs": [],
   "source": [
    "def discretise_poisson(N):\n",
    "    \"\"\"Generate the matrix and rhs associated with the discrete Poisson operator.\"\"\"\n",
    "    \n",
    "    h = 2/(N-1)\n",
    "    \n",
    "    nelements = 5 * N**2 - 16 * N + 16\n",
    "    \n",
    "    row_ind = np.empty(nelements, dtype=np.float64)\n",
    "    col_ind = np.empty(nelements, dtype=np.float64)\n",
    "    data = np.empty(nelements, dtype=np.float64)\n",
    "    \n",
    "    f = np.empty(N * N, dtype=np.float64)\n",
    "    \n",
    "    count = 0\n",
    "    for j in range(N):\n",
    "        for i in range(N):\n",
    "            if i == 0 or i == N - 1 or j == 0 or j == N - 1:\n",
    "                row_ind[count] = col_ind[count] = j * N + i\n",
    "                data[count] =  1\n",
    "                f[j * N + i] = 0\n",
    "                count += 1\n",
    "                \n",
    "            else:\n",
    "                row_ind[count : count + 5] = j * N + i\n",
    "                col_ind[count] = j * N + i\n",
    "                col_ind[count + 1] = j * N + i + 1\n",
    "                col_ind[count + 2] = j * N + i - 1\n",
    "                col_ind[count + 3] = (j + 1) * N + i\n",
    "                col_ind[count + 4] = (j - 1) * N + i\n",
    "                                \n",
    "                data[count] = -4 / h**2\n",
    "                data[count + 1 : count + 5] = 1 / h**2\n",
    "                f[j * N + i] = 1\n",
    "                \n",
    "                count += 5\n",
    "                                                \n",
    "    return coo_matrix((data, (row_ind, col_ind)), shape=(N**2, N**2)).tocsr(), f"
   ]
  },
  {
   "cell_type": "code",
   "execution_count": null,
   "id": "4b819852",
   "metadata": {
    "id": "4b819852"
   },
   "outputs": [],
   "source": [
    "# Define a function to execute the Backward Euler method\n",
    "\n",
    "def backward_euler(u, dt):\n",
    "    u_n = u.reshape((N*N))\n",
    "    u_n1 = spsolve((I-dt*A),u_n)\n",
    "    u_n1 = u_n1.reshape((N,N))\n",
    "    u_n1[-1,:] = 5\n",
    "    \n",
    "    return u_n1\n"
   ]
  },
  {
   "cell_type": "code",
   "execution_count": null,
   "id": "ghlMW7GLQ1BB",
   "metadata": {
    "colab": {
     "base_uri": "https://localhost:8080/",
     "height": 517
    },
    "id": "ghlMW7GLQ1BB",
    "outputId": "59dfc925-8e04-4f19-969c-372aed746aeb"
   },
   "outputs": [
    {
     "name": "stdout",
     "output_type": "stream",
     "text": [
      "N: 51, M: 10001, C: 0.0625\n",
      "t_star: 0.4240999999999696\n",
      "t_actual: 0.424011387033\n",
      "Relative error: 0.00020898723402139866\n",
      "Time cost: 39.50638008117676 s\n",
      "\n",
      "\n"
     ]
    },
    {
     "data": {
      "text/plain": [
       "<matplotlib.colorbar.Colorbar at 0x7fc9b9b02990>"
      ]
     },
     "execution_count": 8,
     "metadata": {},
     "output_type": "execute_result"
    },
    {
     "data": {
      "image/png": "[encoded data removed]",
      "text/plain": [
       "<Figure size 576x432 with 2 Axes>"
      ]
     },
     "metadata": {},
     "output_type": "display_data"
    }
   ],
   "source": [
    "# Execute the Backward Euler method for certain values for N and time_steps M to check the accuracy\n",
    "\n",
    "N = 51\n",
    "M = 10001\n",
    "t_actual = 0.424011387033\n",
    "\n",
    "A,_ = discretise_poisson(N)\n",
    "I = identity(N*N)\n",
    "\n",
    "u = np.zeros((N,N), dtype = np.float64)\n",
    "u[-1,:] = np.float32(5)\n",
    "dx = 2/(N-1)\n",
    "C = (N-1)**2/(4*(M-1))\n",
    "dt = C*dx**2\n",
    "\n",
    "t_star = 0\n",
    "with Timer() as t:\n",
    "  while u[N//2,N//2] < 1:\n",
    "      u = backward_euler(u,dt)\n",
    "      t_star += dt\n",
    "\n",
    "rel_err = abs(t_star-t_actual)/abs(t_actual)     \n",
    "print(f\"N: {N}, M: {M}, C: {C}\")\n",
    "print(f\"t_star: {t_star}\")\n",
    "print(f\"t_actual: {t_actual}\")      \n",
    "print(f\"Relative error: {rel_err}\")\n",
    "print(\"Time cost: {0} s\".format(t.interval))\n",
    "print(\"\\n\")\n",
    "plt.figure(figsize=(8,6))\n",
    "plt.imshow(u, extent=(-1, 1, -1, 1), cmap='hot')\n",
    "plt.colorbar()"
   ]
  },
  {
   "cell_type": "markdown",
   "id": "hzpznuy71MqE",
   "metadata": {
    "id": "hzpznuy71MqE"
   },
   "source": [
    "### By increasing the number of discretisation points demonstrate how many correct digits you can achieve."
   ]
  },
  {
   "cell_type": "markdown",
   "id": "D9B7jlYW04tG",
   "metadata": {
    "id": "D9B7jlYW04tG"
   },
   "source": [
    "For the Backward Euler method, there is no conditon for $C$ but the execution time increases without the help pf GPU. Therefore, I choose smaller $N$ and larger $C$ to compute $t*.$"
   ]
  },
  {
   "cell_type": "code",
   "execution_count": null,
   "id": "53uUpB41b7RX",
   "metadata": {
    "colab": {
     "base_uri": "https://localhost:8080/"
    },
    "id": "53uUpB41b7RX",
    "outputId": "5123bf21-5c0d-4e73-92e8-1996fd124f4c"
   },
   "outputs": [
    {
     "name": "stdout",
     "output_type": "stream",
     "text": [
      "N = 11\n",
      "t_actual = 0.424011387033\n",
      "+-------+-----+---------------------+\n",
      "| C     | M   | t_star              |\n",
      "+-------+-----+---------------------+\n",
      "| 1     | 26  | 0.44000000000000017 |\n",
      "| 0.5   | 51  | 0.4400000000000003  |\n",
      "| 0.25  | 101 | 0.4300000000000003  |\n",
      "| 0.125 | 201 | 0.4300000000000003  |\n",
      "+-------+-----+---------------------+\n",
      "Time cost: 0.0996863842010498 s\n",
      "\n",
      "\n",
      "N = 51\n",
      "t_actual = 0.424011387033\n",
      "+-------+------+---------------------+\n",
      "| C     | M    | t_star              |\n",
      "+-------+------+---------------------+\n",
      "| 1     | 626  | 0.4255999999999983  |\n",
      "| 0.5   | 1251 | 0.42480000000000395 |\n",
      "| 0.25  | 2501 | 0.42440000000000805 |\n",
      "| 0.125 | 5001 | 0.4241999999999859  |\n",
      "+-------+------+---------------------+\n",
      "Time cost: 27.694674253463745 s\n",
      "\n",
      "\n",
      "N = 81\n",
      "t_actual = 0.424011387033\n",
      "+-------+-------+---------------------+\n",
      "| C     | M     | t_star              |\n",
      "+-------+-------+---------------------+\n",
      "| 1     | 1601  | 0.42437499999999373 |\n",
      "| 0.5   | 3201  | 0.42437499999999234 |\n",
      "| 0.25  | 6401  | 0.42406250000002255 |\n",
      "| 0.125 | 12801 | 0.4240624999999826  |\n",
      "+-------+-------+---------------------+\n",
      "Time cost: 204.5022668838501 s\n",
      "\n",
      "\n",
      "N = 101\n",
      "t_actual = 0.424011387033\n",
      "+-------+-------+---------------------+\n",
      "| C     | M     | t_star              |\n",
      "+-------+-------+---------------------+\n",
      "| 1     | 2501  | 0.42440000000000805 |\n",
      "| 0.5   | 5001  | 0.4241999999999859  |\n",
      "| 0.25  | 10001 | 0.4240999999999696  |\n",
      "| 0.125 | 20001 | 0.42404999999996146 |\n",
      "+-------+-------+---------------------+\n",
      "Time cost: 865.9391808509827 s\n",
      "\n",
      "\n"
     ]
    }
   ],
   "source": [
    "# set a list of N and C to research how the number of discretisation points N and time-steps M influence correct digits\n",
    "\n",
    "t_actual = 0.424011387033\n",
    "N_list = [11,51,81,101]\n",
    "C_list = [1,0.5,0.25,0.125]\n",
    "\n",
    "for N in N_list:\n",
    "\n",
    "  print(f\"N = {N}\", end=\"\\n\")\n",
    "  print(f\"t_actual = {t_actual}\")\n",
    "\n",
    "  t_exe = 0\n",
    "  table = PrettyTable([\"C\",\"M\",\"t_star\"],align = 'l')\n",
    "  \n",
    "\n",
    "  for C in C_list:\n",
    "    table_data = []\n",
    "    \n",
    "    A,_ = discretise_poisson(N)\n",
    "    I = identity(N*N)\n",
    "\n",
    "    u = np.zeros((N,N), dtype = np.float64)\n",
    "    u[-1,:] = np.float32(5)\n",
    "\n",
    "    dx = 2/(N-1)\n",
    "    dt = C*dx**2\n",
    "    M = round(1/dt + 1)\n",
    "    table_data.append(C)\n",
    "    table_data.append(M)\n",
    "    \n",
    "    t_star = 0\n",
    "    with Timer() as t:\n",
    "      while u[N//2,N//2] < 1:\n",
    "          u = backward_euler(u,dt)\n",
    "          t_star += dt\n",
    "\n",
    "    t_exe += t.interval\n",
    "\n",
    "    rel_err = abs(t_star-t_actual)/abs(t_actual)\n",
    "    table_data.append(t_star)\n",
    "    table.add_row(table_data)\n",
    "    \n",
    "  print(table)\n",
    "  print(f\"Time cost: {t_exe} s\")\n",
    "  print(\"\\n\")\n"
   ]
  },
  {
   "cell_type": "markdown",
   "id": "I6TDAkjV4LTw",
   "metadata": {
    "id": "I6TDAkjV4LTw"
   },
   "source": [
    "Similar with the conclusion for the Forward Euler method, when $C$ is certain,   the larger $N$ and $M$ is or the smaller $\\Delta t$ and $h$ is, the more correct digits we can get."
   ]
  },
  {
   "cell_type": "markdown",
   "id": "QYzjfGkN1XhX",
   "metadata": {
    "id": "QYzjfGkN1XhX"
   },
   "source": [
    "### Plot the convergence of the computed time  𝑡∗  against the actual time."
   ]
  },
  {
   "cell_type": "markdown",
   "id": "HEssCygb5eR4",
   "metadata": {
    "id": "HEssCygb5eR4"
   },
   "source": [
    "I will use the same scheme as that for the Forward Euler method to plot in order to evaluate how the time steps and discretisation points influence $t*.$ Also, to save execution time, I have to choose smaller M and N."
   ]
  },
  {
   "cell_type": "code",
   "execution_count": 19,
   "id": "QdjQ5bOPO6SE",
   "metadata": {
    "colab": {
     "base_uri": "https://localhost:8080/",
     "height": 576
    },
    "id": "QdjQ5bOPO6SE",
    "outputId": "9ae041ec-1651-41a3-a836-9fcdb477e6d8"
   },
   "outputs": [
    {
     "data": {
      "image/png": "[encoded data removed]",
      "text/plain": [
       "<Figure size 432x288 with 1 Axes>"
      ]
     },
     "metadata": {
      "needs_background": "light"
     },
     "output_type": "display_data"
    },
    {
     "data": {
      "image/png": "[encoded data removed]",
      "text/plain": [
       "<Figure size 432x288 with 1 Axes>"
      ]
     },
     "metadata": {
      "needs_background": "light"
     },
     "output_type": "display_data"
    }
   ],
   "source": [
    "# Plot the convergence graph against the number of discretisation points for a certain number of time steps\n",
    "\n",
    "M = 40001\n",
    "N_list = [11,21,31,41,51,71]\n",
    "err_list = []\n",
    "\n",
    "for N in N_list: \n",
    "    \n",
    "  A,_ = discretise_poisson(N)\n",
    "  I = identity(N*N)\n",
    "\n",
    "  u = np.zeros((N,N), dtype = np.float64)\n",
    "  u[-1,:] = np.float32(5)\n",
    "\n",
    "  dx = 2/(N-1)\n",
    "  dt = 1/(M-1)\n",
    "  C = dt/dx**2\n",
    "    \n",
    "  t_star = 0\n",
    "  while u[N//2,N//2] < 1:\n",
    "    u = backward_euler(u,dt)\n",
    "    t_star += dt\n",
    "  \n",
    "  rel_err = abs(t_star-t_actual)/abs(t_actual)\n",
    "  err_list.append(rel_err)\n",
    "\n",
    " \n",
    "plt.plot(N_list, err_list)\n",
    "plt.xlabel(\"N: Number of discretisation points\")\n",
    "plt.ylabel(\"Relative Error\")\n",
    "plt.title(\"Fig.4 Implicit method: Convergence of t* to the actual time against N\")\n",
    "plt.show()\n",
    "  \n",
    "plt.loglog(N_list, err_list)\n",
    "plt.xlabel(\"N: Number of discretisation points\")\n",
    "plt.ylabel(\"Relative Error\")\n",
    "plt.title(\"Fig.5 Implicit method: Convergence of t* to the actual time against N (loglog)\")\n",
    "plt.show()"
   ]
  },
  {
   "cell_type": "markdown",
   "id": "l6x9ihLjDche",
   "metadata": {
    "id": "l6x9ihLjDche"
   },
   "source": [
    "It is obvious that when time steps are certain, $t*$ converges quadratically to $t$ as discretisation points increase. "
   ]
  },
  {
   "cell_type": "code",
   "execution_count": null,
   "id": "U5-HrHGU9ODJ",
   "metadata": {
    "colab": {
     "base_uri": "https://localhost:8080/",
     "height": 577
    },
    "id": "U5-HrHGU9ODJ",
    "outputId": "aa74c275-fc20-4b59-da0b-d6c1bf9f34b8"
   },
   "outputs": [
    {
     "data": {
      "image/png": "[encoded data removed]",
      "text/plain": [
       "<Figure size 432x288 with 1 Axes>"
      ]
     },
     "metadata": {},
     "output_type": "display_data"
    },
    {
     "data": {
      "image/png": "[encoded data removed]",
      "text/plain": [
       "<Figure size 432x288 with 1 Axes>"
      ]
     },
     "metadata": {},
     "output_type": "display_data"
    }
   ],
   "source": [
    "# Plot the convergence graph against the number of time steps for a certain number of discretisation points\n",
    "\n",
    "N = 101\n",
    "M_list = [101,501,1001,3001,5001,8001,10001,15001]\n",
    "err_list = []\n",
    "\n",
    "for M in M_list: \n",
    "    \n",
    "  A,_ = discretise_poisson(N)\n",
    "  I = identity(N*N)\n",
    "\n",
    "  u = np.zeros((N,N), dtype = np.float64)\n",
    "  u[-1,:] = np.float32(5)\n",
    "\n",
    "  dx = 2/(N-1)\n",
    "  dt = 1/(M-1)\n",
    "  C = dt/dx**2\n",
    "    \n",
    "  t_star = 0\n",
    "  while u[N//2,N//2] < 1:\n",
    "    u = backward_euler(u,dt)\n",
    "    t_star += dt\n",
    "  \n",
    "  rel_err = abs(t_star-t_actual)/abs(t_actual)\n",
    "  err_list.append(rel_err)\n",
    "\n",
    "plt.plot(M_list, err_list)\n",
    "plt.xlabel(\"M: Number of time steps\")\n",
    "plt.ylabel(\"Relative Error\")\n",
    "plt.title(\"Fig.6 Implicit method: Convergence of t* to the actual time against M\")\n",
    "plt.show()\n",
    "\n",
    "plt.loglog(M_list, err_list)\n",
    "plt.xlabel(\"M: Number of time steps\")\n",
    "plt.ylabel(\"Relative Error\")\n",
    "plt.title(\"Fig.7 Implicit method: Convergence of t* to the actual time against M (loglog)\")\n",
    "plt.show()\n"
   ]
  },
  {
   "cell_type": "markdown",
   "id": "VnZ9lyq76PAu",
   "metadata": {
    "id": "VnZ9lyq76PAu"
   },
   "source": [
    "Also, when $N$ is certain, as $M$ increases $t*$ quadratically converges to the actual $t$, which is similar to the Forward Euler mathod."
   ]
  }
 ],
 "metadata": {
  "colab": {
   "collapsed_sections": [],
   "machine_shape": "hm",
   "name": "Assign4_gpu_10.ipynb",
   "provenance": []
  },
  "kernelspec": {
   "display_name": "Python 3",
   "language": "python",
   "name": "python3"
  },
  "language_info": {
   "codemirror_mode": {
    "name": "ipython",
    "version": 3
   },
   "file_extension": ".py",
   "mimetype": "text/x-python",
   "name": "python",
   "nbconvert_exporter": "python",
   "pygments_lexer": "ipython3",
   "version": "3.8.8"
  }
 },
 "nbformat": 4,
 "nbformat_minor": 5
}

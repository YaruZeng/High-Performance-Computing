{
 "cells": [
  {
   "cell_type": "markdown",
   "id": "a5956f8a-5cf8-42f0-b574-90c1dcdba0cb",
   "metadata": {
    "id": "a5956f8a-5cf8-42f0-b574-90c1dcdba0cb"
   },
   "source": []
  },
  {
   "cell_type": "markdown",
   "id": "8d415c3d-667b-42bb-a8b0-782badf7074e",
   "metadata": {
    "id": "8d415c3d-667b-42bb-a8b0-782badf7074e"
   },
   "source": [
    "# Task 1"
   ]
  },
  {
   "cell_type": "code",
   "execution_count": 158,
   "id": "0c0508bf-7f03-4e99-987a-b7094e5b80ba",
   "metadata": {
    "id": "0c0508bf-7f03-4e99-987a-b7094e5b80ba"
   },
   "outputs": [],
   "source": [
    "import numpy as np\n",
    "from scipy.sparse import coo_matrix\n",
    "import numba\n",
    "\n",
    "def discretise(f,g,N):\n",
    "    #create the A matrix and b vector for the solution\n",
    "    \n",
    "    nelements = 5 * (N+2)**2 - 16 * (N+2) + 16\n",
    "    \n",
    "    row_ind = np.empty(nelements, dtype=np.float64)\n",
    "    col_ind = np.empty(nelements, dtype=np.float64)\n",
    "    data = np.empty(nelements, dtype=np.float64)\n",
    "    \n",
    "    b = np.empty((N+2) * (N+2), dtype=np.float64)\n",
    "    \n",
    "    count = 0\n",
    "    for j in range(N+2):\n",
    "        for i in range(N+2):\n",
    "            if i == 0 or i == N + 1 or j == 0 or j == N + 1:\n",
    "                row_ind[count] = col_ind[count] = j * (N+2) + i\n",
    "                data[count] = 1\n",
    "                b[j * (N+2) + i] = g[j * (N+2) + i]\n",
    "                count += 1\n",
    "                 \n",
    "            else:\n",
    "                row_ind[count : count + 5] = j * (N+2) + i\n",
    "                col_ind[count] = j * (N+2) + i\n",
    "                col_ind[count + 1] = j * (N+2) + i + 1\n",
    "                col_ind[count + 2] = j * (N+2) + i - 1\n",
    "                col_ind[count + 3] = (j + 1) * (N+2) + i\n",
    "                col_ind[count + 4] = (j - 1) * (N+2) + i\n",
    "                                \n",
    "                data[count] = 4 * (N + 1)**2\n",
    "                data[count + 1 : count + 5] = - (N + 1)**2\n",
    "                b[j * (N+2) + i] = f[j * (N+2) + i]\n",
    "                \n",
    "                count += 5\n",
    "                                                \n",
    "    return coo_matrix((data, (row_ind, col_ind)), shape=((N+2)**2, (N+2)**2)).tocsr(), b"
   ]
  },
  {
   "cell_type": "code",
   "execution_count": 159,
   "id": "cacd38bc-2230-4c86-b0f6-4c33ecc2d9b8",
   "metadata": {
    "id": "cacd38bc-2230-4c86-b0f6-4c33ecc2d9b8"
   },
   "outputs": [],
   "source": [
    "%matplotlib inline\n",
    "from matplotlib import pyplot as plt\n",
    "from mpl_toolkits.mplot3d import Axes3D\n",
    "from matplotlib import cm\n",
    "\n",
    "from scipy.sparse.linalg import spsolve\n",
    "\n",
    "from math import *\n",
    "from sympy import *\n",
    "\n",
    "# comput partitial derivative of u_exact to compute laplace\n",
    "\n",
    "x, y = symbols('x, y')\n",
    "u_exact = exp((x-0.5)**2+(y-0.5)**2)\n",
    "dxdx = diff(diff(u_exact, x), x)\n",
    "dydy = diff(diff(u_exact, y), y)\n",
    "laplace = dxdx + dydy\n"
   ]
  },
  {
   "cell_type": "code",
   "execution_count": 162,
   "id": "3b9b5317-8880-4139-81ef-7822a2f6d477",
   "metadata": {
    "colab": {
     "base_uri": "https://localhost:8080/",
     "height": 299
    },
    "id": "3b9b5317-8880-4139-81ef-7822a2f6d477",
    "outputId": "0b79d06e-fff7-4935-a2a2-8586ecd4adf1"
   },
   "outputs": [
    {
     "data": {
      "image/png": "[encoded data removed]",
      "text/plain": [
       "<Figure size 432x288 with 1 Axes>"
      ]
     },
     "metadata": {
      "needs_background": "light"
     },
     "output_type": "display_data"
    }
   ],
   "source": [
    "# for u with different dimensions, compute relative error against u_exact\n",
    "\n",
    "list_N = [10,50,100,300,500]\n",
    "error = []\n",
    "\n",
    "for N in list_N:\n",
    "  # compute exact values and partial differential of u_exact\n",
    "\n",
    "    F = np.empty((N+2) * (N+2))\n",
    "    G = np.empty((N+2) * (N+2))\n",
    "    k = 0\n",
    "    for i in range(N+2):\n",
    "        for j in range(N+2):\n",
    "            lap = -laplace.subs({x: i*(1/(N+1)), y: j*(1/(N+1))})\n",
    "            exc = u_exact.subs({x: i*(1/(N+1)), y: j*(1/(N+1))})\n",
    "            F[k] = lap\n",
    "            G[k] = exc\n",
    "            k += 1\n",
    "\n",
    "    A, b = discretise(F,G,N)\n",
    "    sol = spsolve(A, b)\n",
    "    u = sol.reshape((N+2,N+2))[1:(N+1),1:(N+1)] # get the solution of u without boundary\n",
    "    g = G.reshape((N+2,N+2))[1:(N+1),1:(N+1)] # get the u_exact without boundary\n",
    "\n",
    "    e = []\n",
    "    for i in range(N):\n",
    "      # evaluate the relative error between u and u_exact\n",
    "\n",
    "        e_rel = abs(u.reshape(N*N)[i] - g.reshape(N*N)[i])/abs(g.reshape(N*N)[i])\n",
    "        e.append(np.float64(e_rel))\n",
    "\n",
    "    error.append(max(e))\n",
    "\n",
    "X = list_N\n",
    "Y = error\n",
    "\n",
    "# plot the relative error against N\n",
    "\n",
    "plt.title('Relative error against N')\n",
    "plt.xlabel('number of N')\n",
    "plt.ylabel('Relative error')\n",
    "plt.loglog(X,Y)\n",
    "plt.show()"
   ]
  },
  {
   "cell_type": "markdown",
   "id": "1u4hll8qrSjP",
   "metadata": {
    "id": "1u4hll8qrSjP"
   },
   "source": [
    "### Comment: "
   ]
  },
  {
   "cell_type": "markdown",
   "id": "D2YXxkeQrVwY",
   "metadata": {
    "id": "D2YXxkeQrVwY"
   },
   "source": [
    "From the loglog plot, we can find that the error of the discretise solution is going to zero as N increases shaped as a straight line. Therefore, it can be induced that the convergence rate is linear."
   ]
  },
  {
   "cell_type": "markdown",
   "id": "nDfy86eDJloU",
   "metadata": {
    "id": "nDfy86eDJloU"
   },
   "source": [
    "# Task 2"
   ]
  },
  {
   "cell_type": "markdown",
   "id": "YuZLUXFunYkm",
   "metadata": {
    "id": "YuZLUXFunYkm"
   },
   "source": [
    "## GPU computing not using shared memory\n"
   ]
  },
  {
   "cell_type": "code",
   "execution_count": 153,
   "id": "onR_WwSlnewH",
   "metadata": {
    "id": "onR_WwSlnewH"
   },
   "outputs": [],
   "source": [
    "import matplotlib.pyplot as plt\n",
    "from numba import cuda, float32\n",
    "import numpy as np\n",
    "import numba\n",
    "from numba import cuda\n",
    "import math\n",
    "from sympy import *\n",
    "\n",
    "@cuda.jit\n",
    "def possion_gpu(f,g,u,U,N):\n",
    "  # compute the solution by GPU\n",
    "\n",
    "  i, j = cuda.grid(2)\n",
    "  i_ex = i + 1\n",
    "  j_ex = j + 1\n",
    "\n",
    "  if i >= U.shape[0]:\n",
    "    return\n",
    "  if j >= U.shape[1]:\n",
    "    return\n",
    "    \n",
    "  # cheat the boundary value with the corresponding g value\n",
    "\n",
    "  if i == 0 : # for points on the left boundary \n",
    "    left = g[i_ex-1, j_ex]\n",
    "  else:\n",
    "    left = u[i-1,j]\n",
    "\n",
    "  if i == U.shape[0] - 1: # for points on the right boundary \n",
    "    right = g[i_ex+1,j_ex]\n",
    "  else:\n",
    "    right = u[i+1,j]\n",
    "      \n",
    "  if j == 0: # for points on the up boundary\n",
    "    up = g[i_ex,j_ex-1]\n",
    "  else:\n",
    "    up = u[i,j-1]\n",
    "\n",
    "  if j == U.shape[0]-1: # for points on the bottom boundary\n",
    "    down = g[i_ex, j_ex+1]\n",
    "  else:\n",
    "    down = u[i,j+1]\n",
    "\n",
    "  # for each point, compute the corresponding point of u\n",
    "  \n",
    "  U[i,j] = (1/4)*((1/(N+1))**2*f[i,j]+left+right+up+down)\n",
    "    \n",
    "\n"
   ]
  },
  {
   "cell_type": "code",
   "execution_count": 154,
   "id": "21TYmmkxMYmg",
   "metadata": {
    "id": "21TYmmkxMYmg"
   },
   "outputs": [],
   "source": [
    "\n",
    "def gpu_eval(f,g,N):\n",
    "  # launch the GPU process and evaluate iteration numbers and errors \n",
    "\n",
    "  SX = 32\n",
    "  SY = 32\n",
    "  G_error = g[1:(N+1),1:(N+1)] # get u_exact for error evaluation\n",
    "\n",
    "  # set initialized u_k, u_k1\n",
    "\n",
    "  u_k = np.zeros((N,N), dtype = np.float32)\n",
    "  u_k1 = np.zeros((N,N), dtype = np.float32)\n",
    "\n",
    "  # preload data from host to gpu device \n",
    "\n",
    "  f_gpu = cuda.to_device(f)\n",
    "  g_gpu = cuda.to_device(g)\n",
    "  u_k_gpu = cuda.to_device(u_k)\n",
    "  u_k1_gpu = cuda.to_device(u_k1)\n",
    "\n",
    "  cuda.synchronize()\n",
    "\n",
    "  # execute an iteration by the GPU function\n",
    "\n",
    "  nblocks = (N + SX - 1) // SX\n",
    "  possion_gpu[(nblocks, nblocks), (SX, SY)](f_gpu,g_gpu,u_k_gpu,u_k1_gpu,N)\n",
    "  u_approx_gpu_0 = u_k1_gpu.copy_to_host()\n",
    "\n",
    "  # evaluate convergence every 5000 times of iteration to check if it's convergenced\n",
    "\n",
    "  u_approx_gpu_1 = np.zeros((N,N), dtype = np.float32)\n",
    "\n",
    "  def converge_eval():\n",
    "    # execute an iteration round\n",
    "\n",
    "    count = 0\n",
    "    while count < 5000:\n",
    "      u_k_gpu = u_k1_gpu\n",
    "      possion_gpu[(nblocks, nblocks), (SX, SY)](f_gpu,g_gpu,u_k_gpu,u_k1_gpu,N)\n",
    "      count += 1\n",
    "\n",
    "    u_approx_gpu_1 = u_k1_gpu.copy_to_host()\n",
    "    return u_approx_gpu_1 # return the new value of u after 5000 iterations\n",
    "\n",
    "\n",
    "  def change(u,U):\n",
    "    # evaluate the relative change between new u and old u after a round of iteration \n",
    "\n",
    "    change = []\n",
    "    for i in range(U.shape[0]):\n",
    "      for j in range(U.shape[0]):\n",
    "        cha = abs(U[i,j] - u[i,j])/abs(u[i,j])\n",
    "        change.append(cha)\n",
    "    return max(change)\n",
    "\n",
    "  change_max = change(u_approx_gpu_0,u_approx_gpu_1)\n",
    "  change_round = []\n",
    "  change_round.append(change_max)\n",
    "  \n",
    "  def error_exact(U):\n",
    "    # evaluate the relative error between new u and u_exact after a round of iteration\n",
    "\n",
    "    error_exact = []\n",
    "    for i in range(U.shape[0]):\n",
    "      for j in range(U.shape[1]):\n",
    "        ee = abs(U[i,j] - G_error[i,j])\n",
    "        error_exact.append(np.float64(ee))\n",
    "    return max(error_exact)\n",
    "\n",
    "\n",
    "  error_exact_iter = [error_exact(u_approx_gpu_1)]\n",
    "  iter_num = [5000]\n",
    "  k = 1\n",
    "\n",
    "  while change_max > np.float32(0):\n",
    "    # check whether the approximation is convergenced and acquire related elements for plotting\n",
    "\n",
    "    u_approx_gpu_0 = u_approx_gpu_1\n",
    "    u_approx_gpu_1 = np.zeros((N,N), dtype = np.float32)\n",
    "    u_approx_gpu_1 = converge_eval()\n",
    "    change_max = change(u_approx_gpu_0,u_approx_gpu_1)\n",
    "    change_round.append(change_max)\n",
    "    error_exact_iter.append(error_exact(u_approx_gpu_1))\n",
    "    iter_num.append(k*5000)\n",
    "    k += 1\n",
    "\n",
    "\n",
    "  return u_approx_gpu_1, iter_num, change_round, error_exact_iter\n"
   ]
  },
  {
   "cell_type": "code",
   "execution_count": 155,
   "id": "WgEz0CiGqYBp",
   "metadata": {
    "id": "WgEz0CiGqYBp"
   },
   "outputs": [],
   "source": [
    "# define laplace equation\n",
    "\n",
    "x, y = symbols('x, y')\n",
    "u_exact = exp((x-0.5)**2+(y-0.5)**2)\n",
    "dxdx = diff(diff(u_exact, x), x)\n",
    "dydy = diff(diff(u_exact, y), y)\n",
    "laplace = dxdx + dydy\n",
    "\n",
    "\n",
    "def main(N):\n",
    "  # define relevant arguments and execute the GPU evaluation function gpu_eval(f,g,N)\n",
    "\n",
    "  F = np.empty((N,N), dtype = np.float32)\n",
    "  G = np.empty((N+2,N+2), dtype = np.float32)\n",
    "  k = 0\n",
    "  for i in range(N+2):\n",
    "      for j in range(N+2):\n",
    "          exc = u_exact.subs({x: i*(1/(N+1)), y: j*(1/(N+1))})\n",
    "          G[i,j] = exc\n",
    "          k += 1\n",
    "  q = 0\n",
    "  for i in range(N):\n",
    "      for j in range(N):\n",
    "          lap = -laplace.subs({x: i*(1/(N+1)), y: j*(1/(N+1))})\n",
    "          F[i,j] = lap\n",
    "          q += 1\n",
    "\n",
    "  f = F\n",
    "  g = G\n",
    "\n",
    "  u_approx_gpu_1, iter_num, change_round, error_exact_iter = gpu_eval(f,g,N)\n",
    "\n",
    "  return iter_num, change_round, error_exact_iter\n",
    "\n"
   ]
  },
  {
   "cell_type": "code",
   "execution_count": 169,
   "id": "BFSIthuIF4QQ",
   "metadata": {
    "colab": {
     "base_uri": "https://localhost:8080/"
    },
    "id": "BFSIthuIF4QQ",
    "outputId": "ae701926-b3a6-45f0-ea72-0fbd41a28a5c"
   },
   "outputs": [
    {
     "name": "stderr",
     "output_type": "stream",
     "text": [
      "/usr/local/lib/python3.7/dist-packages/ipykernel_launcher.py:46: RuntimeWarning: divide by zero encountered in float_scalars\n"
     ]
    }
   ],
   "source": [
    "# compute the solution by GPU setting differenct N\n",
    "\n",
    "x_con_1, y_iter_1, y_error_1 = main(100)\n",
    "x_con_2, y_iter_2, y_error_2 = main(200)\n",
    "x_con_3, y_iter_3, y_error_3 = main(300)\n",
    "x_con_4, y_iter_4, y_error_4 = main(400)\n",
    "x_con_5, y_iter_5, y_error_5 = main(500)"
   ]
  },
  {
   "cell_type": "code",
   "execution_count": 148,
   "id": "Zno9hJTSXrBf",
   "metadata": {
    "colab": {
     "base_uri": "https://localhost:8080/",
     "height": 295
    },
    "id": "Zno9hJTSXrBf",
    "outputId": "f8892027-5a10-4a51-86a4-d218199ad003"
   },
   "outputs": [
    {
     "data": {
      "image/png": "[encoded data removed]",
      "text/plain": [
       "<Figure size 432x288 with 1 Axes>"
      ]
     },
     "metadata": {
      "needs_background": "light"
     },
     "output_type": "display_data"
    }
   ],
   "source": [
    "# benchmark convergence of u  with different dimensions by relative change between u_k and u_k+1 \n",
    "# due to the limit of computer speed, the max of N is set to be 500\n",
    "\n",
    "plt.plot(x_con_1, y_iter_1, color='blue', label='N = 100')\n",
    "plt.plot(x_con_2, y_iter_2, color='green', label='N = 200')\n",
    "plt.plot(x_con_3, y_iter_3, color='purple', label='N = 300')\n",
    "plt.plot(x_con_4, y_iter_4, color='orange', label='N = 400')\n",
    "plt.plot(x_con_4, y_iter_4, color='orange', label='N = 500')\n",
    "\n",
    "plt.title(\"Convergence of u with various dimensions: u_k1 vs u_k\")\n",
    "plt.xlabel('number of iteration')\n",
    "plt.ylabel('relative change')\n",
    "plt.legend()\n",
    "plt.show()"
   ]
  },
  {
   "cell_type": "code",
   "execution_count": 170,
   "id": "NQqmxyWfG8fd",
   "metadata": {
    "colab": {
     "base_uri": "https://localhost:8080/",
     "height": 295
    },
    "id": "NQqmxyWfG8fd",
    "outputId": "f756c632-26f5-4786-903b-bf7f3a05ca4c"
   },
   "outputs": [
    {
     "data": {
      "image/png": "[encoded data removed]",
      "text/plain": [
       "<Figure size 432x288 with 1 Axes>"
      ]
     },
     "metadata": {
      "needs_background": "light"
     },
     "output_type": "display_data"
    }
   ],
   "source": [
    "plt.plot(x_con_1, y_iter_1, color='blue', label='N = 100')\n",
    "plt.plot(x_con_2, y_iter_2, color='green', label='N = 200')\n",
    "\n",
    "plt.title(\"Convergence of u with various dimensions: u_k1 vs u_k\")\n",
    "plt.xlabel('number of iteration')\n",
    "plt.ylabel('relative change')\n",
    "plt.legend()\n",
    "plt.show()"
   ]
  },
  {
   "cell_type": "code",
   "execution_count": 149,
   "id": "RtXBbV9MXmvR",
   "metadata": {
    "colab": {
     "base_uri": "https://localhost:8080/",
     "height": 295
    },
    "id": "RtXBbV9MXmvR",
    "outputId": "9018fd06-3d03-4b21-a4cc-117945495c68"
   },
   "outputs": [
    {
     "data": {
      "image/png": "[encoded data removed]",
      "text/plain": [
       "<Figure size 432x288 with 1 Axes>"
      ]
     },
     "metadata": {
      "needs_background": "light"
     },
     "output_type": "display_data"
    }
   ],
   "source": [
    "# benchmark convergence of u with different dimensions by relative error between u_k and u_exact \n",
    "\n",
    "plt.plot(x_con_1, y_error_1, color='blue', label='N = 100')\n",
    "plt.plot(x_con_2, y_error_2, color='green', label='N = 200')\n",
    "plt.plot(x_con_3, y_error_3, color='purple', label='N = 300')\n",
    "plt.plot(x_con_4, y_error_4, color='orange', label='N = 400')\n",
    "plt.plot(x_con_5, y_error_5, color='orange', label='N = 500')\n",
    "\n",
    "plt.title(\"Convergence of u with various dimensions: u_k1 vs u_exact\")\n",
    "plt.xlabel('number of iteration')\n",
    "plt.ylabel('relative error')\n",
    "plt.legend()\n",
    "plt.show()"
   ]
  },
  {
   "cell_type": "code",
   "execution_count": 168,
   "id": "vAo_gSb0qGHB",
   "metadata": {
    "colab": {
     "base_uri": "https://localhost:8080/",
     "height": 295
    },
    "id": "vAo_gSb0qGHB",
    "outputId": "bff98430-72e8-4e28-afba-ae3fb1b5886a"
   },
   "outputs": [
    {
     "data": {
      "image/png": "[encoded data removed]",
      "text/plain": [
       "<Figure size 432x288 with 1 Axes>"
      ]
     },
     "metadata": {
      "needs_background": "light"
     },
     "output_type": "display_data"
    }
   ],
   "source": [
    "plt.plot(x_con_1, y_error_1, color='blue', label='N = 100')\n",
    "plt.plot(x_con_2, y_error_2, color='green', label='N = 300')\n",
    "plt.plot(x_con_3, y_error_3, color='purple', label='N = 500')\n",
    "plt.plot(x_con_4, y_error_4, color='orange', label='N = 700')\n",
    "\n",
    "plt.title(\"Convergence of u with various dimensions: u_k1 vs u_exact\")\n",
    "plt.xlabel('number of iteration')\n",
    "plt.ylabel('relative error')\n",
    "plt.legend()\n",
    "plt.show()"
   ]
  },
  {
   "cell_type": "markdown",
   "id": "oLo5en_cvALv",
   "metadata": {
    "id": "oLo5en_cvALv"
   },
   "source": [
    "## Comment:"
   ]
  },
  {
   "cell_type": "markdown",
   "id": "gq9TFZSovCNj",
   "metadata": {
    "id": "gq9TFZSovCNj"
   },
   "source": [
    "As N grows, the rate of convergence becomes lower. The obvious changes and differences of the rates can be observed when the relative error is around 1.25. Also, more iterations are acquired to achieve \n",
    "the same accuracy set before (np.float32) considering a higher N. \n",
    "\n",
    "Compared to the discretise solution in Task1 where the convergence seems to be linear, the convergence in Task 2 is not linear with a lower convergence rate."
   ]
  }
 ],
 "metadata": {
  "accelerator": "GPU",
  "colab": {
   "collapsed_sections": [],
   "machine_shape": "hm",
   "name": "Assignment2_12_Cuda.ipynb",
   "provenance": []
  },
  "kernelspec": {
   "display_name": "Python 3",
   "language": "python",
   "name": "python3"
  },
  "language_info": {
   "codemirror_mode": {
    "name": "ipython",
    "version": 3
   },
   "file_extension": ".py",
   "mimetype": "text/x-python",
   "name": "python",
   "nbconvert_exporter": "python",
   "pygments_lexer": "ipython3",
   "version": "3.8.8"
  }
 },
 "nbformat": 4,
 "nbformat_minor": 5
}

{
  "nbformat": 4,
  "nbformat_minor": 5,
  "metadata": {
    "kernelspec": {
      "display_name": "Python 3",
      "language": "python",
      "name": "python3"
    },
    "language_info": {
      "codemirror_mode": {
        "name": "ipython",
        "version": 3
      },
      "file_extension": ".py",
      "mimetype": "text/x-python",
      "name": "python",
      "nbconvert_exporter": "python",
      "pygments_lexer": "ipython3",
      "version": "3.8.8"
    },
    "colab": {
      "name": "Assignment2.ipynb",
      "provenance": [],
      "collapsed_sections": []
    },
    "accelerator": "GPU"
  },
  "cells": [
    {
      "cell_type": "markdown",
      "metadata": {
        "id": "a5956f8a-5cf8-42f0-b574-90c1dcdba0cb"
      },
      "source": [
        "## Assignment2"
      ],
      "id": "a5956f8a-5cf8-42f0-b574-90c1dcdba0cb"
    },
    {
      "cell_type": "markdown",
      "metadata": {
        "id": "8d415c3d-667b-42bb-a8b0-782badf7074e"
      },
      "source": [
        "## Task 1"
      ],
      "id": "8d415c3d-667b-42bb-a8b0-782badf7074e"
    },
    {
      "cell_type": "code",
      "metadata": {
        "id": "0c0508bf-7f03-4e99-987a-b7094e5b80ba"
      },
      "source": [
        "import numpy as np\n",
        "from scipy.sparse import coo_matrix\n",
        "\n",
        "def discretise(f,g,N):\n",
        "    \"\"\"Generate the matrix and rhs associated with the discrete Poisson operator.\"\"\"\n",
        "    \n",
        "    nelements = 5 * N**2 - 16 * N + 16\n",
        "    \n",
        "    row_ind = np.empty(nelements, dtype=np.float64)\n",
        "    col_ind = np.empty(nelements, dtype=np.float64)\n",
        "    data = np.empty(nelements, dtype=np.float64)\n",
        "    \n",
        "    b = np.empty(N * N, dtype=np.float64)\n",
        "    \n",
        "    count = 0\n",
        "    for j in range(N):\n",
        "        for i in range(N):\n",
        "            if i == 0 or i == N - 1 or j == 0 or j == N - 1:\n",
        "                row_ind[count] = col_ind[count] = j * N + i\n",
        "                data[count] = 1\n",
        "                b[j * N + i] = g[j * N + i]\n",
        "                count += 1\n",
        "                 \n",
        "            else:\n",
        "                row_ind[count : count + 5] = j * N + i\n",
        "                col_ind[count] = j * N + i\n",
        "                col_ind[count + 1] = j * N + i + 1\n",
        "                col_ind[count + 2] = j * N + i - 1\n",
        "                col_ind[count + 3] = (j + 1) * N + i\n",
        "                col_ind[count + 4] = (j - 1) * N + i\n",
        "                                \n",
        "                data[count] = 4 * (N - 1)**2\n",
        "                data[count + 1 : count + 5] = - (N - 1)**2\n",
        "                b[j * N + i] = f[j * N + i]\n",
        "                \n",
        "                count += 5\n",
        "                                                \n",
        "    return coo_matrix((data, (row_ind, col_ind)), shape=(N**2, N**2)).tocsr(), b"
      ],
      "id": "0c0508bf-7f03-4e99-987a-b7094e5b80ba",
      "execution_count": 89,
      "outputs": []
    },
    {
      "cell_type": "code",
      "metadata": {
        "id": "cacd38bc-2230-4c86-b0f6-4c33ecc2d9b8"
      },
      "source": [
        "%matplotlib inline\n",
        "from matplotlib import pyplot as plt\n",
        "from mpl_toolkits.mplot3d import Axes3D\n",
        "from matplotlib import cm\n",
        "\n",
        "from scipy.sparse.linalg import spsolve\n",
        "\n",
        "from math import *\n",
        "from sympy import *\n",
        "\n",
        "# comput partitial derivative of u_exact\n",
        "\n",
        "x, y = symbols('x, y')\n",
        "u_exact = exp((x-0.5)**2+(y-0.5)**2)\n",
        "dxdx = diff(diff(u_exact, x), x)\n",
        "dydy = diff(diff(u_exact, y), y)\n",
        "laplace = dxdx + dydy\n"
      ],
      "id": "cacd38bc-2230-4c86-b0f6-4c33ecc2d9b8",
      "execution_count": 90,
      "outputs": []
    },
    {
      "cell_type": "code",
      "metadata": {
        "id": "3b9b5317-8880-4139-81ef-7822a2f6d477",
        "colab": {
          "base_uri": "https://localhost:8080/",
          "height": 334
        },
        "outputId": "b3fd90f5-e467-40a8-f493-e6f6b577d720"
      },
      "source": [
        "list_N = [100]\n",
        "error = []\n",
        "for N in list_N:\n",
        "    F = np.empty(N * N)\n",
        "    G = np.empty(N * N)\n",
        "    k = 0\n",
        "    for i in range(N):\n",
        "        for j in range(N):\n",
        "            lap = -laplace.subs({x: i*(1/(N-1)), y: j*(1/(N-1))})\n",
        "            exc = u_exact.subs({x: i*(1/(N-1)), y: j*(1/(N-1))})\n",
        "            F[k] = lap\n",
        "            G[k] = exc\n",
        "            k += 1\n",
        "\n",
        "    A, b = discretise(F,G,N)\n",
        "    sol = spsolve(A, b)\n",
        "\n",
        "    e = []\n",
        "    for i in range(len(sol)):\n",
        "        e_rel = abs(sol[i] - G[i])/abs(G[i])\n",
        "        e.append(np.float64(e_rel))\n",
        "\n",
        "    error.append(max(e))\n",
        "\n",
        "X = list_N\n",
        "Y = error\n",
        "\n",
        "plt.title('Relative error against N')\n",
        "plt.xlabel('number of N')\n",
        "plt.ylabel('Relative error')\n",
        "plt.loglog(X,Y)\n",
        "plt.show()\n",
        "\n",
        "'''\n",
        "u = sol.reshape((N, N))\n",
        "print(u,len(u))\n",
        "fig = plt.figure(figsize=(8, 8))\n",
        "ax = fig.gca(projection='3d')\n",
        "ticks= np.linspace(0, 1, N)\n",
        "X, Y = np.meshgrid(ticks, ticks)\n",
        "surf = ax.plot_surface(X, Y, u, antialiased=False, cmap=cm.coolwarm)\n",
        "plt.show()\n",
        "'''"
      ],
      "id": "3b9b5317-8880-4139-81ef-7822a2f6d477",
      "execution_count": 93,
      "outputs": [
        {
          "output_type": "display_data",
          "data": {
            "image/png": "[encoded data removed]",
            "text/plain": [
              "<Figure size 432x288 with 1 Axes>"
            ]
          },
          "metadata": {
            "needs_background": "light"
          }
        },
        {
          "output_type": "execute_result",
          "data": {
            "application/vnd.google.colaboratory.intrinsic+json": {
              "type": "string"
            },
            "text/plain": [
              "\"\\nu = sol.reshape((N, N))\\nprint(u,len(u))\\nfig = plt.figure(figsize=(8, 8))\\nax = fig.gca(projection='3d')\\nticks= np.linspace(0, 1, N)\\nX, Y = np.meshgrid(ticks, ticks)\\nsurf = ax.plot_surface(X, Y, u, antialiased=False, cmap=cm.coolwarm)\\nplt.show()\\n\""
            ]
          },
          "metadata": {},
          "execution_count": 93
        }
      ]
    },
    {
      "cell_type": "code",
      "metadata": {
        "colab": {
          "base_uri": "https://localhost:8080/"
        },
        "id": "OjukzoOGZea7",
        "outputId": "962d239f-9675-47b3-f667-5534c3048949"
      },
      "source": [
        "print(\"CPU Benchmark\")\n",
        "\n",
        "%timeit y_cpu = discretise(F,G,N)"
      ],
      "id": "OjukzoOGZea7",
      "execution_count": 94,
      "outputs": [
        {
          "output_type": "stream",
          "name": "stdout",
          "text": [
            "CPU Benchmark\n",
            "10 loops, best of 5: 37.5 ms per loop\n"
          ]
        }
      ]
    },
    {
      "cell_type": "markdown",
      "metadata": {
        "id": "nDfy86eDJloU"
      },
      "source": [
        "# Task 2"
      ],
      "id": "nDfy86eDJloU"
    },
    {
      "cell_type": "code",
      "metadata": {
        "colab": {
          "base_uri": "https://localhost:8080/"
        },
        "id": "NE2f6ZylJvn4",
        "outputId": "36796556-8cb6-497d-9600-d3711d3b82ea"
      },
      "source": [
        "import numpy as np\n",
        "import numba\n",
        "from numba import cuda\n",
        "import math\n",
        "from sympy import *\n",
        "\n",
        "N = 8\n",
        "\n",
        "x, y = symbols('x, y')\n",
        "u_exact = exp((x-0.5)**2+(y-0.5)**2)\n",
        "dxdx = diff(diff(u_exact, x), x)\n",
        "dydy = diff(diff(u_exact, y), y)\n",
        "laplace = dxdx + dydy\n",
        "\n",
        "F = np.empty(N * N)\n",
        "G = np.empty(N * N)\n",
        "\n",
        "k = 0\n",
        "for i in range(N):\n",
        "    for j in range(N):\n",
        "        lap = -laplace.subs({x: i*(1/(N-1)), y: j*(1/(N-1))})\n",
        "        exc = u_exact.subs({x: i*(1/(N-1)), y: j*(1/(N-1))})\n",
        "        F[k] = lap\n",
        "        G[k] = exc\n",
        "        k += 1\n",
        "\n",
        "f = F.reshape((N,N))\n",
        "g = G.reshape((N,N))\n",
        "u = np.zeros((N,N), dtype=np.float32)\n",
        "U = np.zeros((N,N), dtype=np.float32)\n",
        "\n",
        "def discretise_new(f,g,u):\n",
        "  for i in range(N): # 1 ~ N-1\n",
        "    for j in range(N):\n",
        "\n",
        "      if i == 0 and j == 0:\n",
        "        U[i,j] = 0.25*((1/(N-1)**2)*f[i,j]+ g[i,j] + u[i+1,j] + g[i,j] + u[i,j+1])\n",
        "                       \n",
        "      elif i == 0 and j == N-1:\n",
        "        U[i,j] = 0.25*((1/(N-1)**2)*f[i,j]+ g[i,j] + u[i+1,j] + u[i,j-1] + g[i,j])\n",
        "\n",
        "      elif i == N-1 and j == 0:\n",
        "        U[i,j] = 0.25*((1/(N-1)**2)*f[i,j]+ u[i-1,j] + g[i,j] + g[i,j] + u[i,j+1])\n",
        "\n",
        "      elif i == N-1 and j == N-1:\n",
        "        U[i,j] = 0.25*((1/(N-1)**2)*f[i,j]+ u[i-1,j] + g[i,j] + u[i,j-1] + g[i,j])\n",
        "\n",
        "      elif i == 0:\n",
        "        U[i,j] = 0.25*((1/(N-1)**2)*f[i,j]+ g[i,j] + u[i+1,j] + u[i,j-1] + u[i,j+1])\n",
        "\n",
        "      elif i == N-1:\n",
        "        U[i,j] = 0.25*((1/(N-1)**2)*f[i,j]+ u[i-1,j] + g[i,j] + u[i,j-1] + u[i,j+1])\n",
        "    \n",
        "      elif j == 0:\n",
        "        U[i,j] = 0.25*((1/(N-1)**2)*f[i,j]+ u[i-1,j] + u[i+1,j] + g[i,j] + u[i,j+1])\n",
        "\n",
        "      elif j == N-1:\n",
        "        U[i,j] = 0.25*((1/(N-1)**2)*f[i,j]+ u[i-1,j] + u[i+1,j] + u[i,j-1] + g[i,j])\n",
        "\n",
        "      else:\n",
        "        U[i,j] = 0.25*((1/(N-1)**2)*f[i,j]+ u[i-1,j] + u[i+1,j] + u[i,j-1] + u[i,j+1])\n",
        "\n",
        "\n",
        "  return U\n",
        "\n",
        "discretise_new(f,g,u)  \n",
        "print(U,len(U))\n"
      ],
      "id": "NE2f6ZylJvn4",
      "execution_count": 85,
      "outputs": [
        {
          "output_type": "stream",
          "name": "stdout",
          "text": [
            "[[ 0.7738896   0.32366788  0.30053538  0.28959066  0.28959066  0.30053538\n",
            "   0.32366788  0.7738896 ]\n",
            " [ 0.32366788 -0.03305768 -0.02848475 -0.02639437 -0.02639437 -0.02848475\n",
            "  -0.03305768  0.32366788]\n",
            " [ 0.30053538 -0.02848475 -0.02442563 -0.02257215 -0.02257215 -0.02442563\n",
            "  -0.02848475  0.30053538]\n",
            " [ 0.28959066 -0.02639437 -0.02257215 -0.02082786 -0.02082786 -0.02257215\n",
            "  -0.02639437  0.28959066]\n",
            " [ 0.28959066 -0.02639437 -0.02257215 -0.02082786 -0.02082786 -0.02257215\n",
            "  -0.02639437  0.28959066]\n",
            " [ 0.30053538 -0.02848475 -0.02442563 -0.02257215 -0.02257215 -0.02442563\n",
            "  -0.02848475  0.30053538]\n",
            " [ 0.32366788 -0.03305768 -0.02848475 -0.02639437 -0.02639437 -0.02848475\n",
            "  -0.03305768  0.32366788]\n",
            " [ 0.7738896   0.32366788  0.30053538  0.28959066  0.28959066  0.30053538\n",
            "   0.32366788  0.7738896 ]] 8\n"
          ]
        }
      ]
    },
    {
      "cell_type": "code",
      "metadata": {
        "id": "pY9T-Dsn1_9j"
      },
      "source": [
        "import numba\n",
        "from numba import cuda\n",
        "import math\n",
        "\n",
        "\n",
        "SX = 16\n",
        "SY = 16\n",
        "\n",
        "\n",
        "@cuda.jit\n",
        "def discretise_cuda(u,U,f,g,N):\n",
        "    local_U = cuda.shared.array((SX, SY), numba.float32)\n",
        "\n",
        "    block_x = cuda.blockIdx.x\n",
        "    block_y = cuda.blockIdx.y\n",
        "\n",
        "    tx = cuda.threadIdx.x\n",
        "    ty = cuda.threadIdx.y\n",
        "    \n",
        "    px, py = cuda.grid(2)\n",
        "\n",
        "  \n",
        "    if px >= N:\n",
        "        return\n",
        "    if py >= N:\n",
        "        return\n",
        "\n",
        "    if px == 0 and py == 0: # 左上角\n",
        "        local_U[tx,ty] = 0.25*((1/(N-1)**2)*f[px,py]+ g[px,py] + u[px+1,py] + g[px,py] + u[px,py+1])\n",
        "                       \n",
        "    if px == 0 and py == N-1: # 右上角\n",
        "        local_U[tx,ty] = 0.25*((1/(N-1)**2)*f[px,py]+ g[px,py] + u[px+1,py] + u[px,py-1] + g[px,py])\n",
        "\n",
        "      elif px == N-1 and py == 0: # 左下角\n",
        "        local_U[tx,ty] = 0.25*((1/(N-1)**2)*f[px,py]+ u[px-1,py] + g[px,py] + g[px,py] + u[px,py+1])\n",
        "\n",
        "      elif px == N-1 and py == N-1: # 右下角\n",
        "        local_U[tx,ty] = 0.25*((1/(N-1)**2)*f[px,py]+ u[px-1,py] + g[px,py] + u[px,py-1] + g[px,py])\n",
        "\n",
        "      elif px == 0: # 上边\n",
        "        local_U[tx,ty] = 0.25*((1/(N-1)**2)*f[px,py]+ g[px,py] + u[px+1,py] + u[px,py-1] + u[px,py+1])\n",
        "\n",
        "      elif px == N-1: # 下边\n",
        "        local_U[tx,ty] = 0.25*((1/(N-1)**2)*f[px,py]+ u[px-1,py] + g[px,py] + u[px,py-1] + u[px,py+1])\n",
        "    \n",
        "      elif py == 0: # 左边\n",
        "        local_U[tx,ty] = 0.25*((1/(N-1)**2)*f[px,py]+ u[px-1,py] + u[px+1,py] + g[px,py] + u[px,py+1])\n",
        "\n",
        "      elif py == N-1: # 右边\n",
        "        local_U[tx,ty] = 0.25*((1/(N-1)**2)*f[px,py]+ u[px-1,py] + u[px+1,py] + u[px,py-1] + g[px,py])\n",
        "\n",
        "      else: # 内点\n",
        "        local_U[tx,ty] = 0.25*((1/(N-1)**2)*f[px,py]+ u[px-1,py] + u[px+1,py] + u[px,py-1] + u[px,py+1])\n",
        "\n",
        "      cuda.syncthreads()\n",
        "\n",
        "\n",
        "\n",
        "      "
      ],
      "id": "pY9T-Dsn1_9j",
      "execution_count": null,
      "outputs": []
    },
    {
      "cell_type": "code",
      "metadata": {
        "id": "GEsbrsl5OdW0"
      },
      "source": [
        "nblocks = (N + SX - 1) // SX\n",
        "discretise_cuda[(nblocks, nblocks), (SX, SY)]()"
      ],
      "id": "GEsbrsl5OdW0",
      "execution_count": null,
      "outputs": []
    },
    {
      "cell_type": "code",
      "metadata": {
        "id": "aFqUtdxTREbD"
      },
      "source": [
        ""
      ],
      "id": "aFqUtdxTREbD",
      "execution_count": null,
      "outputs": []
    },
    {
      "cell_type": "code",
      "metadata": {
        "id": "d-Apb0g5ITNi"
      },
      "source": [
        "import numpy as np\n",
        "import numba\n",
        "from numba import cuda\n",
        "import math\n",
        "from sympy import *\n",
        "\n",
        "\n",
        "@cuda.jit\n",
        "def discrete_cuda(u, U, g, f, N):\n",
        "    \"\"\"Evaluate the discrete Laplace operator.\"\"\"\n",
        "    \n",
        "    i, j = cuda.grid(2)\n",
        "    \n",
        "    if i >= N:\n",
        "        return\n",
        "    if j >= N:\n",
        "        return\n",
        "    \n",
        "    # Compute the vector index\n",
        "    k = j * N + i\n",
        "    \n",
        "    up = u[(j + 1) * N + i]\n",
        "    down = u[(j - 1) * N + i]\n",
        "    left = u[j * N + i - 1]\n",
        "    right = u[j * N + i + 1]\n",
        "    \n",
        "    if i == 0 and j == 0:\n",
        "        U[k] = 0.25*((1/(N-1)**2)*f[k]+ up + g[k] + g[k] + right)\n",
        "                       \n",
        "    elif i == 0 and j == N-1:\n",
        "        U[k] = 0.25*((1/(N-1)**2)*f[k]+ g[k] + down + g[k] + right)\n",
        "\n",
        "    elif i == N-1 and j == 0:\n",
        "        U[k] = 0.25*((1/(N-1)**2)*f[k]+ up + g[k] + left + g[k])\n",
        "\n",
        "    elif i == N-1 and j == N-1:\n",
        "        U[k] = 0.25*((1/(N-1)**2)*f[k]+ g[k] + down + left + g[k])\n",
        "\n",
        "    elif i == 0:\n",
        "        U[k] = 0.25*((1/(N-1)**2)*f[k]+ up + down + g[k] + right)\n",
        "\n",
        "    elif i == N-1:\n",
        "        U[k] = 0.25*((1/(N-1)**2)*f[k]+ up + down + left + g[k])\n",
        "    \n",
        "    elif j == 0:\n",
        "        U[k] = 0.25*((1/(N-1)**2)*f[k]+ up + g[k] + left + right)\n",
        "\n",
        "    elif j == N-1:\n",
        "        U[k] = 0.25*((1/(N-1)**2)*f[k]+ g[k] + down + left + right)\n",
        "\n",
        "    else:\n",
        "        U[k] = 0.25*((1/(N-1)**2)*f[k]+ up + down + left + right)\n",
        "\n",
        "\n",
        "N = 8\n",
        "x, y = symbols('x, y')\n",
        "u_exact = exp((x-0.5)**2+(y-0.5)**2)\n",
        "dxdx = diff(diff(u_exact, x), x)\n",
        "dydy = diff(diff(u_exact, y), y)\n",
        "laplace = dxdx + dydy\n",
        "\n",
        "def eval_gpu(N):\n",
        "    \"\"\"Evaluate the discrete Laplacian on the GPU.\"\"\"\n",
        "\n",
        "    F = np.empty(N * N, dtype=np.float32)\n",
        "    G = np.empty(N * N, dtype=np.float32)\n",
        "\n",
        "    k = 0\n",
        "    for i in range(N):\n",
        "        for j in range(N):\n",
        "            lap = -laplace.subs({x: i*(1/(N-1)), y: j*(1/(N-1))})\n",
        "            exc = u_exact.subs({x: i*(1/(N-1)), y: j*(1/(N-1))})\n",
        "            F[k] = lap\n",
        "            G[k] = exc\n",
        "            k += 1\n",
        "\n",
        "    u = np.zeros(N * N, dtype=np.float32)\n",
        "    U = np.zeros(N * N, dtype=np.float32)\n",
        "    \n",
        "    nblocks = (N + 31) // 32\n",
        "    discrete_cuda[(nblocks, nblocks), (32, 32)](u,U,G,F,N)\n",
        "    return U.astype('float32')"
      ],
      "id": "d-Apb0g5ITNi",
      "execution_count": 6,
      "outputs": []
    },
    {
      "cell_type": "code",
      "metadata": {
        "colab": {
          "base_uri": "https://localhost:8080/"
        },
        "id": "DCorOxCkZDXo",
        "outputId": "2d9813bb-d5ee-4f6f-f33e-35d0b82fddcd"
      },
      "source": [
        "U = eval_gpu(N)\n",
        "print(U)"
      ],
      "id": "DCorOxCkZDXo",
      "execution_count": 9,
      "outputs": [
        {
          "output_type": "stream",
          "name": "stdout",
          "text": [
            "[ 0.77388954  0.32366788  0.30053538  0.28959063  0.28959063  0.30053538\n",
            "  0.32366788  0.77388954  0.32366788 -0.03305768 -0.02848476 -0.02639437\n",
            " -0.02639437 -0.02848476 -0.03305768  0.32366788  0.30053538 -0.02848476\n",
            " -0.02442563 -0.02257215 -0.02257215 -0.02442563 -0.02848476  0.30053538\n",
            "  0.28959063 -0.02639437 -0.02257215 -0.02082786 -0.02082786 -0.02257215\n",
            " -0.02639437  0.28959063  0.28959063 -0.02639437 -0.02257215 -0.02082786\n",
            " -0.02082786 -0.02257215 -0.02639437  0.28959063  0.30053538 -0.02848476\n",
            " -0.02442563 -0.02257215 -0.02257215 -0.02442563 -0.02848476  0.30053538\n",
            "  0.32366788 -0.03305768 -0.02848476 -0.02639437 -0.02639437 -0.02848476\n",
            " -0.03305768  0.32366788  0.77388954  0.32366788  0.30053538  0.28959063\n",
            "  0.28959063  0.30053538  0.32366788  0.77388954]\n"
          ]
        }
      ]
    },
    {
      "cell_type": "code",
      "metadata": {
        "id": "pFO1rHM7cjFV"
      },
      "source": [
        ""
      ],
      "id": "pFO1rHM7cjFV",
      "execution_count": null,
      "outputs": []
    },
    {
      "cell_type": "code",
      "metadata": {
        "colab": {
          "base_uri": "https://localhost:8080/"
        },
        "id": "qLokeGV4ZNxV",
        "outputId": "081b1176-3aca-41ff-fe72-f1568cfb95cf"
      },
      "source": [
        "import numba\n",
        "from numba import cuda\n",
        "import math\n",
        "\n",
        "\n",
        "print(\"GPU Benchmark\")\n",
        "%timeit y_gpu = eval_gpu(N)"
      ],
      "id": "qLokeGV4ZNxV",
      "execution_count": 3,
      "outputs": [
        {
          "output_type": "stream",
          "name": "stdout",
          "text": [
            "GPU Benchmark\n",
            "1 loop, best of 5: 11 s per loop\n"
          ]
        }
      ]
    }
  ]
}
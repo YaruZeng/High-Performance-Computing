{
 "cells": [
  {
   "cell_type": "markdown",
   "id": "2c2554cb",
   "metadata": {},
   "source": [
    "## Task1"
   ]
  },
  {
   "cell_type": "markdown",
   "id": "cece5ccf",
   "metadata": {},
   "source": [
    "### The difficulties of the CSR format"
   ]
  },
  {
   "cell_type": "markdown",
   "id": "3b55274e",
   "metadata": {},
   "source": [
    "The performance of the code based on CSR to compute the sparse matrix vector product (i.e. u=Av where A is the sparse matrix, u and v are the output and input vectors respectively) on superscalar architectures is difficult to optimized due to the two drawbacks of the code:\n",
    "\n",
    "First, the access locality of vector v is not maintained due to the indirect addressing. \n",
    "Second, the fine grained parallelism is not exploited because the number of iterations of the inner loop is small and variable.\n"
   ]
  },
  {
   "cell_type": "markdown",
   "id": "69ae35e3",
   "metadata": {},
   "source": [
    "### How Ellpack and Ellpack-R solve these difficulties"
   ]
  },
  {
   "cell_type": "markdown",
   "id": "299b2688",
   "metadata": {},
   "source": [
    "Ellpack format:\n",
    "\n",
    "This format stores the sparse matrix on two arrays, one float A[ ], to save the entries, and one integer J[ ], to save the column index of every entry. Both arrays are of dimension N × Max nzr at least, where N is the number of rows and Max_nzr is the maximum number of non-zeros per row in the matrix, with the maximum being taken over all rows. Note that the size of all rows in these compressed arrays A[ ] and J[ ] is the same, because every row is padded with zeros. \n",
    "\n",
    "Focusing our interest on the GPU architecture and if every element i of vector u is computed by a thread identified by index x = i and the arrays store their elements in column-major order, then the SpMV based on ELLPACK can improve the performance due to the coalesced global memory access and non-synchronized execution between different thread blocks.\n",
    "\n",
    "\n",
    "Ellpack-R format:\n",
    "\n",
    "ELLPACK-R consists of two arrays, A[ ] (float) and J[ ] (integer) of dimension N × Max nzr; and, moreover, an additional integer array called rl[ ] of dimension N (i.e. the number of rows) is included with the purpose of storing the actual length of every row, regardless of the number of the zero elements padded.\n",
    "\n",
    "The algorithms ELLR-T to compute SpMV with GPUs take advantage of: (1) Coalesced and aligned global memory access. (2) Homogeneous computing within the warps. (3) Reduction of useless computation and unbalance of the threads of one warp. (4) High occupancy."
   ]
  },
  {
   "cell_type": "markdown",
   "id": "4b7041df",
   "metadata": {},
   "source": [
    "## Task2"
   ]
  },
  {
   "cell_type": "code",
   "execution_count": 1,
   "id": "dc198aac",
   "metadata": {},
   "outputs": [],
   "source": [
    "import matplotlib.pyplot as plt\n",
    "import numpy as np\n",
    "import numba\n",
    "from numba import prange,njit\n",
    "import scipy\n",
    "from scipy.sparse import coo_matrix\n",
    "from scipy.sparse.linalg import LinearOperator\n",
    "\n",
    "\n",
    "class EllpackMatrix(LinearOperator):\n",
    "    \n",
    "    def __init__(self, mtr):\n",
    "        \n",
    "        self.data = mtr.data\n",
    "        self.indices = mtr.indices\n",
    "        self.indptr = mtr.indptr\n",
    "        \n",
    "        self.shape = mtr.shape\n",
    "        self.dtype = mtr.dtype\n",
    "        self.A, self.J, self.rl = csr_ellr(self.data, self.indices, self.indptr, self.dtype)\n",
    "        \n",
    "    def _matvec(self, v):\n",
    "        return ell_matvec(self.A, self.J, self.rl, v, self.dtype)\n",
    "    \n",
    "    \n",
    "@numba.njit(parallel=True)    \n",
    "def ell_matvec(A,J,rl,v,dtype):\n",
    "\n",
    "    result = np.zeros(A.shape[0],dtype=dtype)\n",
    "\n",
    "    for i in prange(rl.shape[0]):\n",
    "        r = int(rl[i])\n",
    "        for k in range(r):\n",
    "            j = int(J[i,k])\n",
    "            result[i] += A[i,k]*v[j]\n",
    "    return result\n",
    "     \n",
    "    \n",
    "@numba.njit(parallel=True)\n",
    "def csr_ellr(data, indices, indptr, dtype):\n",
    "    \n",
    "    rl = np.zeros(indptr.shape[0]-1, dtype=dtype)\n",
    "    \n",
    "    for i in range(indptr.shape[0]-1):\n",
    "        temp = indptr[i+1] - indptr[i]\n",
    "        rl[i] = temp\n",
    "        \n",
    "    row_num = int(rl.shape[0])\n",
    "    col_num = int(max(rl))\n",
    "    A = np.zeros(shape=(row_num,col_num),dtype=dtype)\n",
    "    J = np.zeros(shape=(row_num,col_num),dtype=dtype)\n",
    "    \n",
    "    cnt = 0   \n",
    "    for i in range(rl.shape[0]):\n",
    "        r = int(rl[i])\n",
    "        for j in prange(r):\n",
    "            A[i,j] = data[cnt+j]\n",
    "            J[i,j] = indices[cnt+j]   \n",
    "        cnt += r\n",
    "        \n",
    "    return A,J,rl\n",
    "    \n"
   ]
  },
  {
   "cell_type": "code",
   "execution_count": 87,
   "id": "a50f97d4",
   "metadata": {},
   "outputs": [],
   "source": [
    "import time\n",
    "\n",
    "class Timer:    \n",
    "    def __enter__(self):\n",
    "        self.start = time.time()\n",
    "        return self\n",
    "\n",
    "    def __exit__(self, *args):\n",
    "        self.end = time.time()\n",
    "        self.interval = self.end - self.start"
   ]
  },
  {
   "cell_type": "code",
   "execution_count": 2,
   "id": "a44b1869",
   "metadata": {},
   "outputs": [
    {
     "name": "stdout",
     "output_type": "stream",
     "text": [
      "112 µs ± 3.8 µs per loop (mean ± std. dev. of 7 runs, 10000 loops each)\n",
      "26.3 µs ± 96.2 ns per loop (mean ± std. dev. of 7 runs, 10000 loops each)\n",
      "Relative distance of Ellpack-R matvec product to CSR matvec product with v0: 0.0.\n",
      "113 µs ± 2.92 µs per loop (mean ± std. dev. of 7 runs, 10000 loops each)\n",
      "26.2 µs ± 115 ns per loop (mean ± std. dev. of 7 runs, 10000 loops each)\n",
      "Relative distance of Ellpack-R matvec product to CSR matvec product with v1: 0.0.\n",
      "117 µs ± 1.58 µs per loop (mean ± std. dev. of 7 runs, 10000 loops each)\n",
      "26.4 µs ± 502 ns per loop (mean ± std. dev. of 7 runs, 10000 loops each)\n",
      "Relative distance of Ellpack-R matvec product to CSR matvec product with v2: 0.0.\n"
     ]
    }
   ],
   "source": [
    "for i in range(3):\n",
    "    \n",
    "    csr_mat = scipy.sparse.random(1000, 1000, format='csr', dtype = 'float64')\n",
    "    ell_mat = EllpackMatrix(csr_mat)\n",
    "    \n",
    "    v = np.random.randn(csr_mat.shape[1])\n",
    "    \n",
    "    y_ellr = ell_mat @ v\n",
    "    y_csr = csr_mat @ v\n",
    "    timeit_result_ell = %timeit -o ell_mat @ v\n",
    "    timeit_result_csr = %timeit -o csr_mat @ v\n",
    "\n",
    "    rel_dist = np.linalg.norm(y_ellr - y_csr, np.inf) / np.linalg.norm(y_csr, np.inf)\n",
    "    print(f\"Relative distance of Ellpack-R matvec product to CSR matvec product with v{i}: {round(rel_dist, 5)}.\")\n",
    "    "
   ]
  },
  {
   "cell_type": "code",
   "execution_count": 92,
   "id": "06be20a8",
   "metadata": {},
   "outputs": [],
   "source": [
    "def discretise_poisson(N):\n",
    "    \"\"\"Generate the matrix and rhs associated with the discrete Poisson operator.\"\"\"\n",
    "    \n",
    "    nelements = 5 * N**2 - 16 * N + 16\n",
    "    \n",
    "    row_ind = np.empty(nelements, dtype=np.float64)\n",
    "    col_ind = np.empty(nelements, dtype=np.float64)\n",
    "    data = np.empty(nelements, dtype=np.float64)\n",
    "    \n",
    "    f = np.empty(N * N, dtype=np.float64)\n",
    "    \n",
    "    count = 0\n",
    "    for j in range(N):\n",
    "        for i in range(N):\n",
    "            if i == 0 or i == N - 1 or j == 0 or j == N - 1:\n",
    "                row_ind[count] = col_ind[count] = j * N + i\n",
    "                data[count] =  1\n",
    "                f[j * N + i] = 0\n",
    "                count += 1\n",
    "                \n",
    "            else:\n",
    "                row_ind[count : count + 5] = j * N + i\n",
    "                col_ind[count] = j * N + i\n",
    "                col_ind[count + 1] = j * N + i + 1\n",
    "                col_ind[count + 2] = j * N + i - 1\n",
    "                col_ind[count + 3] = (j + 1) * N + i\n",
    "                col_ind[count + 4] = (j - 1) * N + i\n",
    "                                \n",
    "                data[count] = 4 * (N - 1)**2\n",
    "                data[count + 1 : count + 5] = - (N - 1)**2\n",
    "                f[j * N + i] = 1\n",
    "                \n",
    "                count += 5\n",
    "                                                \n",
    "    return coo_matrix((data, (row_ind, col_ind)), shape=(N**2, N**2)).tocsr(), f"
   ]
  },
  {
   "cell_type": "code",
   "execution_count": null,
   "id": "7d42741d",
   "metadata": {
    "scrolled": true
   },
   "outputs": [
    {
     "name": "stdout",
     "output_type": "stream",
     "text": [
      "2.81 ms ± 72.6 µs per loop (mean ± std. dev. of 7 runs, 100 loops each)\n",
      "13.7 ms ± 77.7 µs per loop (mean ± std. dev. of 7 runs, 100 loops each)\n",
      "10.5 ms ± 214 µs per loop (mean ± std. dev. of 7 runs, 100 loops each)\n",
      "54.2 ms ± 397 µs per loop (mean ± std. dev. of 7 runs, 10 loops each)\n"
     ]
    }
   ],
   "source": [
    "N_list = [10,500,1000,2000,3000,4000,5000,6000,7000,8000,9000,10000]\n",
    "time_ellr = []\n",
    "time_csr = []\n",
    "\n",
    "for N in N_list:\n",
    "    \n",
    "    csr_mat, f = discretise_poisson(N)\n",
    "    \n",
    "    ell_mat = EllpackMatrix(csr_mat)\n",
    "    v = np.random.randn(csr_mat.shape[1])\n",
    "    \n",
    "    timeit_result_ellr = %timeit -o ell_mat @ v\n",
    "    time_ellr.append(timeit_result_ellr.best)\n",
    "    \n",
    "    timeit_result_csr = %timeit -o csr_mat @ v\n",
    "    time_csr.append(timeit_result_csr.best)\n",
    "\n"
   ]
  },
  {
   "cell_type": "code",
   "execution_count": null,
   "id": "d9b07f8d",
   "metadata": {},
   "outputs": [],
   "source": [
    "x = N_list\n",
    "y1 = time_csr\n",
    "y2 = time_ellr\n",
    "plt.plot(x,y1,color = 'red',label = 'CSR')\n",
    "plt.plot(x,y2,color = 'blue',label = 'Ellpack-R')\n",
    "plt.title('Banchmarking: time cost for Scipy CSR matvec and Ellpack-R matvec')\n",
    "plt.xlabel('Matrix-size')\n",
    "plt.ylabel('Time cost')\n",
    "plt.legend()"
   ]
  },
  {
   "cell_type": "code",
   "execution_count": null,
   "id": "d041711a",
   "metadata": {},
   "outputs": [],
   "source": []
  }
 ],
 "metadata": {
  "kernelspec": {
   "display_name": "Python 3",
   "language": "python",
   "name": "python3"
  },
  "language_info": {
   "codemirror_mode": {
    "name": "ipython",
    "version": 3
   },
   "file_extension": ".py",
   "mimetype": "text/x-python",
   "name": "python",
   "nbconvert_exporter": "python",
   "pygments_lexer": "ipython3",
   "version": "3.8.8"
  }
 },
 "nbformat": 4,
 "nbformat_minor": 5
}

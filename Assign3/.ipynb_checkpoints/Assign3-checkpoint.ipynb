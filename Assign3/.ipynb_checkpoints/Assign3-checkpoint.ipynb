{
 "cells": [
  {
   "cell_type": "markdown",
   "id": "2c2554cb",
   "metadata": {},
   "source": [
    "## Task1"
   ]
  },
  {
   "cell_type": "markdown",
   "id": "cece5ccf",
   "metadata": {},
   "source": [
    "### The difficulties of the CSR format"
   ]
  },
  {
   "cell_type": "markdown",
   "id": "3b55274e",
   "metadata": {},
   "source": [
    "The performance of the code based on CSR to compute the sparse matrix vector product (i.e. u=Av where A is the sparse matrix, u and v are the output and input vectors respectively) on superscalar architectures is difficult to optimized due to the two drawbacks of the code:\n",
    "\n",
    "First, the access locality of vector v is not maintained due to the indirect addressing. \n",
    "Second, the fine grained parallelism is not exploited because the number of iterations of the inner loop is small and variable.\n"
   ]
  },
  {
   "cell_type": "markdown",
   "id": "69ae35e3",
   "metadata": {},
   "source": [
    "### How Ellpack and Ellpack-R solve these difficulties"
   ]
  },
  {
   "cell_type": "markdown",
   "id": "299b2688",
   "metadata": {},
   "source": [
    "Ellpack format:\n",
    "\n",
    "This format stores the sparse matrix on two arrays, one float A[ ], to save the entries, and one integer J[ ], to save the column index of every entry. Both arrays are of dimension N × Max nzr at least, where N is the number of rows and Max_nzr is the maximum number of non-zeros per row in the matrix, with the maximum being taken over all rows. Note that the size of all rows in these compressed arrays A[ ] and J[ ] is the same, because every row is padded with zeros. \n",
    "\n",
    "Focusing our interest on the GPU architecture and if every element i of vector u is computed by a thread identified by index x = i and the arrays store their elements in column-major order, then the SpMV based on ELLPACK can improve the performance due to the coalesced global memory access and non-synchronized execution between different thread blocks.\n",
    "\n",
    "\n",
    "Ellpack-R format:\n",
    "\n",
    "ELLPACK-R consists of two arrays, A[ ] (float) and J[ ] (integer) of dimension N × Max nzr; and, moreover, an additional integer array called rl[ ] of dimension N (i.e. the number of rows) is included with the purpose of storing the actual length of every row, regardless of the number of the zero elements padded.\n",
    "\n",
    "The algorithms ELLR-T to compute SpMV with GPUs take advantage of: (1) Coalesced and aligned global memory access. (2) Homogeneous computing within the warps. (3) Reduction of useless computation and unbalance of the threads of one warp. (4) High occupancy."
   ]
  },
  {
   "cell_type": "markdown",
   "id": "4b7041df",
   "metadata": {},
   "source": [
    "## Task2"
   ]
  },
  {
   "cell_type": "code",
   "execution_count": 1,
   "id": "954f8153",
   "metadata": {},
   "outputs": [],
   "source": [
    "from scipy.sparse.linalg import LinearOperator\n",
    "import numpy as np"
   ]
  },
  {
   "cell_type": "code",
   "execution_count": 2,
   "id": "d6a9c1ba",
   "metadata": {},
   "outputs": [
    {
     "name": "stdout",
     "output_type": "stream",
     "text": [
      "[[ 1  0  0  2  0  7]\n",
      " [ 3  4  0  5  0  7]\n",
      " [ 6  0  7  8  9  4]\n",
      " [ 0  0 10 11  0  5]\n",
      " [ 0  0  0  7  9  6]\n",
      " [ 7  6  4  0  5  7]]\n"
     ]
    }
   ],
   "source": [
    "mat = np.array([\n",
    "    [1, 0, 0, 2, 0, 7],\n",
    "    [3, 4, 0, 5, 0, 7],\n",
    "    [6, 0, 7, 8, 9, 4],\n",
    "    [0, 0, 10, 11, 0, 5],\n",
    "    [0, 0, 0, 7, 9, 6],\n",
    "    [7, 6, 4, 0, 5, 7]\n",
    "])\n",
    "print(mat)"
   ]
  },
  {
   "cell_type": "code",
   "execution_count": 3,
   "id": "6079d654",
   "metadata": {},
   "outputs": [],
   "source": [
    "from scipy.sparse import csr_matrix\n",
    "csr_mat = csr_matrix(mat)"
   ]
  },
  {
   "cell_type": "code",
   "execution_count": 4,
   "id": "9608c7a3",
   "metadata": {},
   "outputs": [
    {
     "name": "stdout",
     "output_type": "stream",
     "text": [
      "[ 1  2  7  3  4  5  7  6  7  8  9  4 10 11  5  7  9  6  7  6  4  5  7]\n",
      "[0 3 5 0 1 3 5 0 2 3 4 5 2 3 5 3 4 5 0 1 2 4 5]\n",
      "[ 0  3  7 12 15 18 23]\n",
      "(6, 6)\n"
     ]
    }
   ],
   "source": [
    "print(csr_mat.data)\n",
    "print(csr_mat.indices)\n",
    "print(csr_mat.indptr)\n",
    "print(csr_mat.shape)"
   ]
  },
  {
   "cell_type": "code",
   "execution_count": 7,
   "id": "1a0048ab",
   "metadata": {},
   "outputs": [],
   "source": [
    "import scipy\n",
    "from scipy.sparse.linalg import LinearOperator\n",
    "import numpy as np\n",
    "import numba\n",
    "\n",
    "\n",
    "class EllpackMatrix:\n",
    "    \n",
    "    def __init__(self, mtr):\n",
    "        \n",
    "        self.shape = mtr.shape\n",
    "        \n",
    "        data = mtr.data\n",
    "        indices = mtr.indices\n",
    "        indptr = mtr.indptr\n",
    "        \n",
    "        rl = []\n",
    "        col = 0\n",
    "        for i in range(self.shape[0]):\n",
    "            cnt = 0\n",
    "            if data[col+i]!=0:\n",
    "                cnt += 1\n",
    "            rl.append(cnt)\n",
    "            col+=1\n",
    "    \n",
    "        A = np.zeros(shape=(row_num,col_AJ),dtype=dtype)\n",
    "        J = np.zeros(shape=(row_num,col_AJ),dtype=dtype)\n",
    "    \n",
    "    \n",
    "\n",
    "        \n",
    "    return A,J,rl\n",
    "    \n",
    "                \n",
    "        #print(self.J)\n",
    "    \n",
    "    def __matmul__(self, other):\n",
    "        operator = LinearOperator(self.shape, matvec=self.matvec)\n",
    "        result = operator @ other\n",
    "        #print(result)\n",
    "        return result\n",
    "        \n",
    "    def matvec(self, v):\n",
    "        \n",
    "        result = np.zeros(self.A.shape[0])\n",
    "\n",
    "        for row_ind in range(self.A.shape[0]):\n",
    "            row = np.zeros(v.shape[0])\n",
    "            for col_ind in range(self.A.shape[1]):\n",
    "                if self.A[row_ind,col_ind] != 0:\n",
    "                    col = int(self.J[row_ind,col_ind])\n",
    "                    row[col] = self.A[row_ind,col_ind]\n",
    "            \n",
    "            for i in range(row.shape[0]):\n",
    "                result[row_ind] += row[i]*v[i]\n",
    "        \n",
    "        return np.array(result)"
   ]
  },
  {
   "cell_type": "code",
   "execution_count": 8,
   "id": "77a3d56b",
   "metadata": {},
   "outputs": [
    {
     "name": "stdout",
     "output_type": "stream",
     "text": [
      "[10. 19. 34. 26. 22. 29.]\n"
     ]
    }
   ],
   "source": [
    "my_sparse_mat = EllpackMatrix(csr_mat)\n",
    "x = [1,1,1,1,1,1]\n",
    "y = my_sparse_mat @ x\n",
    "print(y)"
   ]
  },
  {
   "cell_type": "code",
   "execution_count": 126,
   "id": "cac11225",
   "metadata": {},
   "outputs": [],
   "source": [
    "import numba\n",
    "\n",
    "@numba.jit(nopython=True, parallel=True)\n",
    "def csr_matvec(data, indices, indptr, shape, x):\n",
    "    \"\"\"Evaluates the matrix-vector product with a CSR matrix.\"\"\"\n",
    "    # Get the rows and columns\n",
    "    \n",
    "    m, n = shape\n",
    "    \n",
    "    y = np.zeros(m, dtype=np.float64)\n",
    "        \n",
    "    for row_index in numba.prange(m):\n",
    "        col_start = indptr[row_index]\n",
    "        col_end = indptr[row_index + 1]\n",
    "        for col_index in range(col_start, col_end):\n",
    "            y[row_index] += data[col_index] * x[indices[col_index]]\n",
    "            \n",
    "    return y\n",
    "    "
   ]
  },
  {
   "cell_type": "code",
   "execution_count": 141,
   "id": "f6b35ec7",
   "metadata": {},
   "outputs": [],
   "source": [
    "N = 1000\n",
    "density = 0.5\n",
    "matrixformat = 'csr'\n",
    "csr_mat = scipy.sparse.rand(N, N, density=density, format=matrixformat)\n",
    "my_sparse_mat = EllpackMatrix(csr_mat)\n",
    "v = np.random.randn(csr_mat.shape[1])\n",
    "y_ellr = my_sparse_mat @ v\n",
    "\n",
    "#v2 = np.random.randn(my_sparse_mat.shape[1])\n",
    "#v3 = np.random.randn(my_sparse_mat.shape[1])\n",
    "y_csr = csr_mat @ v\n",
    "#y_csr2 = csr_matvec(csr_mat.data, csr_mat.indices, csr_mat.indptr, csr_mat.shape, v)\n",
    "# Compare with the Scipy sparse matrix multiplication\n",
    "\n",
    "#y_csr1 == y_csr2"
   ]
  },
  {
   "cell_type": "code",
   "execution_count": 142,
   "id": "3dfd1439",
   "metadata": {},
   "outputs": [
    {
     "name": "stdout",
     "output_type": "stream",
     "text": [
      "Error: 0.0.\n"
     ]
    }
   ],
   "source": [
    "rel_error = np.linalg.norm(y_csr - y_ellr, np.inf) / np.linalg.norm(y_csr, np.inf)\n",
    "print(f\"Error: {round(rel_error, 2)}.\")"
   ]
  },
  {
   "cell_type": "code",
   "execution_count": null,
   "id": "fbf20d9f",
   "metadata": {},
   "outputs": [],
   "source": []
  }
 ],
 "metadata": {
  "kernelspec": {
   "display_name": "Python 3",
   "language": "python",
   "name": "python3"
  },
  "language_info": {
   "codemirror_mode": {
    "name": "ipython",
    "version": 3
   },
   "file_extension": ".py",
   "mimetype": "text/x-python",
   "name": "python",
   "nbconvert_exporter": "python",
   "pygments_lexer": "ipython3",
   "version": "3.8.8"
  }
 },
 "nbformat": 4,
 "nbformat_minor": 5
}

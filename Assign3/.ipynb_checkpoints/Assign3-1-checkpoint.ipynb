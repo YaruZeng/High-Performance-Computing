{
 "cells": [
  {
   "cell_type": "markdown",
   "id": "2c2554cb",
   "metadata": {},
   "source": [
    "## Task1"
   ]
  },
  {
   "cell_type": "markdown",
   "id": "cece5ccf",
   "metadata": {},
   "source": [
    "### The difficulties of the CSR format"
   ]
  },
  {
   "cell_type": "markdown",
   "id": "3b55274e",
   "metadata": {},
   "source": [
    "The performance of the code based on CSR to compute the sparse matrix vector product (i.e. u=Av where A is the sparse matrix, u and v are the output and input vectors respectively) on superscalar architectures is difficult to optimized due to the two drawbacks of the code:\n",
    "\n",
    "First, the access locality of vector v is not maintained due to the indirect addressing. \n",
    "Second, the fine grained parallelism is not exploited because the number of iterations of the inner loop is small and variable.\n"
   ]
  },
  {
   "cell_type": "markdown",
   "id": "69ae35e3",
   "metadata": {},
   "source": [
    "### How Ellpack and Ellpack-R solve these difficulties"
   ]
  },
  {
   "cell_type": "markdown",
   "id": "299b2688",
   "metadata": {},
   "source": [
    "Ellpack format:\n",
    "\n",
    "This format stores the sparse matrix on two arrays, one float A[ ], to save the entries, and one integer J[ ], to save the column index of every entry. Both arrays are of dimension N × Max nzr at least, where N is the number of rows and Max_nzr is the maximum number of non-zeros per row in the matrix, with the maximum being taken over all rows. Note that the size of all rows in these compressed arrays A[ ] and J[ ] is the same, because every row is padded with zeros. \n",
    "\n",
    "Focusing our interest on the GPU architecture and if every element i of vector u is computed by a thread identified by index x = i and the arrays store their elements in column-major order, then the SpMV based on ELLPACK can improve the performance due to the coalesced global memory access and non-synchronized execution between different thread blocks.\n",
    "\n",
    "\n",
    "Ellpack-R format:\n",
    "\n",
    "ELLPACK-R consists of two arrays, A[ ] (float) and J[ ] (integer) of dimension N × Max nzr; and, moreover, an additional integer array called rl[ ] of dimension N (i.e. the number of rows) is included with the purpose of storing the actual length of every row, regardless of the number of the zero elements padded.\n",
    "\n",
    "The algorithms ELLR-T to compute SpMV with GPUs take advantage of: (1) Coalesced and aligned global memory access. (2) Homogeneous computing within the warps. (3) Reduction of useless computation and unbalance of the threads of one warp. (4) High occupancy."
   ]
  },
  {
   "cell_type": "markdown",
   "id": "4b7041df",
   "metadata": {},
   "source": [
    "## Task2"
   ]
  },
  {
   "cell_type": "code",
   "execution_count": 1,
   "id": "1a0048ab",
   "metadata": {},
   "outputs": [],
   "source": [
    "import matplotlib.pyplot as plt\n",
    "import numpy as np\n",
    "import numba\n",
    "from numba import prange\n",
    "import scipy\n",
    "from scipy.sparse import coo_matrix\n",
    "from scipy.sparse.linalg import LinearOperator\n",
    "\n",
    "class EllpackMatrix:\n",
    "    \n",
    "    @numba.jit(parallel=True)\n",
    "    def __init__(self, mtr):\n",
    "        \n",
    "        self.shape = mtr.shape\n",
    "        \n",
    "        data = mtr.data\n",
    "        indices = mtr.indices\n",
    "        indptr = mtr.indptr\n",
    "        row_num = len(indptr)-1\n",
    "        col_num = max(indices)+1\n",
    "        \n",
    "        self.rl = np.zeros(row_num)\n",
    "        \n",
    "        cnt = 0\n",
    "        for i in prange(row_num):\n",
    "            if i == 0:\n",
    "                self.rl[i] = indptr[i+1]\n",
    "                cnt += self.rl[i]\n",
    "            elif i < row_num-1:\n",
    "                self.rl[i] = indptr[i+1] - cnt\n",
    "                cnt += self.rl[i]\n",
    "            else:\n",
    "                self.rl[i] = len(data) - indptr[i]\n",
    "        #print(self.rl)\n",
    "        \n",
    "        col_AJ = int(max(self.rl))\n",
    "        self.A = np.zeros(shape=(row_num,col_AJ))\n",
    "        self.J = np.zeros(shape=(row_num,col_AJ))\n",
    "        \n",
    "        for i in prange(row_num):\n",
    "            for j in range(col_num):\n",
    "                if j < self.rl[i]:\n",
    "                    self.A[i,j] = data[j+indptr[i]]\n",
    "                \n",
    "        #print(self.A)\n",
    "        \n",
    "        for i in prange(row_num):\n",
    "            for j in range(col_num):\n",
    "                if j < self.rl[i]:\n",
    "                    self.J[i,j] = indices[j+indptr[i]]\n",
    "                \n",
    "        #print(self.J)\n",
    "    \n",
    "    def __matmul__(self, other):\n",
    "        operator = LinearOperator(self.shape, matvec=self.matvec)\n",
    "        result = operator @ other\n",
    "        #print(result)\n",
    "        return result\n",
    "        \n",
    "    @numba.jit(parallel=True)\n",
    "    def matvec(self, v):\n",
    "        \n",
    "        result = np.zeros(self.A.shape[0])\n",
    "\n",
    "        for i in prange(self.rl.shape[0]):\n",
    "            rl = int(self.rl[i])\n",
    "            for k in range(rl):\n",
    "                J = int(self.J[i,k])\n",
    "                result[i] += self.A[i,k]*v[J]\n",
    "        \n",
    "        return result"
   ]
  },
  {
   "cell_type": "code",
   "execution_count": 3,
   "id": "37afe674",
   "metadata": {},
   "outputs": [
    {
     "name": "stdout",
     "output_type": "stream",
     "text": [
      "15.5 ms ± 126 µs per loop (mean ± std. dev. of 7 runs, 100 loops each)\n",
      "0.01537378958000005\n",
      "26.9 µs ± 273 ns per loop (mean ± std. dev. of 7 runs, 10000 loops each)\n",
      "2.6662537500000383e-05\n",
      "Relative distance of with v0: 0.0.\n",
      "15.5 ms ± 174 µs per loop (mean ± std. dev. of 7 runs, 100 loops each)\n",
      "0.015248742919999926\n",
      "27 µs ± 556 ns per loop (mean ± std. dev. of 7 runs, 10000 loops each)\n",
      "2.6579949999999996e-05\n",
      "Relative distance of with v1: 0.0.\n",
      "15.4 ms ± 31.9 µs per loop (mean ± std. dev. of 7 runs, 100 loops each)\n",
      "0.015305135830000012\n",
      "26.9 µs ± 115 ns per loop (mean ± std. dev. of 7 runs, 10000 loops each)\n",
      "2.6815445900000158e-05\n",
      "Relative distance of with v2: 0.0.\n"
     ]
    }
   ],
   "source": [
    "csr_mat = scipy.sparse.random(1000, 1000, format='csr')\n",
    "ell_mat = EllpackMatrix(csr_mat)\n",
    "\n",
    "for i in range(3):\n",
    "    \n",
    "    v = np.random.randn(csr_mat.shape[1])\n",
    "    \n",
    "    y_ellr = ell_mat @ v\n",
    "    y_csr = csr_mat @ v\n",
    "    \n",
    "    timeit_result_ell = %timeit -o ell_mat @ v\n",
    "    print(timeit_result_ell.best)\n",
    "    \n",
    "    timeit_result_csr = %timeit -o csr_mat @ v\n",
    "    print(timeit_result_csr.best)\n",
    "\n",
    "    rel_dist = np.linalg.norm(y_csr - y_ellr, np.inf) / np.linalg.norm(y_csr, np.inf)\n",
    "    print(f\"Relative distance of with v{i}: {round(rel_dist, 5)}.\")\n",
    "    "
   ]
  },
  {
   "cell_type": "code",
   "execution_count": 5,
   "id": "06be20a8",
   "metadata": {},
   "outputs": [],
   "source": [
    "@numba.jit(parallel=True)\n",
    "def discretise_poisson(N):\n",
    "    \"\"\"Generate the matrix and rhs associated with the discrete Poisson operator.\"\"\"\n",
    "    \n",
    "    nelements = 5 * N**2 - 16 * N + 16\n",
    "    \n",
    "    row_ind = np.empty(nelements, dtype=np.float64)\n",
    "    col_ind = np.empty(nelements, dtype=np.float64)\n",
    "    data = np.empty(nelements, dtype=np.float64)\n",
    "    \n",
    "    f = np.empty(N * N, dtype=np.float64)\n",
    "    \n",
    "    count = 0\n",
    "    for j in prange(N):\n",
    "        for i in range(N):\n",
    "            if i == 0 or i == N - 1 or j == 0 or j == N - 1:\n",
    "                row_ind[count] = col_ind[count] = j * N + i\n",
    "                data[count] =  1\n",
    "                f[j * N + i] = 0\n",
    "                count += 1\n",
    "                \n",
    "            else:\n",
    "                row_ind[count : count + 5] = j * N + i\n",
    "                col_ind[count] = j * N + i\n",
    "                col_ind[count + 1] = j * N + i + 1\n",
    "                col_ind[count + 2] = j * N + i - 1\n",
    "                col_ind[count + 3] = (j + 1) * N + i\n",
    "                col_ind[count + 4] = (j - 1) * N + i\n",
    "                                \n",
    "                data[count] = 4 * (N - 1)**2\n",
    "                data[count + 1 : count + 5] = - (N - 1)**2\n",
    "                f[j * N + i] = 1\n",
    "                \n",
    "                count += 5\n",
    "                                                \n",
    "    return coo_matrix((data, (row_ind, col_ind)), shape=(N**2, N**2)).tocsr(), f"
   ]
  },
  {
   "cell_type": "code",
   "execution_count": null,
   "id": "7d42741d",
   "metadata": {
    "scrolled": true
   },
   "outputs": [],
   "source": [
    "N_list = [10,50,80,100,120,150]\n",
    "time_ellr = []\n",
    "time_csr = []\n",
    "\n",
    "for N in N_list:\n",
    "    \n",
    "    csr_mat, f = discretise_poisson(N)\n",
    "    \n",
    "    ell_mat = EllpackMatrix(csr_mat)\n",
    "    v = np.random.randn(csr_mat.shape[1])\n",
    "    \n",
    "    timeit_result_ell = %timeit -o ell_mat @ v\n",
    "    time_ellr.append(timeit_result_ell.best)\n",
    "    \n",
    "    timeit_result_csr = %timeit -o csr_mat @ v\n",
    "    time_csr.append(timeit_result_csr.best)\n",
    "\n",
    "print(time_ellr)\n",
    "print(time_csr)"
   ]
  },
  {
   "cell_type": "code",
   "execution_count": 52,
   "id": "e2330334",
   "metadata": {},
   "outputs": [
    {
     "data": {
      "text/plain": [
       "Text(0, 0.5, 'Time cost')"
      ]
     },
     "execution_count": 52,
     "metadata": {},
     "output_type": "execute_result"
    },
    {
     "data": {
      "image/png": "[encoded data removed]",
      "text/plain": [
       "<Figure size 432x288 with 1 Axes>"
      ]
     },
     "metadata": {
      "needs_background": "light"
     },
     "output_type": "display_data"
    }
   ],
   "source": [
    "x = N_list\n",
    "y1 = time_csr\n",
    "y2 = time_ellr\n",
    "plt.plot(x,y1,color = 'red')\n",
    "plt.plot(x,y2,color = 'blue')\n",
    "plt.title('Banchmarking: time cost for Scipy CSR matvec and Ellpack-R matvec')\n",
    "plt.xlabel('Matrix-size')\n",
    "plt.ylabel('Time cost')"
   ]
  },
  {
   "cell_type": "code",
   "execution_count": 107,
   "id": "d9b07f8d",
   "metadata": {},
   "outputs": [
    {
     "data": {
      "text/plain": [
       "Text(0, 0.5, 'Time cost')"
      ]
     },
     "execution_count": 107,
     "metadata": {},
     "output_type": "execute_result"
    },
    {
     "data": {
      "image/png": "[encoded data removed]",
      "text/plain": [
       "<Figure size 432x288 with 1 Axes>"
      ]
     },
     "metadata": {
      "needs_background": "light"
     },
     "output_type": "display_data"
    }
   ],
   "source": [
    "x = N_list\n",
    "y1 = time_csr\n",
    "y2 = time_ellr\n",
    "plt.plot(x,y1,color = 'red')\n",
    "plt.plot(x,y2,color = 'blue')\n",
    "plt.title('Banchmarking: time cost for Scipy CSR matvec and Ellpack-R matvec')\n",
    "plt.xlabel('Matrix-size')\n",
    "plt.ylabel('Time cost')"
   ]
  },
  {
   "cell_type": "code",
   "execution_count": null,
   "id": "021bc26b",
   "metadata": {},
   "outputs": [],
   "source": []
  }
 ],
 "metadata": {
  "kernelspec": {
   "display_name": "Python 3",
   "language": "python",
   "name": "python3"
  },
  "language_info": {
   "codemirror_mode": {
    "name": "ipython",
    "version": 3
   },
   "file_extension": ".py",
   "mimetype": "text/x-python",
   "name": "python",
   "nbconvert_exporter": "python",
   "pygments_lexer": "ipython3",
   "version": "3.8.8"
  }
 },
 "nbformat": 4,
 "nbformat_minor": 5
}

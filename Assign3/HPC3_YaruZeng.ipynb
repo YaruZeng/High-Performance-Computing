{
 "cells": [
  {
   "cell_type": "markdown",
   "id": "2c2554cb",
   "metadata": {
    "id": "2c2554cb"
   },
   "source": [
    "## Task1"
   ]
  },
  {
   "cell_type": "markdown",
   "id": "cece5ccf",
   "metadata": {
    "id": "cece5ccf"
   },
   "source": [
    "1. The difficulties of the CSR format"
   ]
  },
  {
   "cell_type": "markdown",
   "id": "3b55274e",
   "metadata": {
    "id": "3b55274e"
   },
   "source": [
    "The performance of the code based on CSR to compute the sparse matrix vector product (i.e. u=Av where A is the sparse matrix, u and v are the output and input vectors respectively) on GPUs is difficult to optimise due to the two drawbacks of the code:\n",
    "\n",
    "1) Because of the indirect addressing of vector v, its access locality is not maintained. \n",
    "2) Since in the inner loop of the code the number of iterations of the inner loop is small and variable, the fine grained parallelism is not exploited.\n"
   ]
  },
  {
   "cell_type": "markdown",
   "id": "69ae35e3",
   "metadata": {
    "id": "69ae35e3"
   },
   "source": [
    "2. How Ellpack and Ellpack-R solve these difficulties"
   ]
  },
  {
   "cell_type": "markdown",
   "id": "299b2688",
   "metadata": {
    "id": "299b2688"
   },
   "source": [
    "1) Ellpack format\n",
    "\n",
    "Ellpack format exploits two arrays to store the sparse matrix: one float A[ ], to save the entries, and one integer J[ ], to save the column index of every entry. Both arrays are of dimension N × Max_nzr at least, where N is the number of rows and Max_nzr is the maximum number of non-zeros per row in the matrix, with the maximum being taken over all rows. \n",
    "\n",
    "As for the sparse matrix-vector product(SpMV) on the GPU architecture, the arrays A[ ] and J[ ] store their elements in column-major order and every element i of vector u is computed by a thread identified by index x = i, so the SpMV based on ELLPACK can improve the computing performance because of fulfilling the conditions of coalesced global memory access with the column-major ordering storage of the data and non-synchronized execution between different thread blocks.\n",
    "\n",
    "However, if the proportion of zeros is high in the ELLPACK data structure the performance decreases.\n",
    "\n",
    "\n",
    "\n",
    "2) Ellpack-R format\n",
    "\n",
    "ELLpack-R consists of two arrays A[ ] and J[ ] and an additional integer array rl[ ]: A[ ] (float) and J[ ] (integer) of dimension N × Max_nzr; rl[ ] of dimension N (i.e. the number of rows) is to store the number of non-zeros per row.\n",
    "\n",
    "When T threads on a GPU compute the element u[i] accessing to the i-th row, the i-th row is split in sets of T elements. In order to compute the element u[i], T threads compute rl[ ] iterations of the inner loop of SpMV, every thread stores its partial computation in the shared memory. Finally, one reduction of the T values computed and stored in shared memory has to be included to generate the value of u[i].\n",
    "\n",
    "The algorithms ELLpack-R to compute SpMV with GPUs have better performance due to: 1) Coalesced and aligned global memory access contributed by the column-major ordering used to store the matrix elements and the zeros-padding to complete the length of every row as multiple of 16. 2) Homogeneous computing within the warps. Since every thread executes the same loop, the code does not include flow instructions that cause serialization in warps. 3) There are not useless iterations and the control of loops of this implementation is reduced comparing with SpMV based on ELLPACK. 4) High occupancy levels are reached if optimal value of threads block size is used."
   ]
  },
  {
   "cell_type": "markdown",
   "id": "nCcKbNHnYIfq",
   "metadata": {
    "id": "nCcKbNHnYIfq"
   },
   "source": [
    "3. Developments of GPU based matvecs since that paper"
   ]
  },
  {
   "cell_type": "markdown",
   "id": "f1xVo9nSY6av",
   "metadata": {
    "id": "f1xVo9nSY6av"
   },
   "source": [
    "There have been many developments of SpMV on GPUs in terms of SpMV data formats since 2010 when that paper was published. \n",
    "\n",
    "The bisection JAD (BiJAD) format [1] proposed in 2012 is an optimized and improved version of JAD [2] on GPUs. Two SpMV formats BRC and BCCOO proposed in 2014 alleviate the load imbalance caused by concurrent execution of many threads [3, 4]. In the same year, Kreutzer et al. proposed the SELL-C-σ format [6] which effectively reduces the number of zero-fillings. BiELL format [5] proposed by Zheng et al. is a bisection ELL format which  balances the workload of different threads in a warp, so reduces the waiting time. In 2016, AMB format [7] was proposed by Nagasaka et al. which aims to reduce the memory traffic in SpMV computation. In order to optimise the SpMV on GPUs, Wang et al proposed the PELLR format [8] in 2020 which improves ELLR format in performance of SpMV, but it also adds increased storage memory.\n"
   ]
  },
  {
   "cell_type": "markdown",
   "id": "4b7041df",
   "metadata": {
    "id": "4b7041df"
   },
   "source": [
    "# Task2"
   ]
  },
  {
   "cell_type": "markdown",
   "id": "01GQU2MFc7RM",
   "metadata": {
    "id": "01GQU2MFc7RM"
   },
   "source": [
    "1. Implement a new class EllpackMatrix which converts a Scipy sparse matrix in CSR format to Ellpack-R and provides a routine for matrix-vector product in the Ellpack-R format."
   ]
  },
  {
   "cell_type": "code",
   "execution_count": 40,
   "id": "NT6hc1S-Le6L",
   "metadata": {
    "id": "NT6hc1S-Le6L"
   },
   "outputs": [],
   "source": [
    "import matplotlib.pyplot as plt\n",
    "import numpy as np\n",
    "import numba\n",
    "from numba import cuda, float32, int64\n",
    "from numba import prange\n",
    "import scipy\n",
    "from scipy.sparse import coo_matrix\n",
    "from scipy.sparse.linalg import LinearOperator\n",
    "\n",
    "\n",
    "class EllpackMatrix(LinearOperator):\n",
    "    \n",
    "    def __init__(self, mtr):\n",
    "\n",
    "        #convert data from the CSR matrix to the Ellpack-R\n",
    "        \n",
    "        self.data = mtr.data\n",
    "        self.indices = mtr.indices\n",
    "        self.indptr = mtr.indptr\n",
    "        \n",
    "        self.shape = mtr.shape\n",
    "        self.dtype = mtr.dtype\n",
    "\n",
    "        self.A, self.J, self.rl = csr_ellr(self.data, self.indices, self.indptr, self.dtype)\n",
    "\n",
    "        # convert A and J to column-major arrays\n",
    "\n",
    "        row_num = int(self.rl.shape[0])\n",
    "        col_num = int(max(self.rl))\n",
    "        A = np.reshape(self.A, row_num*col_num, order='F')\n",
    "        J = np.reshape(self.J, row_num*col_num, order='F')\n",
    "\n",
    "        # prepare data for cuda implementation\n",
    "\n",
    "        self.A_global_mem = cuda.to_device(A)\n",
    "        self.J_global_mem = cuda.to_device(J.astype('int64'))\n",
    "        self.rl_global_mem = cuda.to_device(self.rl.astype('int64'))\n",
    "\n",
    "        result = cuda.device_array((self.A.shape[0]))\n",
    "        self.result_global_mem = cuda.to_device(result)\n",
    "        cuda.synchronize()\n",
    "\n",
    "        \n",
    "    def _matvec(self, v):\n",
    "      # define the function to support the LinearOperator operator\n",
    "\n",
    "        TPB = 16\n",
    "        \n",
    "        v_global_mem = cuda.to_device(v)   \n",
    "        nblocks = int(np.ceil(self.A.shape[0]/TPB))\n",
    "        ell_matvec_cuda[(nblocks), (TPB)](self.A_global_mem, self.J_global_mem, v_global_mem, self.rl_global_mem,self.shape[0], self.result_global_mem)\n",
    "        cuda.synchronize()\n",
    "\n",
    "        result_global_gpu = self.result_global_mem.copy_to_host()\n",
    "\n",
    "        return result_global_gpu\n",
    "\n",
    "\n",
    "@cuda.jit   \n",
    "def ell_matvec_cuda(A,J,v,rl,N,result):\n",
    "  # implement the matrix-vector product in the Ellpack-R format on cuda\n",
    "\n",
    "    x = cuda.grid(1)\n",
    "\n",
    "    if x < N:\n",
    "        temp = 0.0\n",
    "        for k in range(rl[x]):\n",
    "          j = J[k*N+x]\n",
    "          temp += A[k*N+x]*v[j]\n",
    "        result[x] = temp\n",
    "\n",
    "    \n",
    "@numba.njit(parallel=True)\n",
    "def csr_ellr(data, indices, indptr, dtype):\n",
    "  # convert CSR data format to Ellpack-R data format\n",
    "    \n",
    "    rl = np.zeros(indptr.shape[0]-1, dtype=dtype)\n",
    "    \n",
    "    for i in range(indptr.shape[0]-1): # construct the array rl\n",
    "        temp = indptr[i+1] - indptr[i]\n",
    "        rl[i] = temp\n",
    "        \n",
    "    row_num = int(rl.shape[0])\n",
    "    col_num = int(max(rl))\n",
    "    A = np.zeros(shape=(row_num,col_num),dtype=dtype)\n",
    "    J = np.zeros(shape=(row_num,col_num),dtype=dtype)\n",
    "    \n",
    "    cnt = 0   \n",
    "    for i in range(rl.shape[0]): # construct the A and J\n",
    "        r = int(rl[i])\n",
    "        for j in prange(r):\n",
    "            A[i,j] = data[cnt+j]\n",
    "            J[i,j] = indices[cnt+j]\n",
    "        cnt += r\n",
    "        \n",
    "    return A,J,rl\n",
    "    \n"
   ]
  },
  {
   "cell_type": "markdown",
   "id": "JOCbbBb2dH1D",
   "metadata": {
    "id": "JOCbbBb2dH1D"
   },
   "source": [
    "2. Verify precision of the Ellpack-R matvec."
   ]
  },
  {
   "cell_type": "code",
   "execution_count": 41,
   "id": "YnXvLVDC4kF_",
   "metadata": {
    "colab": {
     "base_uri": "https://localhost:8080/"
    },
    "id": "YnXvLVDC4kF_",
    "outputId": "8788c48c-25f4-4abe-dffd-20dba1afd553"
   },
   "outputs": [
    {
     "name": "stdout",
     "output_type": "stream",
     "text": [
      "Relative distance of Ellpack-R matvec product to CSR matvec product with v0: 0.0.\n",
      "Relative distance of Ellpack-R matvec product to CSR matvec product with v1: 0.0.\n",
      "Relative distance of Ellpack-R matvec product to CSR matvec product with v2: 0.0.\n"
     ]
    }
   ],
   "source": [
    "for i in range(3):\n",
    "    \n",
    "    csr_mat = scipy.sparse.random(1000, 1000, format='csr', dtype='float32')\n",
    "    ell_mat = EllpackMatrix(csr_mat)\n",
    "    \n",
    "    v = np.random.randn(csr_mat.shape[1])\n",
    "    \n",
    "    y_ellr = ell_mat @ v\n",
    "    y_csr = csr_mat @ v\n",
    "\n",
    "    rel_dist = np.linalg.norm(y_ellr - y_csr, np.inf) / np.linalg.norm(y_csr, np.inf)\n",
    "    print(f\"Relative distance of Ellpack-R matvec product to CSR matvec product with v{i}: {round(rel_dist, 5)}.\")"
   ]
  },
  {
   "cell_type": "markdown",
   "id": "EVCHbe3HeJfn",
   "metadata": {
    "id": "EVCHbe3HeJfn"
   },
   "source": [
    "3. Plot the times for a single matvec for growing matrix-sizes using the standard Scipy csr matvec and the above Ellpack-R implemementation."
   ]
  },
  {
   "cell_type": "code",
   "execution_count": 42,
   "id": "NiF4xi9bzzH7",
   "metadata": {
    "id": "NiF4xi9bzzH7"
   },
   "outputs": [],
   "source": [
    "def discretise_poisson(N):\n",
    "    \"\"\"Generate the matrix and rhs associated with the discrete Poisson operator.\"\"\"\n",
    "    \n",
    "    nelements = 5 * N**2 - 16 * N + 16\n",
    "    \n",
    "    row_ind = np.empty(nelements, dtype=np.float64)\n",
    "    col_ind = np.empty(nelements, dtype=np.float64)\n",
    "    data = np.empty(nelements, dtype=np.float64)\n",
    "    \n",
    "    f = np.empty(N * N, dtype=np.float64)\n",
    "    \n",
    "    count = 0\n",
    "    for j in range(N):\n",
    "        for i in range(N):\n",
    "            if i == 0 or i == N - 1 or j == 0 or j == N - 1:\n",
    "                row_ind[count] = col_ind[count] = j * N + i\n",
    "                data[count] =  1\n",
    "                f[j * N + i] = 0\n",
    "                count += 1\n",
    "                \n",
    "            else:\n",
    "                row_ind[count : count + 5] = j * N + i\n",
    "                col_ind[count] = j * N + i\n",
    "                col_ind[count + 1] = j * N + i + 1\n",
    "                col_ind[count + 2] = j * N + i - 1\n",
    "                col_ind[count + 3] = (j + 1) * N + i\n",
    "                col_ind[count + 4] = (j - 1) * N + i\n",
    "                                \n",
    "                data[count] = 4 * (N - 1)**2\n",
    "                data[count + 1 : count + 5] = - (N - 1)**2\n",
    "                f[j * N + i] = 1\n",
    "                \n",
    "                count += 5\n",
    "                                                \n",
    "    return coo_matrix((data, (row_ind, col_ind)), shape=(N**2, N**2)).tocsr(), f"
   ]
  },
  {
   "cell_type": "code",
   "execution_count": 43,
   "id": "o0C5PZMoJDm5",
   "metadata": {
    "colab": {
     "base_uri": "https://localhost:8080/"
    },
    "id": "o0C5PZMoJDm5",
    "outputId": "ae4929a2-d950-4fee-f3ca-bbb20b4edc31"
   },
   "outputs": [
    {
     "name": "stdout",
     "output_type": "stream",
     "text": [
      "The slowest run took 239.95 times longer than the fastest. This could mean that an intermediate result is being cached.\n",
      "1 loop, best of 5: 848 µs per loop\n",
      "The slowest run took 9.14 times longer than the fastest. This could mean that an intermediate result is being cached.\n",
      "100000 loops, best of 5: 7.96 µs per loop\n",
      "1000 loops, best of 5: 1.03 ms per loop\n",
      "The slowest run took 10.27 times longer than the fastest. This could mean that an intermediate result is being cached.\n",
      "10000 loops, best of 5: 72.1 µs per loop\n",
      "1000 loops, best of 5: 1.47 ms per loop\n",
      "1000 loops, best of 5: 621 µs per loop\n",
      "100 loops, best of 5: 2.1 ms per loop\n",
      "1000 loops, best of 5: 1.72 ms per loop\n",
      "100 loops, best of 5: 3.38 ms per loop\n",
      "100 loops, best of 5: 4.64 ms per loop\n",
      "100 loops, best of 5: 4.44 ms per loop\n",
      "100 loops, best of 5: 8.5 ms per loop\n",
      "100 loops, best of 5: 11.4 ms per loop\n",
      "10 loops, best of 5: 36.9 ms per loop\n",
      "10 loops, best of 5: 22.4 ms per loop\n",
      "10 loops, best of 5: 85.5 ms per loop\n",
      "10 loops, best of 5: 42.1 ms per loop\n",
      "10 loops, best of 5: 154 ms per loop\n",
      "10 loops, best of 5: 74.5 ms per loop\n",
      "1 loop, best of 5: 248 ms per loop\n"
     ]
    }
   ],
   "source": [
    "# implement SpMV on CSR and Ellpack-R and record times\n",
    "\n",
    "N_list = [10,100,300,500,800,1000,2000,3000,4000,5000]\n",
    "time_ellr = []\n",
    "time_csr = []\n",
    "\n",
    "for N in N_list:\n",
    "    \n",
    "    csr_mat, f = discretise_poisson(N)\n",
    "    \n",
    "    ell_mat = EllpackMatrix(csr_mat)\n",
    "    v = np.random.randn(csr_mat.shape[1])\n",
    "    \n",
    "    timeit_result_ell = %timeit -o ell_mat @ v\n",
    "    time_ellr.append(timeit_result_ell.best)\n",
    "    \n",
    "    timeit_result_csr = %timeit -o csr_mat @ v\n",
    "    time_csr.append(timeit_result_csr.best)\n"
   ]
  },
  {
   "cell_type": "code",
   "execution_count": 44,
   "id": "YouLmFu-4h1P",
   "metadata": {
    "colab": {
     "base_uri": "https://localhost:8080/",
     "height": 312
    },
    "id": "YouLmFu-4h1P",
    "outputId": "9807b97b-7b4a-4ee3-dee7-a764fc970003"
   },
   "outputs": [
    {
     "data": {
      "text/plain": [
       "<matplotlib.legend.Legend at 0x7f93dbccab10>"
      ]
     },
     "execution_count": 44,
     "metadata": {},
     "output_type": "execute_result"
    },
    {
     "data": {
      "image/png": "[encoded data removed]",
      "text/plain": [
       "<Figure size 432x288 with 1 Axes>"
      ]
     },
     "metadata": {
      "needs_background": "light"
     },
     "output_type": "display_data"
    }
   ],
   "source": [
    "x = N_list\n",
    "y1 = time_csr\n",
    "y2 = time_ellr\n",
    "plt.plot(x,y1,color = 'red',label = 'CSR Matvec')\n",
    "plt.plot(x,y2,color = 'blue',label = 'Ellpack-R Matvec')\n",
    "plt.title('Banchmarking: time cost of CSR matvec against Ellpack-R matvec')\n",
    "plt.xlabel('Matrix size')\n",
    "plt.ylabel('Time cost')\n",
    "plt.legend()"
   ]
  },
  {
   "cell_type": "markdown",
   "id": "3lET9TR-0g0U",
   "metadata": {
    "id": "3lET9TR-0g0U"
   },
   "source": [
    "From the plot, it can be seen that the speed of Ellpack-R matvec is lower than that of CSR when the matrix size N is lower than around 800. However, the Ellpack-R surpasses CSR in terms of the matvec speed when N is after around 800. Therefore, it can be induced that the Ellpack-R has better performance than CSR when the matrix size is large enough."
   ]
  },
  {
   "cell_type": "markdown",
   "id": "m76S032geuAf",
   "metadata": {
    "id": "m76S032geuAf"
   },
   "source": [
    "4. Compare Ellpack-R matvec times for two chosen matrices from the Matrix Market."
   ]
  },
  {
   "cell_type": "code",
   "execution_count": null,
   "id": "gs9bt2xp49RM",
   "metadata": {
    "id": "gs9bt2xp49RM"
   },
   "outputs": [],
   "source": [
    "# upload matrices data to colab\n",
    "\n",
    "from google.colab import files\n",
    "uploaded = files.upload()"
   ]
  },
  {
   "cell_type": "code",
   "execution_count": 28,
   "id": "ZayaokY36P8n",
   "metadata": {
    "id": "ZayaokY36P8n"
   },
   "outputs": [],
   "source": [
    "# read data from mtx file\n",
    "\n",
    "mm1 = mmread('bcsstk02.mtx')\n",
    "mm2 = mmread('fidapm05.mtx')\n",
    "mm3 = mmread('dw2048.mtx')\n",
    "mm4 = mmread('rdb3200l.mtx')\n",
    "mm5 = mmread('s1rmq4m1.mtx')\n",
    "mm6 = mmread('fidap021.mtx')"
   ]
  },
  {
   "cell_type": "code",
   "execution_count": 29,
   "id": "y4Q4-_bL6T3m",
   "metadata": {
    "colab": {
     "base_uri": "https://localhost:8080/",
     "height": 0
    },
    "id": "y4Q4-_bL6T3m",
    "outputId": "f74ac5c8-bd70-4221-fdea-d63789b71dae"
   },
   "outputs": [
    {
     "name": "stdout",
     "output_type": "stream",
     "text": [
      "1000 loops, best of 5: 990 µs per loop\n",
      "The slowest run took 25.00 times longer than the fastest. This could mean that an intermediate result is being cached.\n",
      "10000 loops, best of 5: 35.4 µs per loop\n"
     ]
    }
   ],
   "source": [
    "# compute and compare times of Ellpack-R and CSR matvec for every matrix\n",
    "\n",
    "mm6_csr = mm6.tocsr()\n",
    "mm6_ellr = EllpackMatrix(mm6_csr)\n",
    "v6 = np.random.randn(mm6_csr.shape[1])\n",
    "\n",
    "timeit_result_ell = %timeit -o mm6_ellr @ v6\n",
    "timeit_result_csr = %timeit -o mm6_csr @ v6"
   ]
  },
  {
   "cell_type": "code",
   "execution_count": 30,
   "id": "qd9YhS4a6XTx",
   "metadata": {
    "colab": {
     "base_uri": "https://localhost:8080/",
     "height": 0
    },
    "id": "qd9YhS4a6XTx",
    "outputId": "0a047fc3-7d0d-4bed-dd5d-5ac88c7327a2"
   },
   "outputs": [
    {
     "name": "stdout",
     "output_type": "stream",
     "text": [
      "1000 loops, best of 5: 1.03 ms per loop\n",
      "1000 loops, best of 5: 324 µs per loop\n"
     ]
    }
   ],
   "source": [
    "mm5_csr = mm5.tocsr()\n",
    "mm5_ellr = EllpackMatrix(mm5_csr)\n",
    "v5 = np.random.randn(mm5_csr.shape[1])\n",
    "\n",
    "timeit_result_ell = %timeit -o mm5_ellr @ v5\n",
    "timeit_result_csr = %timeit -o mm5_csr @ v5"
   ]
  },
  {
   "cell_type": "code",
   "execution_count": 31,
   "id": "fl97cq__6Z02",
   "metadata": {
    "colab": {
     "base_uri": "https://localhost:8080/",
     "height": 0
    },
    "id": "fl97cq__6Z02",
    "outputId": "56d985db-f1e2-435c-8a8e-d7e87c40cafe"
   },
   "outputs": [
    {
     "name": "stdout",
     "output_type": "stream",
     "text": [
      "1000 loops, best of 5: 982 µs per loop\n",
      "10000 loops, best of 5: 35.6 µs per loop\n"
     ]
    }
   ],
   "source": [
    "mm4_csr = mm4.tocsr()\n",
    "mm4_ellr = EllpackMatrix(mm4_csr)\n",
    "v4 = np.random.randn(mm4_csr.shape[1])\n",
    "\n",
    "timeit_result_ell = %timeit -o mm4_ellr @ v4  \n",
    "timeit_result_csr = %timeit -o mm4_csr @ v4"
   ]
  },
  {
   "cell_type": "code",
   "execution_count": 32,
   "id": "lckdWhnY6fCe",
   "metadata": {
    "colab": {
     "base_uri": "https://localhost:8080/",
     "height": 0
    },
    "id": "lckdWhnY6fCe",
    "outputId": "c88b1d9f-7bba-4b65-e749-48ff544b645d"
   },
   "outputs": [
    {
     "name": "stdout",
     "output_type": "stream",
     "text": [
      "1000 loops, best of 5: 998 µs per loop\n",
      "The slowest run took 19.80 times longer than the fastest. This could mean that an intermediate result is being cached.\n",
      "10000 loops, best of 5: 23.1 µs per loop\n"
     ]
    }
   ],
   "source": [
    "mm3_csr = mm3.tocsr()\n",
    "mm3_ellr = EllpackMatrix(mm3_csr)\n",
    "v3 = np.random.randn(mm3_csr.shape[1])\n",
    "\n",
    "timeit_result_ell = %timeit -o mm3_ellr @ v3  \n",
    "timeit_result_csr = %timeit -o mm3_csr @ v3"
   ]
  },
  {
   "cell_type": "code",
   "execution_count": 33,
   "id": "r7fsOwGU6hog",
   "metadata": {
    "colab": {
     "base_uri": "https://localhost:8080/",
     "height": 0
    },
    "id": "r7fsOwGU6hog",
    "outputId": "b67ec527-d96a-4366-b90a-54af924798bc"
   },
   "outputs": [
    {
     "name": "stdout",
     "output_type": "stream",
     "text": [
      "1000 loops, best of 5: 968 µs per loop\n",
      "The slowest run took 7.53 times longer than the fastest. This could mean that an intermediate result is being cached.\n",
      "100000 loops, best of 5: 7.8 µs per loop\n"
     ]
    }
   ],
   "source": [
    "mm2_csr = mm2.tocsr()\n",
    "mm2_ellr = EllpackMatrix(mm2_csr)\n",
    "v2 = np.random.randn(mm2_csr.shape[1])\n",
    "\n",
    "timeit_result_ell = %timeit -o mm2_ellr @ v2  \n",
    "timeit_result_csr = %timeit -o mm2_csr @ v2"
   ]
  },
  {
   "cell_type": "code",
   "execution_count": 34,
   "id": "C_9NiX-o6khp",
   "metadata": {
    "colab": {
     "base_uri": "https://localhost:8080/",
     "height": 0
    },
    "id": "C_9NiX-o6khp",
    "outputId": "39a211b8-2039-4cb7-a2cf-3c58282e2c5c"
   },
   "outputs": [
    {
     "name": "stdout",
     "output_type": "stream",
     "text": [
      "1000 loops, best of 5: 971 µs per loop\n",
      "The slowest run took 57.42 times longer than the fastest. This could mean that an intermediate result is being cached.\n",
      "100000 loops, best of 5: 11.9 µs per loop\n"
     ]
    }
   ],
   "source": [
    "mm1_csr = mm1.tocsr()\n",
    "mm1_ellr = EllpackMatrix(mm1_csr)\n",
    "v1 = np.random.randn(mm1_csr.shape[1])\n",
    "\n",
    "timeit_result_ell = %timeit -o mm1_ellr @ v1   \n",
    "timeit_result_csr = %timeit -o mm1_csr @ v1"
   ]
  },
  {
   "cell_type": "markdown",
   "id": "HC-zvJfH2Nab",
   "metadata": {
    "id": "HC-zvJfH2Nab"
   },
   "source": [
    "None of the chosen matrices have better performance when implemented Ellpack-R format SpMV. I suppose there are two possible reasons: their matrix size is not large enough; they have few elements per row. But the excellent performance of the Ellpack-R matvec can be seen from the above plot. "
   ]
  },
  {
   "cell_type": "markdown",
   "id": "EnMSahVC4bi1",
   "metadata": {
    "id": "EnMSahVC4bi1"
   },
   "source": [
    "   \n",
    "     \n",
    "References:    \n",
    "     \n",
    "[1] Li, R. and Saad, Y. (2012) GPU-Accelerated Preconditioned Iterative Linear Solvers. The Journal of Supercomputing, 63, 443-466. https://doi.org/10.1007/s11227-012-0825-3\n",
    "[2] Cenvahir, A., Nukada, A. and Matsuoka, S. (2009) Fast Conjugate Gradients with Multiple GPUs. Computational Science-ICCS 2009, 9th International Conference, Baton Rouge, LA, 25-27 May 2009, 893-903. https://doi.org/10.1007/978-3-642-01970-8_90\n",
    "[3] S. Yan et al. yaSpMV: Yet Another SpMV Framework on GPUs. In Proceedings of the 19th ACM SIGPLAN Symposium on Principles and Practice of Parallel Programming, PPoPP ’14, 2014.\n",
    "[4]  A. Ashari et al. An Efficient Two-dimensional Blocking Strategy for Sparse Matrix-vector Multiplication on GPUs. In Proceedings of the 28th ACM International Conference on Supercomputing, ICS ’14, pages 273–282, New York, NY, USA, 2014. ACM.\n",
    "[5] M. Kreutzer et al. A Unified Sparse Matrix Data Format for Efficient General Sparse Matrix- Vector Multiplication on Modern Processors with Wide SIMD Units. SIAM Journal on Scientific Computing, 36(5):C401–C423, 2014.\n",
    "[6] Zheng, C., Gu, S., Gu, T.-X. and Liu, X.-P. (2014) BiEll: A Bisection ELLPACK Based Storage Format for Optimizing SpMV on GPUs. Journal of Parallel and Dis- tributed Computing, 74, 2639-2647. https://doi.org/10.1016/j.jpdc.2014.03.002\n",
    "[7] Yusuke Nagasaka, Akira Nukada, and and Satoshi Matsuoka. (2016) Adaptive Multi-level Blocking Optimization for Sparse Matrix Vector Multiplication on GPU. Procedia Computer Science, 80, 2016, Pages 131–142.\n",
    "[8] Zhiqi Wang, Tongxiang Gu. (2020) PELLR: A Permutated ELLPACK-R Format for SpMV on GPUs. Journal of Computer and Communications, 2020, 8, 44-58.\n",
    "https://www.scirp.org/journal/jcc\n"
   ]
  }
 ],
 "metadata": {
  "accelerator": "GPU",
  "colab": {
   "collapsed_sections": [],
   "machine_shape": "hm",
   "name": "Assignment3_YaruZeng_nennn.ipynb",
   "provenance": []
  },
  "kernelspec": {
   "display_name": "Python 3",
   "language": "python",
   "name": "python3"
  },
  "language_info": {
   "codemirror_mode": {
    "name": "ipython",
    "version": 3
   },
   "file_extension": ".py",
   "mimetype": "text/x-python",
   "name": "python",
   "nbconvert_exporter": "python",
   "pygments_lexer": "ipython3",
   "version": "3.8.8"
  }
 },
 "nbformat": 4,
 "nbformat_minor": 5
}

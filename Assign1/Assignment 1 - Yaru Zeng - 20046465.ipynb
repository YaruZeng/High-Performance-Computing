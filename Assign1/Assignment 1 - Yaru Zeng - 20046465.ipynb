{
 "cells": [
  {
   "cell_type": "markdown",
   "id": "52271abe",
   "metadata": {},
   "source": [
    "# Assignment 1 - Matrix multiplication in Numba\n",
    "\n",
    "### for quick reading: please find * marked solutions and comments, thanks."
   ]
  },
  {
   "cell_type": "markdown",
   "id": "b87386a6",
   "metadata": {},
   "source": [
    "We consider the problem of evaluating the matrix multiplication 𝐶=𝐴×𝐵 for matrices 𝐴,𝐵∈ℝ𝑛×𝑛. A simple Python implementation of the matrix-matrix product is given below through the function matrix_product. At the end this function is checked against the Numpy implementation of the matrix-matrix product."
   ]
  },
  {
   "cell_type": "code",
   "execution_count": null,
   "id": "9edd038e",
   "metadata": {},
   "outputs": [],
   "source": [
    "import numpy as np\n",
    "\n",
    "def matrix_product(mat_a, mat_b):\n",
    "    \"\"\"Returns the product of the matrices mat_a and mat_b.\"\"\"\n",
    "    m = mat_a.shape[0]\n",
    "    n = mat_b.shape[1]\n",
    "\n",
    "    assert(mat_a.shape[1] == mat_b.shape[0])\n",
    "\n",
    "    ncol = mat_a.shape[1]\n",
    "\n",
    "    mat_c = np.zeros((m, n), dtype=np.float64)\n",
    "\n",
    "    for row_ind in range(m):\n",
    "        for col_ind in range(n):\n",
    "            for k in range(ncol):\n",
    "                mat_c[row_ind, col_ind] += mat_a[row_ind, k] * mat_b[k, col_ind]\n",
    "\n",
    "    return mat_c\n",
    "\n",
    "a = np.random.randn(10, 10)\n",
    "b = np.random.randn(10, 10)\n",
    "\n",
    "c_actual = matrix_product(a, b)\n",
    "c_expected = a @ b\n",
    "\n",
    "error = np.linalg.norm(c_actual - c_expected) / np.linalg.norm(c_expected)\n",
    "print(f\"The error is {error}.\")"
   ]
  },
  {
   "cell_type": "markdown",
   "id": "2aa2ce83",
   "metadata": {},
   "source": [
    "The matrix product is one of the most fundamental operations on modern computers. Most algorithms eventually make use of this operation. A lot of effort is therefore spent on optimising the matrix product. Vendors provide hardware optimised BLAS (Basis Linear Algebra Subroutines) that provide highly efficient versions of the matrix product. Alternatively, open-source libraries sucha as Openblas provide widely used generic open-source implementations of this operation.\n",
    "\n",
    "In this assignment we want to learn at the example of matrix-matrix products about the possible speedups offered by Numba, and the effects of cache-efficient programming."
   ]
  },
  {
   "cell_type": "markdown",
   "id": "c6e22d8f",
   "metadata": {},
   "source": [
    "# Section 1"
   ]
  },
  {
   "cell_type": "markdown",
   "id": "bd0706a8",
   "metadata": {},
   "source": [
    "Benchmark the above function against the Numpy dot product for matrix sizes up to 1000. Plot the timing results of the above function against the timing results for the Numpy dot product. You need not benchmark every dimension up to 1000. Figure out what dimensions to use so that you can represent the result without spending too much time waiting for the code to finish. To perform benchmarks you can use the %timeit magic command. An example is"
   ]
  },
  {
   "cell_type": "code",
   "execution_count": null,
   "id": "64a0872f",
   "metadata": {},
   "outputs": [],
   "source": [
    "timeit_result = %timeit -o matrix_product(a, b)\n",
    "print(timeit_result.best)"
   ]
  },
  {
   "cell_type": "markdown",
   "id": "6e960929",
   "metadata": {},
   "source": [
    "## *Solution for Section 1"
   ]
  },
  {
   "cell_type": "code",
   "execution_count": 9,
   "id": "06049f51",
   "metadata": {},
   "outputs": [
    {
     "name": "stdout",
     "output_type": "stream",
     "text": [
      "935 ns ± 15.3 ns per loop (mean ± std. dev. of 7 runs, 1000000 loops each)\n",
      "1.03 µs ± 15 ns per loop (mean ± std. dev. of 7 runs, 1000000 loops each)\n",
      "The error is nan.\n"
     ]
    },
    {
     "name": "stderr",
     "output_type": "stream",
     "text": [
      "<ipython-input-9-46cfea191ef4>:42: RuntimeWarning: invalid value encountered in double_scalars\n",
      "  error = np.linalg.norm(c_actual - c_expected) / np.linalg.norm(c_expected)\n"
     ]
    },
    {
     "name": "stdout",
     "output_type": "stream",
     "text": [
      "21.7 µs ± 2.93 µs per loop (mean ± std. dev. of 7 runs, 100000 loops each)\n",
      "57.5 ms ± 411 µs per loop (mean ± std. dev. of 7 runs, 10 loops each)\n",
      "The error is 0.0.\n",
      "70.1 µs ± 7.15 µs per loop (mean ± std. dev. of 7 runs, 10000 loops each)\n",
      "456 ms ± 6.21 ms per loop (mean ± std. dev. of 7 runs, 1 loop each)\n",
      "The error is 0.0.\n",
      "234 µs ± 43.6 µs per loop (mean ± std. dev. of 7 runs, 1000 loops each)\n",
      "1.55 s ± 5.68 ms per loop (mean ± std. dev. of 7 runs, 1 loop each)\n",
      "The error is 0.0.\n",
      "446 µs ± 27.1 µs per loop (mean ± std. dev. of 7 runs, 1000 loops each)\n",
      "3.63 s ± 7.56 ms per loop (mean ± std. dev. of 7 runs, 1 loop each)\n",
      "The error is 0.0.\n",
      "752 µs ± 20.7 µs per loop (mean ± std. dev. of 7 runs, 1000 loops each)\n",
      "7.11 s ± 65.7 ms per loop (mean ± std. dev. of 7 runs, 1 loop each)\n",
      "The error is 0.0.\n",
      "1.3 ms ± 23.7 µs per loop (mean ± std. dev. of 7 runs, 1000 loops each)\n",
      "12.3 s ± 24.3 ms per loop (mean ± std. dev. of 7 runs, 1 loop each)\n",
      "The error is 5.563421898382404e-16.\n",
      "1.94 ms ± 40.4 µs per loop (mean ± std. dev. of 7 runs, 1000 loops each)\n",
      "19.5 s ± 83.2 ms per loop (mean ± std. dev. of 7 runs, 1 loop each)\n",
      "The error is 5.954102313560601e-16.\n",
      "2.62 ms ± 28.4 µs per loop (mean ± std. dev. of 7 runs, 100 loops each)\n",
      "29.3 s ± 134 ms per loop (mean ± std. dev. of 7 runs, 1 loop each)\n",
      "The error is 6.414144315544954e-16.\n",
      "3.53 ms ± 72.8 µs per loop (mean ± std. dev. of 7 runs, 100 loops each)\n",
      "41.5 s ± 242 ms per loop (mean ± std. dev. of 7 runs, 1 loop each)\n",
      "The error is 6.79260281633107e-16.\n",
      "4.4 ms ± 155 µs per loop (mean ± std. dev. of 7 runs, 100 loops each)\n",
      "56.6 s ± 75.5 ms per loop (mean ± std. dev. of 7 runs, 1 loop each)\n",
      "The error is 7.141649405747834e-16.\n",
      "[  0  50 100 150 200 250 300 350 400 450 500] \n",
      " [9.180004999998346e-07, 1.730469666999852e-05, 6.521015840007749e-05, 0.00018803004199980934, 0.00041026637499999195, 0.0007089739589991951, 0.001269974999999249, 0.001870561292000275, 0.002576160419994267, 0.003434826669999893, 0.004258524580000085] \n",
      " [1.0196700830001645e-06, 0.05684946250003122, 0.4501677499993093, 1.5352771660000144, 3.625068374998591, 7.051701250000406, 12.247204166998927, 19.441665166999883, 29.109519499999806, 41.22150629200041, 56.50731570800053]\n"
     ]
    },
    {
     "data": {
      "text/plain": [
       "<matplotlib.legend.Legend at 0x7f9622fc5b50>"
      ]
     },
     "execution_count": 9,
     "metadata": {},
     "output_type": "execute_result"
    },
    {
     "data": {
      "image/png": "[encoded data removed]",
      "text/plain": [
       "<Figure size 432x288 with 1 Axes>"
      ]
     },
     "metadata": {
      "needs_background": "light"
     },
     "output_type": "display_data"
    }
   ],
   "source": [
    "import numpy as np\n",
    "import matplotlib.pyplot as plt\n",
    "\n",
    "def matrix_product(mat_a, mat_b):\n",
    "    \"\"\"Returns the product of the matrices mat_a and mat_b.\"\"\"\n",
    "    m = mat_a.shape[0]\n",
    "    n = mat_b.shape[1]\n",
    "\n",
    "    assert(mat_a.shape[1] == mat_b.shape[0]) \n",
    "\n",
    "    ncol = mat_a.shape[1] \n",
    "\n",
    "    mat_c = np.zeros((m, n), dtype=np.float64) \n",
    "\n",
    "    for row_ind in range(m):\n",
    "        for col_ind in range(n):\n",
    "            for k in range(ncol):\n",
    "                mat_c[row_ind, col_ind] += mat_a[row_ind, k] * mat_b[k, col_ind]\n",
    "\n",
    "    return mat_c\n",
    "\n",
    "dimensions = np.arange(0,550,50) # assign dimensions of matrices for research \n",
    "#remark: due to much lower operating speed with higher dimensions, the highest dimension is set to be 500\n",
    "\n",
    "time_expected = [] # set a list to store timings of Numpy dot product\n",
    "time_actual = [] # set a list to store timings of the above matrix_product function\n",
    "\n",
    "for i in dimensions: \n",
    "# for every matrix with an assigned dimension, compute its timings of operating the function and the Numpy dot product \n",
    "    a = np.random.randn(i, i) \n",
    "    b = np.random.randn(i, i)\n",
    "\n",
    "    timeit_result_expected = %timeit -o a @ b\n",
    "    time_expected.append(timeit_result_expected.best)\n",
    "    \n",
    "    timeit_result_actual = %timeit -o matrix_product(a, b)\n",
    "    time_actual.append(timeit_result_actual.best)\n",
    "    \n",
    "    c_expected = a @ b\n",
    "    c_actual = matrix_product(a, b)\n",
    "    \n",
    "    error = np.linalg.norm(c_actual - c_expected) / np.linalg.norm(c_expected)\n",
    "    print(f\"The error is {error}.\")\n",
    "    \n",
    "# plot to benchmark time-cost of the function agaist that of Numpy dot product as the dimension increases up to 500\n",
    "x = dimensions\n",
    "y1 = time_expected\n",
    "y2 = time_actual\n",
    "    \n",
    "print(x,'\\n',y1,'\\n',y2)\n",
    "\n",
    "plt.plot(x, y1, color='green', label='expected')\n",
    "plt.plot(x, y2, color='blue', label='actual')\n",
    "\n",
    "plt.title(\"Benchmarking: Numpy dot product's timing VS multiplication function's timing'\")\n",
    "plt.xlabel('dimension of matrix')\n",
    "plt.ylabel('time_cost')\n",
    "plt.legend()"
   ]
  },
  {
   "cell_type": "markdown",
   "id": "bb5f4793",
   "metadata": {},
   "source": [
    "## *Comment\n",
    "\n",
    "From the plot, I found the following properties of the timing results.\n",
    "\n",
    "The timing results of Numpy dot product and the matrix_product function demonstrate different trends when the dimensions of the matrices that carry out multiplication increase. \n",
    "\n",
    "The timing results of the Numpy dot product shows slightly increasing with values below 0.01s when the dimensions are lower than or equal to 500. While timing results of the function are correlative to the dimensions of the matrices. The timing result grows up as the dimension increases generating a curve shaped like an exponential function with the highest value of 56.5s at the 500 dimension. \n"
   ]
  },
  {
   "cell_type": "markdown",
   "id": "37b9bca9",
   "metadata": {},
   "source": [
    "# Section 2"
   ]
  },
  {
   "cell_type": "markdown",
   "id": "5c65378a",
   "metadata": {},
   "source": [
    "Now optimise the code by using Numba to JIT-compile it. Also, there is lots of scope for parallelisation in the code. You can for example parallelize the outer-most for-loop. Benchmark the JIT-compiled serial code against the JIT-compiled parallel code. Comment on the expected performance on your system against the observed performance."
   ]
  },
  {
   "cell_type": "markdown",
   "id": "64608832",
   "metadata": {},
   "source": [
    "## *Solution for Section 2"
   ]
  },
  {
   "cell_type": "code",
   "execution_count": 22,
   "id": "1c2a60e8",
   "metadata": {},
   "outputs": [
    {
     "name": "stdout",
     "output_type": "stream",
     "text": [
      "714 ns ± 8.34 ns per loop (mean ± std. dev. of 7 runs, 1000000 loops each)\n",
      "154 µs ± 76.5 µs per loop (mean ± std. dev. of 7 runs, 1 loop each)\n",
      "The error bewteen jit and non-jit is 7.141649405747834e-16.\n",
      "The error bewteen jitprl and non-jit is 7.141649405747834e-16.\n"
     ]
    },
    {
     "name": "stderr",
     "output_type": "stream",
     "text": [
      "<ipython-input-22-569620417c99>:63: RuntimeWarning: invalid value encountered in double_scalars\n",
      "  error1 = np.linalg.norm(c_1 - c_expected) / np.linalg.norm(c_expected)\n",
      "<ipython-input-22-569620417c99>:66: RuntimeWarning: invalid value encountered in double_scalars\n",
      "  error2 = np.linalg.norm(c_2 - c_expected) / np.linalg.norm(c_expected)\n"
     ]
    },
    {
     "name": "stdout",
     "output_type": "stream",
     "text": [
      "61.7 µs ± 250 ns per loop (mean ± std. dev. of 7 runs, 10000 loops each)\n",
      "141 µs ± 2.15 µs per loop (mean ± std. dev. of 7 runs, 10000 loops each)\n",
      "The error bewteen jit and non-jit is 7.141649405747834e-16.\n",
      "The error bewteen jitprl and non-jit is 7.141649405747834e-16.\n",
      "609 µs ± 4.12 µs per loop (mean ± std. dev. of 7 runs, 1000 loops each)\n",
      "319 µs ± 5.77 µs per loop (mean ± std. dev. of 7 runs, 1000 loops each)\n",
      "The error bewteen jit and non-jit is 7.141649405747834e-16.\n",
      "The error bewteen jitprl and non-jit is 7.141649405747834e-16.\n",
      "2.53 ms ± 29.6 µs per loop (mean ± std. dev. of 7 runs, 100 loops each)\n",
      "674 µs ± 14.9 µs per loop (mean ± std. dev. of 7 runs, 1000 loops each)\n",
      "The error bewteen jit and non-jit is 7.141649405747834e-16.\n",
      "The error bewteen jitprl and non-jit is 7.141649405747834e-16.\n",
      "6.35 ms ± 22.1 µs per loop (mean ± std. dev. of 7 runs, 100 loops each)\n",
      "1.38 ms ± 31.7 µs per loop (mean ± std. dev. of 7 runs, 1000 loops each)\n",
      "The error bewteen jit and non-jit is 7.141649405747834e-16.\n",
      "The error bewteen jitprl and non-jit is 7.141649405747834e-16.\n",
      "13.1 ms ± 103 µs per loop (mean ± std. dev. of 7 runs, 100 loops each)\n",
      "2.74 ms ± 66.7 µs per loop (mean ± std. dev. of 7 runs, 100 loops each)\n",
      "The error bewteen jit and non-jit is 7.141649405747834e-16.\n",
      "The error bewteen jitprl and non-jit is 7.141649405747834e-16.\n",
      "23.3 ms ± 129 µs per loop (mean ± std. dev. of 7 runs, 10 loops each)\n",
      "4.93 ms ± 183 µs per loop (mean ± std. dev. of 7 runs, 100 loops each)\n",
      "The error bewteen jit and non-jit is 7.141649405747834e-16.\n",
      "The error bewteen jitprl and non-jit is 7.141649405747834e-16.\n",
      "38.1 ms ± 313 µs per loop (mean ± std. dev. of 7 runs, 10 loops each)\n",
      "7.93 ms ± 234 µs per loop (mean ± std. dev. of 7 runs, 100 loops each)\n",
      "The error bewteen jit and non-jit is 7.141649405747834e-16.\n",
      "The error bewteen jitprl and non-jit is 7.141649405747834e-16.\n",
      "57.5 ms ± 230 µs per loop (mean ± std. dev. of 7 runs, 10 loops each)\n",
      "11.8 ms ± 377 µs per loop (mean ± std. dev. of 7 runs, 100 loops each)\n",
      "The error bewteen jit and non-jit is 7.141649405747834e-16.\n",
      "The error bewteen jitprl and non-jit is 7.141649405747834e-16.\n",
      "83.1 ms ± 343 µs per loop (mean ± std. dev. of 7 runs, 10 loops each)\n",
      "17.4 ms ± 477 µs per loop (mean ± std. dev. of 7 runs, 100 loops each)\n",
      "The error bewteen jit and non-jit is 7.141649405747834e-16.\n",
      "The error bewteen jitprl and non-jit is 7.141649405747834e-16.\n",
      "115 ms ± 643 µs per loop (mean ± std. dev. of 7 runs, 10 loops each)\n",
      "22.3 ms ± 1.3 ms per loop (mean ± std. dev. of 7 runs, 10 loops each)\n",
      "The error bewteen jit and non-jit is 7.141649405747834e-16.\n",
      "The error bewteen jitprl and non-jit is 7.141649405747834e-16.\n",
      "[  0  50 100 150 200 250 300 350 400 450 500] \n",
      " [9.180004999998346e-07, 1.730469666999852e-05, 6.521015840007749e-05, 0.00018803004199980934, 0.00041026637499999195, 0.0007089739589991951, 0.001269974999999249, 0.001870561292000275, 0.002576160419994267, 0.003434826669999893, 0.004258524580000085] \n",
      " [1.0196700830001645e-06, 0.05684946250003122, 0.4501677499993093, 1.5352771660000144, 3.625068374998591, 7.051701250000406, 12.247204166998927, 19.441665166999883, 29.109519499999806, 41.22150629200041, 56.50731570800053] \n",
      " [7.032669999971404e-07, 6.125172500032932e-05, 0.0006039562080004543, 0.002508546249991923, 0.006335491669997282, 0.01300726207999105, 0.023129649999827962, 0.037794983299681915, 0.057188279099864306, 0.08253184169989254, 0.1140080000001035] \n",
      " [9.10419985302724e-05, 0.0001381740415999957, 0.00031131749999985914, 0.0006567926250027086, 0.0013343105830026616, 0.0026383995799915284, 0.004758102079977107, 0.007640082910002093, 0.011307549590019334, 0.016691761660003978, 0.020712141699914356]\n"
     ]
    },
    {
     "data": {
      "text/plain": [
       "<matplotlib.legend.Legend at 0x7f9633a43130>"
      ]
     },
     "execution_count": 22,
     "metadata": {},
     "output_type": "execute_result"
    },
    {
     "data": {
      "image/png": "[encoded data removed]",
      "text/plain": [
       "<Figure size 432x288 with 1 Axes>"
      ]
     },
     "metadata": {
      "needs_background": "light"
     },
     "output_type": "display_data"
    }
   ],
   "source": [
    "import numpy as np\n",
    "import matplotlib.pyplot as plt\n",
    "from numba import jit, njit, prange\n",
    "\n",
    "@njit(parallel = True) # tell Numba to just-in-time compile the function and parallel the outer-most for-loop with prange\n",
    "def matrix_product_jitprl(mat_a, mat_b):\n",
    "    \"\"\"Returns the product of the matrices mat_a and mat_b with JIT parallelization speed-up.\"\"\"\n",
    "    m = mat_a.shape[0]\n",
    "    n = mat_b.shape[1]\n",
    "\n",
    "    assert(mat_a.shape[1] == mat_b.shape[0]) \n",
    "\n",
    "    ncol = mat_a.shape[1] \n",
    "\n",
    "    mat_c = np.zeros((m, n), dtype=np.float64) \n",
    "\n",
    "    for row_ind in prange(m):\n",
    "        for col_ind in range(n):\n",
    "            for k in range(ncol):\n",
    "                mat_c[row_ind, col_ind] += mat_a[row_ind, k] * mat_b[k, col_ind]\n",
    "\n",
    "    return mat_c\n",
    "\n",
    "@njit # tell Numba to just-in-time compile the function\n",
    "def matrix_product_jit(mat_a, mat_b):\n",
    "    \"\"\"Returns the product of the matrices mat_a and mat_b with JIT speed-up.\"\"\"\n",
    "    m = mat_a.shape[0]\n",
    "    n = mat_b.shape[1]\n",
    "\n",
    "    assert(mat_a.shape[1] == mat_b.shape[0]) \n",
    "\n",
    "    ncol = mat_a.shape[1] \n",
    "\n",
    "    mat_c = np.zeros((m, n), dtype=np.float64) \n",
    "\n",
    "    for row_ind in range(m):\n",
    "        for col_ind in range(n):\n",
    "            for k in range(ncol):\n",
    "                mat_c[row_ind, col_ind] += mat_a[row_ind, k] * mat_b[k, col_ind]\n",
    "\n",
    "    return mat_c\n",
    "\n",
    "dimensions = np.arange(0,550,50) #assign dimensions of matrices for research\n",
    "\n",
    "time_jit_serial = [] # set a list to store timings of the jit-complied function \n",
    "time_jit_parallel = [] # set a list to store timings of the jit-complied and prange-paralleled function\n",
    "\n",
    "for i in dimensions: \n",
    "# for every matrix with an assigned dimension, compute its timings of the jit-complied and prange-paralleled function \n",
    "    a = np.random.randn(i, i) \n",
    "    b = np.random.randn(i, i)\n",
    "\n",
    "    timeit_result_jit_serial = %timeit -o matrix_product_jit(a, b)\n",
    "    time_jit_serial.append(timeit_result_jit_serial.best)\n",
    "    \n",
    "    timeit_result_jit_parallel = %timeit -o matrix_product_jitprl(a, b)\n",
    "    time_jit_parallel.append(timeit_result_jit_parallel.best)\n",
    "    \n",
    "    c_expected = a @ b\n",
    "    c_1 = matrix_product_jit(a, b)\n",
    "    c_2 = matrix_product_jitprl(a, b)\n",
    "    \n",
    "    error1 = np.linalg.norm(c_1 - c_expected) / np.linalg.norm(c_expected)\n",
    "    print(f\"The error bewteen jit and non-jit is {error}.\")\n",
    "    \n",
    "    error2 = np.linalg.norm(c_2 - c_expected) / np.linalg.norm(c_expected)\n",
    "    print(f\"The error bewteen jitprl and non-jit is {error}.\")\n",
    "\n",
    "# plot to benchmark timings of JIT-compiled serial code against the JIT-compiled parallel code as the dimension increases up to 500    \n",
    "x = dimensions\n",
    "y3 = time_jit_serial\n",
    "y4 = time_jit_parallel\n",
    "\n",
    "print(x,'\\n',y1,'\\n',y2,'\\n',y3,'\\n',y4)\n",
    "\n",
    "plt.plot(x, y1, color='green', label='expected')\n",
    "plt.plot(x, y2, color='blue', label='actual')\n",
    "plt.plot(x, y3, color='purple', label='jit_serial')\n",
    "plt.plot(x, y4, color='red', label='jit_parallel')\n",
    "plt.title(\"Benchmarking: Numpy dot product's timing VS multiplication function's timing with jit and jit_parallel\")\n",
    "plt.xlabel('dimension of matrix')\n",
    "plt.ylabel('time_cost')\n",
    "plt.legend()"
   ]
  },
  {
   "cell_type": "code",
   "execution_count": 24,
   "id": "3876fc5b",
   "metadata": {},
   "outputs": [
    {
     "data": {
      "text/plain": [
       "<matplotlib.legend.Legend at 0x7f963128b2b0>"
      ]
     },
     "execution_count": 24,
     "metadata": {},
     "output_type": "execute_result"
    },
    {
     "data": {
      "image/png": "[encoded data removed]",
      "text/plain": [
       "<Figure size 432x288 with 1 Axes>"
      ]
     },
     "metadata": {
      "needs_background": "light"
     },
     "output_type": "display_data"
    }
   ],
   "source": [
    "#in order to observe the cases around the scatters of the 'expected' case, plot the timings except the stray scatters of the 'actual' case\n",
    "plt.plot(x, y1, color='green', label='expected')\n",
    "plt.plot(x, y3, color='purple', label='jit_serial')\n",
    "plt.plot(x, y4, color='red', label='jit_parallel')\n",
    "plt.xlabel('dimension of matrix')\n",
    "plt.ylabel('time_cost')\n",
    "plt.title(\"Benchmarking: Numpy dot product's timing VS multiplication function's timing with jit and jit_parallel\")\n",
    "plt.legend()"
   ]
  },
  {
   "cell_type": "markdown",
   "id": "dba832d9",
   "metadata": {},
   "source": [
    "## *Comment"
   ]
  },
  {
   "cell_type": "markdown",
   "id": "7240f290",
   "metadata": {},
   "source": [
    "The performance of the function improves significantly with the help of JIT. Meanwhile, as the dimension of the matrix increases, the timings of the function with jit-complier and jit-prange-parallelization both climb up. \n",
    "\n",
    "For more discoveries, I will focus on the points where the dimension is 500. \n",
    "\n",
    "In the JIT-compiled serial case, the timing here is 0.11s. Compared to the counterpart 56.5s in the case without jit speed-up, the timing reduces by over 500 times. It is a strong evidence for JIT's powerful speeding performance.\n",
    "As for the JIT-compiled parallel case, the timing shows lower than that of the JIT-compiled serial case by over 5 times with a value of 0.02s. It proves that levering prange to split some for-loop into independently working threads indeed improves the computing property.\n"
   ]
  },
  {
   "cell_type": "markdown",
   "id": "3c83ea7b",
   "metadata": {},
   "source": [
    "# Section 3"
   ]
  },
  {
   "cell_type": "markdown",
   "id": "90a9a481",
   "metadata": {},
   "source": [
    "Now let us improve Cache efficiency. Notice that in the matrix 𝐵 we traverse by columns. However, the default storage ordering in Numpy is row-based. Hence, the expression mat_b[k, col_ind] jumps in memory by n units if we move from 𝑘 to 𝑘+1. Run your parallelized JIT-compiled Numba code again. But this time choose a matrix 𝐵 that is stored in column-major order. To change an array to column major order you can use the command np.asfortranarray."
   ]
  },
  {
   "cell_type": "markdown",
   "id": "e4555ec3",
   "metadata": {},
   "source": [
    "## *Solution for Section 3"
   ]
  },
  {
   "cell_type": "code",
   "execution_count": 12,
   "id": "4892166d",
   "metadata": {},
   "outputs": [
    {
     "name": "stdout",
     "output_type": "stream",
     "text": [
      "146 µs ± 50.2 µs per loop (mean ± std. dev. of 7 runs, 1 loop each)\n",
      "The error bewteen jit_parallel_fortran and non-jit is 7.141649405747834e-16.\n"
     ]
    },
    {
     "name": "stderr",
     "output_type": "stream",
     "text": [
      "<ipython-input-12-a90626af5d33>:39: RuntimeWarning: invalid value encountered in double_scalars\n",
      "  error1 = np.linalg.norm(c - c_expected) / np.linalg.norm(c)\n"
     ]
    },
    {
     "name": "stdout",
     "output_type": "stream",
     "text": [
      "192 µs ± 58.4 µs per loop (mean ± std. dev. of 7 runs, 1 loop each)\n",
      "The error bewteen jit_parallel_fortran and non-jit is 7.141649405747834e-16.\n",
      "315 µs ± 7.83 µs per loop (mean ± std. dev. of 7 runs, 1000 loops each)\n",
      "The error bewteen jit_parallel_fortran and non-jit is 7.141649405747834e-16.\n",
      "652 µs ± 10.3 µs per loop (mean ± std. dev. of 7 runs, 1000 loops each)\n",
      "The error bewteen jit_parallel_fortran and non-jit is 7.141649405747834e-16.\n",
      "1.36 ms ± 28.9 µs per loop (mean ± std. dev. of 7 runs, 1000 loops each)\n",
      "The error bewteen jit_parallel_fortran and non-jit is 7.141649405747834e-16.\n",
      "2.74 ms ± 150 µs per loop (mean ± std. dev. of 7 runs, 100 loops each)\n",
      "The error bewteen jit_parallel_fortran and non-jit is 7.141649405747834e-16.\n",
      "4.46 ms ± 62.1 µs per loop (mean ± std. dev. of 7 runs, 100 loops each)\n",
      "The error bewteen jit_parallel_fortran and non-jit is 7.141649405747834e-16.\n",
      "7.2 ms ± 244 µs per loop (mean ± std. dev. of 7 runs, 100 loops each)\n",
      "The error bewteen jit_parallel_fortran and non-jit is 7.141649405747834e-16.\n",
      "11 ms ± 197 µs per loop (mean ± std. dev. of 7 runs, 100 loops each)\n",
      "The error bewteen jit_parallel_fortran and non-jit is 7.141649405747834e-16.\n",
      "15.9 ms ± 296 µs per loop (mean ± std. dev. of 7 runs, 100 loops each)\n",
      "The error bewteen jit_parallel_fortran and non-jit is 7.141649405747834e-16.\n",
      "21.4 ms ± 1.01 ms per loop (mean ± std. dev. of 7 runs, 10 loops each)\n",
      "The error bewteen jit_parallel_fortran and non-jit is 7.141649405747834e-16.\n",
      "[  0  50 100 150 200 250 300 350 400 450 500] \n",
      " [9.180004999998346e-07, 1.730469666999852e-05, 6.521015840007749e-05, 0.00018803004199980934, 0.00041026637499999195, 0.0007089739589991951, 0.001269974999999249, 0.001870561292000275, 0.002576160419994267, 0.003434826669999893, 0.004258524580000085] \n",
      " [8.49170010042144e-05, 0.00013621021660001134, 0.00031219683300150793, 0.000658866666000904, 0.0013638156249999155, 0.002649440000004688, 0.004665724589995079, 0.007396259589986584, 0.01099529666998933, 0.015941137919999165, 0.019961241700002574] \n",
      " [8.666599933349062e-05, 0.00012312500075495336, 0.0003028303749997576, 0.0006364703330000339, 0.0013336884579985054, 0.002508527089994459, 0.004386331669993524, 0.006950747499995486, 0.010602117080015887, 0.015385169170003791, 0.019270720799977426]\n"
     ]
    },
    {
     "data": {
      "text/plain": [
       "<matplotlib.legend.Legend at 0x7f96310009d0>"
      ]
     },
     "execution_count": 12,
     "metadata": {},
     "output_type": "execute_result"
    },
    {
     "data": {
      "image/png": "[encoded data removed]",
      "text/plain": [
       "<Figure size 432x288 with 1 Axes>"
      ]
     },
     "metadata": {
      "needs_background": "light"
     },
     "output_type": "display_data"
    }
   ],
   "source": [
    "import numpy as np\n",
    "import matplotlib.pyplot as plt\n",
    "from numba import jit, njit, prange\n",
    "\n",
    "@njit(parallel = True)\n",
    "def matrix_product_jitprl_fortran(mat_a, mat_b):\n",
    "    \"\"\"Returns the product of the matrices mat_a and mat_b with JIT parallelization speed-up.\"\"\"\n",
    "    m = mat_a.shape[0]\n",
    "    n = mat_b.shape[1]\n",
    "\n",
    "    assert(mat_a.shape[1] == mat_b.shape[0]) \n",
    "\n",
    "    ncol = mat_a.shape[1] \n",
    "\n",
    "    mat_c = np.zeros((m, n), dtype=np.float64) \n",
    "\n",
    "    for row_ind in prange(m):\n",
    "        for col_ind in range(n):\n",
    "            for k in range(ncol):\n",
    "                mat_c[row_ind, col_ind] += mat_a[row_ind, k] * mat_b[k, col_ind]\n",
    "\n",
    "    return mat_c\n",
    "\n",
    "dimensions = np.arange(0,550,50) #assign dimensions of matrices for research\n",
    "\n",
    "time_jit_parallel_fortran = [] # set a list to store timings of the jit-complied and prange-paralleled function whose mat_bs are column-based\n",
    "\n",
    "for i in dimensions: \n",
    "# for every matrix with an assigned dimension, compute its timings of operating the function and the Numpy dot product \n",
    "    a = np.random.randn(i, i) \n",
    "    b = np.asfortranarray(np.random.randn(i, i))# change array_b's order to column-based\n",
    "    \n",
    "    timeit_result_jit_parallel_fortran = %timeit -o matrix_product_jitprl_fortran(a, b)\n",
    "    time_jit_parallel_fortran.append(timeit_result_jit_parallel_fortran.best)\n",
    "    \n",
    "    c_expected = a @ b\n",
    "    c = matrix_product_jitprl_fortran(a, b)\n",
    "    \n",
    "    error1 = np.linalg.norm(c - c_expected) / np.linalg.norm(c)\n",
    "    print(f\"The error bewteen jit_parallel_fortran and non-jit is {error}.\")\n",
    "\n",
    "# plot to benchmark time-cost of the function with column-based-order mat_b against with row-based-order mat_b as the dimension increases up to 500 \n",
    "x = dimensions\n",
    "y5 = time_jit_parallel_fortran\n",
    "\n",
    "print(x,'\\n',y1,'\\n',y4,'\\n',y5)\n",
    "\n",
    "plt.plot(x, y1, color='green', label='expected')\n",
    "plt.plot(x, y4, color='red', label='jit_parallel')\n",
    "plt.plot(x, y5, color='orange', label='jit_parallel_fortran')\n",
    "plt.title('Benchmarking: Numpy dot product timing VS multiplication function timing with jit_parallel and jit_parallel_fortran')\n",
    "plt.xlabel('dimensions of matrix')\n",
    "plt.ylabel('time_cost')\n",
    "plt.legend()"
   ]
  },
  {
   "cell_type": "markdown",
   "id": "2c807792",
   "metadata": {},
   "source": [
    "## *Comment"
   ]
  },
  {
   "cell_type": "markdown",
   "id": "05410747",
   "metadata": {},
   "source": [
    "After adjusting the matrix b's order from row-based to column-based, the gap between timings of the two cases shows the tendency of growing. It means that when datasizes in the cache grow up, improving cache efficiency will benefit more to raise computing efficiency. "
   ]
  },
  {
   "cell_type": "markdown",
   "id": "183ef31f",
   "metadata": {},
   "source": [
    "# Section 4"
   ]
  },
  {
   "cell_type": "markdown",
   "id": "26e4a5b3",
   "metadata": {},
   "source": [
    "We can still try to improve efficiency. A frequent technique to improve efficiency for the matrix-matrix product is through blocking. Consider the command in the inner-most loop mat_c[row_ind, col_ind] += mat_a[row_ind, k] * mat_b[k, col_ind]. Instead of updating a single element mat_c[row_ind, col_ind] we want to update a ℓ×ℓ submatrix. Hence, the inner multiplication becomes itself the product of two ℓ×ℓ submatrices, and instead of iterating element by element we move forward in terms of ℓ×ℓ blocks. Implement this scheme. For the innermost ℓ×ℓ matrix use a standard serial triple loop. Investigate how benchmark timings depend on the parameter ℓ and how this implementation compares to your previous schemes. For simplicity you may want to choose outer-matrix dimensions that are multiples of ℓ so that you need not deal in your code with the remainder part of the matrix if the dimensions are not divisible by ℓ. Note that while such schemes are used in practical implementations of the matrix-matrix product it is not immediately clear that a Numba implementation here will be advantageous. There is a lot going on in the compiler in between writing Numba loops and actually producing machine code. Real libraries are written in much lower-level languages and can optimize closer to the hardware. Your task is to experiment to see if this blocked approach has advantages within Numba."
   ]
  },
  {
   "cell_type": "markdown",
   "id": "10848b1a",
   "metadata": {},
   "source": [
    "## *Solution for Section 4"
   ]
  },
  {
   "cell_type": "markdown",
   "id": "00578ce7",
   "metadata": {},
   "source": [
    "### 1) Compare with previous schemes"
   ]
  },
  {
   "cell_type": "code",
   "execution_count": 18,
   "id": "0601242b",
   "metadata": {},
   "outputs": [
    {
     "name": "stdout",
     "output_type": "stream",
     "text": [
      "129 µs ± 56.4 µs per loop (mean ± std. dev. of 7 runs, 1 loop each)\n",
      "274 µs ± 140 µs per loop (mean ± std. dev. of 7 runs, 1 loop each)\n",
      "402 µs ± 2.85 µs per loop (mean ± std. dev. of 7 runs, 1000 loops each)\n",
      "881 µs ± 5.76 µs per loop (mean ± std. dev. of 7 runs, 1000 loops each)\n",
      "1.79 ms ± 11.2 µs per loop (mean ± std. dev. of 7 runs, 1000 loops each)\n",
      "3.44 ms ± 30.5 µs per loop (mean ± std. dev. of 7 runs, 100 loops each)\n",
      "5.82 ms ± 60.1 µs per loop (mean ± std. dev. of 7 runs, 100 loops each)\n",
      "8.83 ms ± 72.3 µs per loop (mean ± std. dev. of 7 runs, 100 loops each)\n",
      "13 ms ± 209 µs per loop (mean ± std. dev. of 7 runs, 100 loops each)\n",
      "19.2 ms ± 84.7 µs per loop (mean ± std. dev. of 7 runs, 100 loops each)\n",
      "23.7 ms ± 559 µs per loop (mean ± std. dev. of 7 runs, 10 loops each)\n",
      "l=5 [8.49170010042144e-05, 0.00013679100084118545, 0.0003985190000003058, 0.0008750329169997712, 0.001768736624999292, 0.0034016770900052507, 0.005742064589994698, 0.008732564999991154, 0.012748082500002056, 0.01899867459000234, 0.023174741699949663]\n",
      "96 µs ± 1.06 µs per loop (mean ± std. dev. of 7 runs, 10000 loops each)\n",
      "144 µs ± 805 ns per loop (mean ± std. dev. of 7 runs, 10000 loops each)\n",
      "348 µs ± 2.8 µs per loop (mean ± std. dev. of 7 runs, 1000 loops each)\n",
      "669 µs ± 3.86 µs per loop (mean ± std. dev. of 7 runs, 1000 loops each)\n",
      "1.39 ms ± 11.3 µs per loop (mean ± std. dev. of 7 runs, 1000 loops each)\n",
      "2.65 ms ± 73.4 µs per loop (mean ± std. dev. of 7 runs, 100 loops each)\n",
      "4.24 ms ± 137 µs per loop (mean ± std. dev. of 7 runs, 100 loops each)\n",
      "6.81 ms ± 139 µs per loop (mean ± std. dev. of 7 runs, 100 loops each)\n",
      "9.32 ms ± 71.2 µs per loop (mean ± std. dev. of 7 runs, 100 loops each)\n",
      "13.7 ms ± 66.9 µs per loop (mean ± std. dev. of 7 runs, 100 loops each)\n",
      "19.2 ms ± 111 µs per loop (mean ± std. dev. of 7 runs, 100 loops each)\n",
      "l=10 [9.422137910005403e-05, 0.00014218454159999964, 0.0003426431670013699, 0.000664225249998708, 0.0013786635840006057, 0.002560138750013721, 0.004096597080006177, 0.006564062500001455, 0.00921852667001076, 0.013588462910011003, 0.019046264160006102]\n",
      "94.2 µs ± 1.52 µs per loop (mean ± std. dev. of 7 runs, 10000 loops each)\n",
      "159 µs ± 1.4 µs per loop (mean ± std. dev. of 7 runs, 10000 loops each)\n",
      "253 µs ± 1.84 µs per loop (mean ± std. dev. of 7 runs, 1000 loops each)\n",
      "653 µs ± 13.9 µs per loop (mean ± std. dev. of 7 runs, 1000 loops each)\n",
      "1.11 ms ± 7.77 µs per loop (mean ± std. dev. of 7 runs, 1000 loops each)\n",
      "2.3 ms ± 30.6 µs per loop (mean ± std. dev. of 7 runs, 100 loops each)\n",
      "3.8 ms ± 27 µs per loop (mean ± std. dev. of 7 runs, 100 loops each)\n",
      "5.68 ms ± 42.7 µs per loop (mean ± std. dev. of 7 runs, 100 loops each)\n",
      "7.62 ms ± 35.9 µs per loop (mean ± std. dev. of 7 runs, 100 loops each)\n",
      "12.3 ms ± 179 µs per loop (mean ± std. dev. of 7 runs, 100 loops each)\n",
      "16.6 ms ± 130 µs per loop (mean ± std. dev. of 7 runs, 100 loops each)\n",
      "l=25 [9.270373330000439e-05, 0.0001565385084000809, 0.00024950675000036426, 0.0006415859169992472, 0.0010956710419995942, 0.002251384169994708, 0.003771242909988359, 0.005622742079995077, 0.007571305420005956, 0.011968692499995087, 0.016402653340010148]\n",
      "94.8 µs ± 808 ns per loop (mean ± std. dev. of 7 runs, 10000 loops each)\n",
      "144 µs ± 1.07 µs per loop (mean ± std. dev. of 7 runs, 10000 loops each)\n",
      "350 µs ± 1.49 µs per loop (mean ± std. dev. of 7 runs, 1000 loops each)\n",
      "746 µs ± 10.6 µs per loop (mean ± std. dev. of 7 runs, 1000 loops each)\n",
      "1.31 ms ± 9.82 µs per loop (mean ± std. dev. of 7 runs, 1000 loops each)\n",
      "2.93 ms ± 8.61 µs per loop (mean ± std. dev. of 7 runs, 100 loops each)\n",
      "4.21 ms ± 30.9 µs per loop (mean ± std. dev. of 7 runs, 100 loops each)\n",
      "5.79 ms ± 52.8 µs per loop (mean ± std. dev. of 7 runs, 100 loops each)\n",
      "7.98 ms ± 106 µs per loop (mean ± std. dev. of 7 runs, 100 loops each)\n",
      "12.3 ms ± 71.8 µs per loop (mean ± std. dev. of 7 runs, 100 loops each)\n",
      "18.4 ms ± 208 µs per loop (mean ± std. dev. of 7 runs, 100 loops each)\n",
      "l=50 [9.355579580005723e-05, 0.0001426074625000183, 0.00034831033299997216, 0.0007308311249998951, 0.0012962860419993376, 0.0029181204099950264, 0.0041660749999937255, 0.005726240000003599, 0.007896524170009798, 0.012193877499994414, 0.0180745562499942]\n"
     ]
    },
    {
     "data": {
      "text/plain": [
       "<matplotlib.legend.Legend at 0x7f963167fa30>"
      ]
     },
     "execution_count": 18,
     "metadata": {},
     "output_type": "execute_result"
    },
    {
     "data": {
      "image/png": "[encoded data removed]",
      "text/plain": [
       "<Figure size 432x288 with 1 Axes>"
      ]
     },
     "metadata": {
      "needs_background": "light"
     },
     "output_type": "display_data"
    }
   ],
   "source": [
    "import numpy as np\n",
    "import matplotlib.pyplot as plt\n",
    "from numba import jit, njit, prange\n",
    "\n",
    "@njit(parallel=True)\n",
    "def matrix_product_jitprl_fortran_block(mat_a, mat_b, l):\n",
    "    \"\"\"Returns the product of the matrices mat_a and mat_b with JIT parallelization speed-up levering submatrices.\"\"\"\n",
    "    m = mat_a.shape[0]\n",
    "    n = mat_b.shape[1]\n",
    "    \n",
    "    assert(mat_a.shape[1] == mat_b.shape[0] and m%l == 0 and n%l == 0) \n",
    "    # only if outer-matrix's dimensions are multiples of ℓ and mat_a's column quantity equals to mat_b's row quantity, the following codes can be executed\n",
    "    \n",
    "    mat_c = np.zeros((m, n), dtype=np.float64)\n",
    "    ncol = mat_a.shape[1]\n",
    "\n",
    "    for r1 in prange(0, m, 1): # traverse a submatrix's initiative row indices\n",
    "        if r1%l != 0: # set step=1 to ensure prange is available\n",
    "            continue\n",
    "        r2 = r1 + l # generate corresponding submatrix's the last row indices\n",
    "        for c1 in range(0, n, l): # traverse a submatrix's initiative column indices\n",
    "            c2 = c1 + l # generate corresponding submatrix's the last column indices\n",
    "            for q1 in range(0, ncol, l): # traverse mat_a's submatrix's initiative column indices\n",
    "                q2 = q1 + l # generate mat_a's submatrix's last column indices\n",
    "                for row_ind in range(l): \n",
    "                # traverse the assigned submatrix's every element, multipulate them to obtain the submatrix\n",
    "                    for col_ind in range(l):\n",
    "                        for k in range(l):\n",
    "                            mat_c[r1:r2,c1:c2][row_ind, col_ind] += mat_a[r1:r2,q1:q2][row_ind, k] * mat_b[q1:q2,c1:c2][k, col_ind]\n",
    "    \n",
    "    return mat_c\n",
    "\n",
    "dimensions = np.arange(0,550,50) #assign dimensions of matrices for the research\n",
    "\n",
    "# for submatrices with different dimensions, compute timings of the above function and plot against outer-most matrices' dimensions\n",
    "j = 0\n",
    "for l in [5,10,25,50]:\n",
    "    time_block_d = []\n",
    "    c = ['orange','lightcoral','indianred','brown','maroon']\n",
    "    for i in dimensions:\n",
    "        a = np.random.randn(i, i) \n",
    "        b = np.asfortranarray(np.random.randn(i, i))\n",
    "\n",
    "        timeit_block = %timeit -o matrix_product_jitprl_fortran_block(a, b, l)\n",
    "        time_block_d.append(timeit_block.best)\n",
    "\n",
    "    x = dimensions\n",
    "    y = time_block_d\n",
    "\n",
    "    plt.plot(x, y, color=c[j], label='l={}'.format(l))\n",
    "    j += 1\n",
    "    \n",
    "    print('l={}'.format(l),y)\n",
    "    \n",
    "\n",
    "plt.plot(x, y1, color='green', label='expected')\n",
    "plt.plot(x, y5, color='red', label='jit_parallel_fortran_noblock')\n",
    "\n",
    "plt.xlabel('dimensions of outer-most matrix')\n",
    "plt.ylabel('time_cost')\n",
    "plt.title('Benchmark: timings of different matrix-multiplication schemes')\n",
    "plt.legend()"
   ]
  },
  {
   "cell_type": "markdown",
   "id": "1153fe7e",
   "metadata": {},
   "source": [
    "### *Comment"
   ]
  },
  {
   "cell_type": "markdown",
   "id": "237e3d2c",
   "metadata": {},
   "source": [
    "The advantage of the blocked approach is not obvious within Numba. \n",
    "\n",
    "When the dimensions of the submatrices are 5, the timings are longer than those of the case not using the blocked approach with other elements identical. But when ℓ increases up to 10, the timings begin to be lower than those of the case not levering the blocked approach. What's more, as ℓ becomes larger, the speeding performance of the blocked method shows a little improvement with some fluctuations. When the outer-most matrix's dimension is 500, the lowest timing is 0.016s at ℓ=25 point. It is 0.003s lower than that of non-block case, which is a tuny difference."
   ]
  },
  {
   "cell_type": "markdown",
   "id": "a85b90f1",
   "metadata": {},
   "source": [
    "### 2) Explore multiplication timing trend against ℓ ( with dimensions of outer-most matrices fixed) "
   ]
  },
  {
   "cell_type": "code",
   "execution_count": 19,
   "id": "0bff95c7",
   "metadata": {},
   "outputs": [
    {
     "name": "stdout",
     "output_type": "stream",
     "text": [
      "1.28 s ± 14.5 ms per loop (mean ± std. dev. of 7 runs, 1 loop each)\n",
      "The error bewteen block and expected_no_block is 1.1055705953236267e-15.\n",
      "174 ms ± 892 µs per loop (mean ± std. dev. of 7 runs, 10 loops each)\n",
      "The error bewteen block and expected_no_block is 1.1055705953236267e-15.\n",
      "125 ms ± 1.97 ms per loop (mean ± std. dev. of 7 runs, 10 loops each)\n",
      "The error bewteen block and expected_no_block is 1.1055705953236267e-15.\n",
      "107 ms ± 3.74 ms per loop (mean ± std. dev. of 7 runs, 10 loops each)\n",
      "The error bewteen block and expected_no_block is 1.1055705953236267e-15.\n",
      "120 ms ± 2.37 ms per loop (mean ± std. dev. of 7 runs, 10 loops each)\n",
      "The error bewteen block and expected_no_block is 1.1055705953236267e-15.\n",
      "173 ms ± 3.37 ms per loop (mean ± std. dev. of 7 runs, 10 loops each)\n",
      "The error bewteen block and expected_no_block is 1.1055705953236267e-15.\n",
      "230 ms ± 1.17 ms per loop (mean ± std. dev. of 7 runs, 1 loop each)\n",
      "The error bewteen block and expected_no_block is 1.1055705953236267e-15.\n",
      "464 ms ± 827 µs per loop (mean ± std. dev. of 7 runs, 1 loop each)\n",
      "The error bewteen block and expected_no_block is 1.1055705953236267e-15.\n",
      "936 ms ± 1.89 ms per loop (mean ± std. dev. of 7 runs, 1 loop each)\n",
      "The error bewteen block and expected_no_block is 1.1055705953236267e-15.\n"
     ]
    },
    {
     "data": {
      "text/plain": [
       "[<matplotlib.lines.Line2D at 0x7f963397a700>]"
      ]
     },
     "execution_count": 19,
     "metadata": {},
     "output_type": "execute_result"
    },
    {
     "data": {
      "image/png": "[encoded data removed]",
      "text/plain": [
       "<Figure size 432x288 with 1 Axes>"
      ]
     },
     "metadata": {
      "needs_background": "light"
     },
     "output_type": "display_data"
    }
   ],
   "source": [
    "i = 1000 # assign the outer-most matrix's dimension\n",
    "a = np.random.randn(i, i)\n",
    "b = np.asfortranarray(np.random.randn(i, i))\n",
    "time_block_l = [] # set a list to store timings\n",
    "\n",
    "# for a matrix with the fixed dimension blocked into a series of sub-matrices, compute timings of the above function and plot against submatrices' dimensions    \n",
    "for l in [1,5,10,25,50,100,250,500,1000]:\n",
    "    timeit_block = %timeit -o matrix_product_jitprl_fortran_block(a, b, l)\n",
    "    time_block_l.append(timeit_block.best)\n",
    "    c_expected = a @ b\n",
    "    c = matrix_product_jit_fortran_block(a, b, l)\n",
    "    \n",
    "    error1 = np.linalg.norm(c - c_expected) / np.linalg.norm(c)\n",
    "    print(f\"The error bewteen block and expected_no_block is {error1}.\")\n",
    "    \n",
    "x = [1,5,10,25,50,100,250,500,1000]\n",
    "y = time_block_l\n",
    "plt.xlabel('dimensions of sub-matrix')\n",
    "plt.ylabel('time_cost')\n",
    "plt.title('Trend of multiplication timings against increasing submatrix dimensions')\n",
    "plt.plot(x, y, color='blue', label='dimension={}'.format(i))\n",
    "    "
   ]
  },
  {
   "cell_type": "markdown",
   "id": "dfddc7cc",
   "metadata": {},
   "source": [
    "### *Comment"
   ]
  },
  {
   "cell_type": "markdown",
   "id": "e270e865",
   "metadata": {},
   "source": [
    "When the dimension of the outer-most matrix is fixed at 1000, the increasing dimensions of sub-matrices will lead to higher time-cost of the function, showing a curve shaped like a line (leaving the 0 point). That means when the dimensions of sub-matrices become larger, or the number of elements in a submatrix becomes smaller, the computing efficiency reduces. In a nutshell, approperiately blocking matrices will contribute to the matrices multiplication's computing performance.\n"
   ]
  }
 ],
 "metadata": {
  "kernelspec": {
   "display_name": "Python 3",
   "language": "python",
   "name": "python3"
  },
  "language_info": {
   "codemirror_mode": {
    "name": "ipython",
    "version": 3
   },
   "file_extension": ".py",
   "mimetype": "text/x-python",
   "name": "python",
   "nbconvert_exporter": "python",
   "pygments_lexer": "ipython3",
   "version": "3.8.8"
  }
 },
 "nbformat": 4,
 "nbformat_minor": 5
}

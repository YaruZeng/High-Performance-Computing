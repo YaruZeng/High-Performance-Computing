{
 "cells": [
  {
   "cell_type": "code",
   "execution_count": 1,
   "id": "0ca6acc5-1c01-4c90-b290-2b313632a583",
   "metadata": {},
   "outputs": [
    {
     "name": "stdout",
     "output_type": "stream",
     "text": [
      "1.11 µs ± 27.2 ns per loop (mean ± std. dev. of 7 runs, 1000000 loops each)\n",
      "986 ns ± 7.65 ns per loop (mean ± std. dev. of 7 runs, 1000000 loops each)\n",
      "0 [1.0824055e-06] [9.766867500000024e-07]\n",
      "57.9 ms ± 545 µs per loop (mean ± std. dev. of 7 runs, 10 loops each)\n",
      "34.1 µs ± 4.93 µs per loop (mean ± std. dev. of 7 runs, 10000 loops each)\n",
      "50 [1.0824055e-06, 0.05716558340000013] [9.766867500000024e-07, 2.7212787499999536e-05]\n",
      "464 ms ± 4.37 ms per loop (mean ± std. dev. of 7 runs, 1 loop each)\n",
      "85.1 µs ± 7.61 µs per loop (mean ± std. dev. of 7 runs, 10000 loops each)\n",
      "100 [1.0824055e-06, 0.05716558340000013, 0.4563117500000047] [9.766867500000024e-07, 2.7212787499999536e-05, 6.809751669999997e-05]\n",
      "1.58 s ± 20.7 ms per loop (mean ± std. dev. of 7 runs, 1 loop each)\n",
      "202 µs ± 11.9 µs per loop (mean ± std. dev. of 7 runs, 10000 loops each)\n",
      "150 [1.0824055e-06, 0.05716558340000013, 0.4563117500000047, 1.5624529999999979] [9.766867500000024e-07, 2.7212787499999536e-05, 6.809751669999997e-05, 0.0001841995333]\n",
      "3.71 s ± 26.1 ms per loop (mean ± std. dev. of 7 runs, 1 loop each)\n",
      "408 µs ± 19.1 µs per loop (mean ± std. dev. of 7 runs, 1000 loops each)\n",
      "200 [1.0824055e-06, 0.05716558340000013, 0.4563117500000047, 1.5624529999999979, 3.681436000000005] [9.766867500000024e-07, 2.7212787499999536e-05, 6.809751669999997e-05, 0.0001841995333, 0.0003652763330000113]\n",
      "7.25 s ± 25.7 ms per loop (mean ± std. dev. of 7 runs, 1 loop each)\n",
      "752 µs ± 35.3 µs per loop (mean ± std. dev. of 7 runs, 1000 loops each)\n",
      "250 [1.0824055e-06, 0.05716558340000013, 0.4563117500000047, 1.5624529999999979, 3.681436000000005, 7.19970808299999] [9.766867500000024e-07, 2.7212787499999536e-05, 6.809751669999997e-05, 0.0001841995333, 0.0003652763330000113, 0.0007098710830000243]\n",
      "12.4 s ± 22.8 ms per loop (mean ± std. dev. of 7 runs, 1 loop each)\n",
      "1.31 ms ± 60.8 µs per loop (mean ± std. dev. of 7 runs, 1000 loops each)\n",
      "300 [1.0824055e-06, 0.05716558340000013, 0.4563117500000047, 1.5624529999999979, 3.681436000000005, 7.19970808299999, 12.409618499999965] [9.766867500000024e-07, 2.7212787499999536e-05, 6.809751669999997e-05, 0.0001841995333, 0.0003652763330000113, 0.0007098710830000243, 0.0012085705830000393]\n",
      "19.9 s ± 56.6 ms per loop (mean ± std. dev. of 7 runs, 1 loop each)\n",
      "1.93 ms ± 96.5 µs per loop (mean ± std. dev. of 7 runs, 1000 loops each)\n",
      "350 [1.0824055e-06, 0.05716558340000013, 0.4563117500000047, 1.5624529999999979, 3.681436000000005, 7.19970808299999, 12.409618499999965, 19.79830904199997] [9.766867500000024e-07, 2.7212787499999536e-05, 6.809751669999997e-05, 0.0001841995333, 0.0003652763330000113, 0.0007098710830000243, 0.0012085705830000393, 0.0018259135419999666]\n",
      "29.9 s ± 39.2 ms per loop (mean ± std. dev. of 7 runs, 1 loop each)\n",
      "2.48 ms ± 36 µs per loop (mean ± std. dev. of 7 runs, 100 loops each)\n",
      "400 [1.0824055e-06, 0.05716558340000013, 0.4563117500000047, 1.5624529999999979, 3.681436000000005, 7.19970808299999, 12.409618499999965, 19.79830904199997, 29.85100687499994] [9.766867500000024e-07, 2.7212787499999536e-05, 6.809751669999997e-05, 0.0001841995333, 0.0003652763330000113, 0.0007098710830000243, 0.0012085705830000393, 0.0018259135419999666, 0.0024039608400005363]\n",
      "42.4 s ± 73.8 ms per loop (mean ± std. dev. of 7 runs, 1 loop each)\n",
      "3.61 ms ± 139 µs per loop (mean ± std. dev. of 7 runs, 100 loops each)\n",
      "450 [1.0824055e-06, 0.05716558340000013, 0.4563117500000047, 1.5624529999999979, 3.681436000000005, 7.19970808299999, 12.409618499999965, 19.79830904199997, 29.85100687499994, 42.310106958000006] [9.766867500000024e-07, 2.7212787499999536e-05, 6.809751669999997e-05, 0.0001841995333, 0.0003652763330000113, 0.0007098710830000243, 0.0012085705830000393, 0.0018259135419999666, 0.0024039608400005363, 0.0034859729099980543]\n",
      "58.4 s ± 37.5 ms per loop (mean ± std. dev. of 7 runs, 1 loop each)\n",
      "4.61 ms ± 409 µs per loop (mean ± std. dev. of 7 runs, 100 loops each)\n",
      "500 [1.0824055e-06, 0.05716558340000013, 0.4563117500000047, 1.5624529999999979, 3.681436000000005, 7.19970808299999, 12.409618499999965, 19.79830904199997, 29.85100687499994, 42.310106958000006, 58.34463708299995] [9.766867500000024e-07, 2.7212787499999536e-05, 6.809751669999997e-05, 0.0001841995333, 0.0003652763330000113, 0.0007098710830000243, 0.0012085705830000393, 0.0018259135419999666, 0.0024039608400005363, 0.0034859729099980543, 0.0042304858400007105]\n"
     ]
    },
    {
     "data": {
      "text/plain": [
       "Text(0, 0.5, 'time_cost')"
      ]
     },
     "execution_count": 1,
     "metadata": {},
     "output_type": "execute_result"
    },
    {
     "data": {
      "image/png": "[encoded data removed]",
      "text/plain": [
       "<Figure size 432x288 with 1 Axes>"
      ]
     },
     "metadata": {
      "needs_background": "light"
     },
     "output_type": "display_data"
    }
   ],
   "source": [
    "import numpy as np\n",
    "import matplotlib.pyplot as plt\n",
    "\n",
    "def matrix_product(mat_a, mat_b):\n",
    "    \"\"\"Returns the product of the matrices mat_a and mat_b.\"\"\"\n",
    "    m = mat_a.shape[0] #num of a's rows\n",
    "    n = mat_b.shape[1] #num of b's cols\n",
    "\n",
    "    assert(mat_a.shape[1] == mat_b.shape[0]) #只有当a矩阵行数等于b矩阵列数时，以下代码可执行\n",
    "\n",
    "    ncol = mat_a.shape[1] #num of a's cols\n",
    "\n",
    "    mat_c = np.zeros((m, n), dtype=np.float64) #返回给定形状和类型的以0填充的数组\n",
    "\n",
    "    for row_ind in range(m):\n",
    "        for col_ind in range(n):\n",
    "            for k in range(ncol):\n",
    "                mat_c[row_ind, col_ind] += mat_a[row_ind, k] * mat_b[k, col_ind]\n",
    "\n",
    "    return mat_c\n",
    "\n",
    "x = np.arange(0,550,50)\n",
    "time_actual = []\n",
    "time_expected = []\n",
    "for i in x:\n",
    "  a = np.random.randn(i, i) #返回指定形状的数组，randn()返回具有标准正态分布的一组样本\n",
    "  b = np.random.randn(i, i)\n",
    "\n",
    "  c_actual = matrix_product(a, b)\n",
    "  c_expected = a @ b \n",
    "\n",
    "  timeit_result_actual = %timeit -o matrix_product(a, b)\n",
    "  time_actual.append(timeit_result_actual.best)\n",
    "\n",
    "  timeit_result_expected = %timeit -o a @ b\n",
    "  time_expected.append(timeit_result_expected.best)\n",
    "\n",
    "  print(i, time_actual, time_expected)\n",
    "\n",
    "y1 = time_actual\n",
    "y2 = time_expected\n",
    "\n",
    "plt.scatter(x, y1, color='g', label='c_actual')\n",
    "plt.scatter(x, y2, color='b', label='c_expected')\n",
    "plt.xlabel('dimensions of matrix')\n",
    "plt.ylabel('time_cost')"
   ]
  },
  {
   "cell_type": "code",
   "execution_count": null,
   "id": "4cc46956-9769-43a0-b693-782a53eac99a",
   "metadata": {},
   "outputs": [],
   "source": [
    "import numpy as np\n",
    "import matplotlib.pyplot as plt\n",
    "\n",
    "@jit\n",
    "def matrix_product(mat_a, mat_b):\n",
    "    \"\"\"Returns the product of the matrices mat_a and mat_b.\"\"\"\n",
    "    m = mat_a.shape[0] #num of a's rows\n",
    "    n = mat_b.shape[1] #num of b's cols\n",
    "\n",
    "    assert(mat_a.shape[1] == mat_b.shape[0]) #只有当a矩阵行数等于b矩阵列数时，以下代码可执行\n",
    "\n",
    "    ncol = mat_a.shape[1] #num of a's cols\n",
    "\n",
    "    mat_c = np.zeros((m, n), dtype=np.float64) #返回给定形状和类型的以0填充的数组\n",
    "\n",
    "    for row_ind in range(m):\n",
    "        for col_ind in range(n):\n",
    "            for k in range(ncol):\n",
    "                mat_c[row_ind, col_ind] += mat_a[row_ind, k] * mat_b[k, col_ind]\n",
    "\n",
    "    return mat_c\n",
    "\n",
    "x = np.arange(0,550,50)\n",
    "time_actual = []\n",
    "time_expected = []\n",
    "\n",
    "@jit\n",
    "for i in x:\n",
    "  a = np.random.randn(i, i) #返回指定形状的数组，randn()返回具有标准正态分布的一组样本\n",
    "  b = np.random.randn(i, i)\n",
    "\n",
    "  c_actual = matrix_product(a, b)\n",
    "  c_expected = a @ b \n",
    "\n",
    "  timeit_result_actual = %timeit -o matrix_product(a, b)\n",
    "  time_actual.append(timeit_result_actual.best)\n",
    "\n",
    "  timeit_result_expected = %timeit -o a @ b\n",
    "  time_expected.append(timeit_result_expected.best)\n",
    "\n",
    "print(x, time_actual, time_expected)\n",
    "\n",
    "y1 = time_actual\n",
    "y2 = time_expected\n",
    "\n",
    "plt.scatter(x, y1, color='g', label='c_actual')\n",
    "plt.scatter(x, y2, color='b', label='c_expected')\n",
    "plt.xlabel('dimensions of matrix')\n",
    "plt.ylabel('time_cost')"
   ]
  }
 ],
 "metadata": {
  "kernelspec": {
   "display_name": "Python 3",
   "language": "python",
   "name": "python3"
  },
  "language_info": {
   "codemirror_mode": {
    "name": "ipython",
    "version": 3
   },
   "file_extension": ".py",
   "mimetype": "text/x-python",
   "name": "python",
   "nbconvert_exporter": "python",
   "pygments_lexer": "ipython3",
   "version": "3.8.8"
  }
 },
 "nbformat": 4,
 "nbformat_minor": 5
}
